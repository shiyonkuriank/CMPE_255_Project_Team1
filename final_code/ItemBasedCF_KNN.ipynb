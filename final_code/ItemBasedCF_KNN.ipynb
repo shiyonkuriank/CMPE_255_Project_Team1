{
 "cells": [
  {
   "cell_type": "code",
   "execution_count": 270,
   "id": "60d771fa",
   "metadata": {},
   "outputs": [],
   "source": [
    "import pandas as pd\n",
    "import numpy as np\n",
    "from surprise import KNNBasic\n",
    "from surprise import KNNBasic\n",
    "from surprise import KNNWithMeans\n",
    "from surprise import Dataset\n",
    "from surprise.model_selection import train_test_split\n",
    "from surprise import accuracy\n",
    "from surprise import Reader\n",
    "import matplotlib.pyplot as plt\n",
    "plt.rcParams.update({'figure.max_open_warning': 0})\n",
    "import seaborn as sns\n",
    "sns.set_style('whitegrid')\n",
    "import warnings\n",
    "warnings.filterwarnings(\"ignore\")"
   ]
  },
  {
   "cell_type": "code",
   "execution_count": 271,
   "id": "8600d36e",
   "metadata": {},
   "outputs": [],
   "source": [
    "ratings_df = pd.read_csv('C:\\\\Users\\\\Checkout\\\\Documents\\\\SJSU Spring 2022\\\\CMPE 255\\\\Project\\\\ml-latest-small\\\\ratings.csv')\n",
    "movies_df = pd.read_csv('C:\\\\Users\\\\Checkout\\\\Documents\\\\SJSU Spring 2022\\\\CMPE 255\\\\Project\\\\ml-latest-small\\\\movies.csv')"
   ]
  },
  {
   "cell_type": "code",
   "execution_count": 272,
   "id": "c743d8da",
   "metadata": {},
   "outputs": [],
   "source": [
    "def KNNBasicCF(rating):\n",
    "    reader = Reader(rating_scale=(0,5))\n",
    "    data = Dataset.load_from_df(rating,reader)\n",
    "    my_k = 10\n",
    "    my_min_k = 5\n",
    "    my_sim_option = {'name':'pearson',\n",
    "                     'user_based':False}\n",
    "    algo = KNNWithMeans(k = my_k, min_k = my_min_k, sim_option = my_sim_option)\n",
    "    \n",
    "    trainset, testset = train_test_split(data, test_size=0.25)\n",
    "    predictions = algo.fit(trainset).test(testset)\n",
    "    acc = accuracy.rmse(predictions)\n",
    "    return acc,predictions"
   ]
  },
  {
   "cell_type": "code",
   "execution_count": 273,
   "id": "ac866a1e",
   "metadata": {},
   "outputs": [
    {
     "name": "stdout",
     "output_type": "stream",
     "text": [
      "Computing the msd similarity matrix...\n",
      "Done computing similarity matrix.\n",
      "RMSE: 0.9044\n"
     ]
    }
   ],
   "source": [
    "kNN_model,predictions = KNNBasicCF(ratings_df[['userId','movieId','rating']])"
   ]
  },
  {
   "cell_type": "code",
   "execution_count": 274,
   "id": "5b4b1a42",
   "metadata": {},
   "outputs": [
    {
     "data": {
      "text/html": [
       "<div>\n",
       "<style scoped>\n",
       "    .dataframe tbody tr th:only-of-type {\n",
       "        vertical-align: middle;\n",
       "    }\n",
       "\n",
       "    .dataframe tbody tr th {\n",
       "        vertical-align: top;\n",
       "    }\n",
       "\n",
       "    .dataframe thead th {\n",
       "        text-align: right;\n",
       "    }\n",
       "</style>\n",
       "<table border=\"1\" class=\"dataframe\">\n",
       "  <thead>\n",
       "    <tr style=\"text-align: right;\">\n",
       "      <th></th>\n",
       "      <th>userId</th>\n",
       "      <th>movieId</th>\n",
       "      <th>r_ui</th>\n",
       "      <th>est</th>\n",
       "    </tr>\n",
       "  </thead>\n",
       "  <tbody>\n",
       "    <tr>\n",
       "      <th>0</th>\n",
       "      <td>354</td>\n",
       "      <td>1092</td>\n",
       "      <td>3.5</td>\n",
       "      <td>3.235495</td>\n",
       "    </tr>\n",
       "    <tr>\n",
       "      <th>1</th>\n",
       "      <td>232</td>\n",
       "      <td>70183</td>\n",
       "      <td>3.0</td>\n",
       "      <td>3.512368</td>\n",
       "    </tr>\n",
       "    <tr>\n",
       "      <th>2</th>\n",
       "      <td>588</td>\n",
       "      <td>431</td>\n",
       "      <td>3.0</td>\n",
       "      <td>3.621707</td>\n",
       "    </tr>\n",
       "    <tr>\n",
       "      <th>3</th>\n",
       "      <td>561</td>\n",
       "      <td>1263</td>\n",
       "      <td>4.0</td>\n",
       "      <td>3.769760</td>\n",
       "    </tr>\n",
       "    <tr>\n",
       "      <th>4</th>\n",
       "      <td>424</td>\n",
       "      <td>58559</td>\n",
       "      <td>3.5</td>\n",
       "      <td>4.246578</td>\n",
       "    </tr>\n",
       "  </tbody>\n",
       "</table>\n",
       "</div>"
      ],
      "text/plain": [
       "   userId  movieId  r_ui       est\n",
       "0     354     1092   3.5  3.235495\n",
       "1     232    70183   3.0  3.512368\n",
       "2     588      431   3.0  3.621707\n",
       "3     561     1263   4.0  3.769760\n",
       "4     424    58559   3.5  4.246578"
      ]
     },
     "metadata": {},
     "output_type": "display_data"
    }
   ],
   "source": [
    "#display(predictions)\n",
    "users = []\n",
    "movies = []\n",
    "r_ui = []\n",
    "est = []\n",
    "predictions_df = pd.DataFrame()\n",
    "for prediction in predictions:\n",
    "    if prediction[4]['was_impossible'] == False:\n",
    "        users.append(prediction[0])\n",
    "        movies.append(prediction[1])\n",
    "        r_ui.append(prediction[2])\n",
    "        est.append(prediction[3])\n",
    "predictions_df['userId'] = users \n",
    "predictions_df['movieId'] = movies\n",
    "predictions_df['r_ui'] = r_ui\n",
    "predictions_df['est'] = est\n",
    "display(predictions_df.head())\n",
    "predictions_df.to_csv(\"C:\\\\Users\\\\Checkout\\\\Documents\\\\SJSU Spring 2022\\\\CMPE 255\\\\Project\\\\ml-latest-small\\\\knn_predictions.csv\",index=False)\n",
    "        \n",
    "\n"
   ]
  },
  {
   "cell_type": "code",
   "execution_count": 275,
   "id": "353aa808",
   "metadata": {},
   "outputs": [],
   "source": [
    "user_counts = df_new.groupby('userId').size()"
   ]
  },
  {
   "cell_type": "code",
   "execution_count": 276,
   "id": "beb15bd4",
   "metadata": {},
   "outputs": [
    {
     "data": {
      "text/plain": [
       "[(0.0, 300.0),\n",
       " (0.0, 500.0),\n",
       " Text(0.5, 1.0, 'Distribution of User Ratings'),\n",
       " Text(0.5, 0, 'Number of Ratings')]"
      ]
     },
     "execution_count": 276,
     "metadata": {},
     "output_type": "execute_result"
    },
    {
     "data": {
      "image/png": "[encoded data removed]",
      "text/plain": [
       "<Figure size 576x432 with 1 Axes>"
      ]
     },
     "metadata": {},
     "output_type": "display_data"
    }
   ],
   "source": [
    "fig, ax = plt.subplots(figsize=(8, 6))\n",
    "sns.set_style('whitegrid')\n",
    "\n",
    "sns.histplot(user_counts, binwidth=20, ax=ax)\n",
    "ax.set(ylim=[0,300], xlim=[0,500], title='Distribution of User Ratings', xlabel='Number of Ratings')"
   ]
  },
  {
   "cell_type": "code",
   "execution_count": 277,
   "id": "bc0aaf76",
   "metadata": {},
   "outputs": [],
   "source": [
    "# classify user base on counts of rating\n",
    "active_levels = ['<20', '20-50', '50-80', '80-150', '>150']\n",
    "\n",
    "user_counts_levels = dict.fromkeys(active_levels, None)\n",
    "user_counts_levels['<20'] = user_counts[(user_counts < 20)]\n",
    "user_counts_levels['20-50'] = user_counts[(user_counts >= 20) & (user_counts < 50)]\n",
    "user_counts_levels['50-80'] = user_counts[(user_counts >= 50) & (user_counts < 80)]\n",
    "user_counts_levels['80-150'] = user_counts[(user_counts >= 80) & (user_counts < 150)]\n",
    "user_counts_levels['>150'] = user_counts[user_counts >= 150]"
   ]
  },
  {
   "cell_type": "code",
   "execution_count": 278,
   "id": "b8a006d3",
   "metadata": {},
   "outputs": [
    {
     "name": "stdout",
     "output_type": "stream",
     "text": [
      "322\n",
      "Computing the msd similarity matrix...\n",
      "Done computing similarity matrix.\n",
      "RMSE: 1.2629\n",
      "6962\n",
      "Computing the msd similarity matrix...\n",
      "Done computing similarity matrix.\n",
      "RMSE: 0.9495\n",
      "6217\n",
      "Computing the msd similarity matrix...\n",
      "Done computing similarity matrix.\n",
      "RMSE: 0.9077\n",
      "12384\n",
      "Computing the msd similarity matrix...\n",
      "Done computing similarity matrix.\n",
      "RMSE: 0.9636\n",
      "53751\n",
      "Computing the msd similarity matrix...\n",
      "Done computing similarity matrix.\n",
      "RMSE: 0.8401\n"
     ]
    }
   ],
   "source": [
    "# calculate rmse for all groups of user\n",
    "user_level_rmse = []\n",
    "for key in active_levels:\n",
    "    indices = user_counts_levels[key].index.tolist()\n",
    "    pred_df = df_new[df_new['userId'].isin(indices)]\n",
    "    print(len(pred_df))\n",
    "    #y_true = pred_df['rating']\n",
    "    y_rmse,r_pred = KNNBasicCF(pred_df[['userId','movieId','rating']])\n",
    "    user_level_rmse.append(y_rmse)"
   ]
  },
  {
   "cell_type": "code",
   "execution_count": 279,
   "id": "29070da5",
   "metadata": {},
   "outputs": [
    {
     "data": {
      "text/plain": [
       "[[Text(0, 0, '<20'),\n",
       "  Text(1, 0, '20-50'),\n",
       "  Text(2, 0, '50-80'),\n",
       "  Text(3, 0, '80-150'),\n",
       "  Text(4, 0, '>150')],\n",
       " Text(0.5, 0, 'Number of ratings'),\n",
       " Text(0, 0.5, 'rmse')]"
      ]
     },
     "execution_count": 279,
     "metadata": {},
     "output_type": "execute_result"
    },
    {
     "data": {
      "image/png": "[encoded data removed]",
      "text/plain": [
       "<Figure size 576x432 with 1 Axes>"
      ]
     },
     "metadata": {},
     "output_type": "display_data"
    }
   ],
   "source": [
    "fig, ax = plt.subplots(figsize=(8, 6))\n",
    "sns.set_style('whitegrid')\n",
    "\n",
    "sns.pointplot(y=user_level_rmse, x=np.arange(5))\n",
    "ax.set(xticklabels=active_levels, xlabel='Number of ratings', ylabel='rmse')"
   ]
  },
  {
   "cell_type": "code",
   "execution_count": null,
   "id": "5f12846b",
   "metadata": {},
   "outputs": [],
   "source": []
  }
 ],
 "metadata": {
  "kernelspec": {
   "display_name": "Python 3 (ipykernel)",
   "language": "python",
   "name": "python3"
  },
  "language_info": {
   "codemirror_mode": {
    "name": "ipython",
    "version": 3
   },
   "file_extension": ".py",
   "mimetype": "text/x-python",
   "name": "python",
   "nbconvert_exporter": "python",
   "pygments_lexer": "ipython3",
   "version": "3.9.12"
  }
 },
 "nbformat": 4,
 "nbformat_minor": 5
}
