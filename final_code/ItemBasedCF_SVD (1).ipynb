{
 "cells": [
  {
   "cell_type": "code",
   "execution_count": 7,
   "id": "6166c6c8",
   "metadata": {},
   "outputs": [],
   "source": [
    "# import libraries\n",
    "\n",
    "import pandas as pd\n",
    "import numpy as np\n",
    "from surprise import SVD\n",
    "from surprise import Dataset\n",
    "from surprise.model_selection import train_test_split\n",
    "from surprise import accuracy\n",
    "from surprise import Reader\n",
    "import matplotlib.pyplot as plt\n",
    "plt.rcParams.update({'figure.max_open_warning': 0})\n",
    "import seaborn as sns\n",
    "sns.set_style('whitegrid')\n",
    "from collections import OrderedDict\n",
    "import warnings\n",
    "warnings.filterwarnings(\"ignore\")"
   ]
  },
  {
   "cell_type": "code",
   "execution_count": 8,
   "id": "bb756a4f",
   "metadata": {},
   "outputs": [],
   "source": [
    "# Reading ratings file\n",
    "ratings_df = pd.read_csv('H:\\\\255\\\\ml-latest-small\\\\ratings.csv')\n",
    "# Reading movies file\n",
    "movies_df = pd.read_csv('H:\\\\255\\\\ml-latest-small\\\\movies.csv')"
   ]
  },
  {
   "cell_type": "code",
   "execution_count": 9,
   "id": "4dca495e",
   "metadata": {},
   "outputs": [],
   "source": [
    "def SVDCF(ratings):\n",
    "    reader = Reader(rating_scale=(0,5))\n",
    "    data = Dataset.load_from_df(ratings,reader)\n",
    "    svd = SVD()\n",
    "    trainset, testset = train_test_split(data, test_size=0.20)\n",
    "    predictions = svd.fit(trainset).test(testset)\n",
    "    acc = accuracy.rmse(predictions)\n",
    "    return acc,predictions"
   ]
  },
  {
   "cell_type": "code",
   "execution_count": 10,
   "id": "16a3eef5",
   "metadata": {},
   "outputs": [
    {
     "name": "stdout",
     "output_type": "stream",
     "text": [
      "RMSE: 0.8776\n"
     ]
    }
   ],
   "source": [
    "svd_model,predictions = SVDCF(ratings_df[['userId','movieId','rating']])"
   ]
  },
  {
   "cell_type": "code",
   "execution_count": 17,
   "id": "43e00e52",
   "metadata": {},
   "outputs": [
    {
     "data": {
      "text/html": [
       "<div>\n",
       "<style scoped>\n",
       "    .dataframe tbody tr th:only-of-type {\n",
       "        vertical-align: middle;\n",
       "    }\n",
       "\n",
       "    .dataframe tbody tr th {\n",
       "        vertical-align: top;\n",
       "    }\n",
       "\n",
       "    .dataframe thead th {\n",
       "        text-align: right;\n",
       "    }\n",
       "</style>\n",
       "<table border=\"1\" class=\"dataframe\">\n",
       "  <thead>\n",
       "    <tr style=\"text-align: right;\">\n",
       "      <th></th>\n",
       "      <th>userId</th>\n",
       "      <th>movieId</th>\n",
       "      <th>r_ui</th>\n",
       "      <th>est</th>\n",
       "    </tr>\n",
       "  </thead>\n",
       "  <tbody>\n",
       "    <tr>\n",
       "      <th>0</th>\n",
       "      <td>274</td>\n",
       "      <td>5308</td>\n",
       "      <td>2.0</td>\n",
       "      <td>3.046155</td>\n",
       "    </tr>\n",
       "    <tr>\n",
       "      <th>1</th>\n",
       "      <td>596</td>\n",
       "      <td>1610</td>\n",
       "      <td>3.5</td>\n",
       "      <td>3.830960</td>\n",
       "    </tr>\n",
       "    <tr>\n",
       "      <th>2</th>\n",
       "      <td>19</td>\n",
       "      <td>3258</td>\n",
       "      <td>2.0</td>\n",
       "      <td>2.493855</td>\n",
       "    </tr>\n",
       "    <tr>\n",
       "      <th>3</th>\n",
       "      <td>474</td>\n",
       "      <td>2952</td>\n",
       "      <td>4.0</td>\n",
       "      <td>3.433515</td>\n",
       "    </tr>\n",
       "    <tr>\n",
       "      <th>4</th>\n",
       "      <td>210</td>\n",
       "      <td>147384</td>\n",
       "      <td>4.5</td>\n",
       "      <td>4.387108</td>\n",
       "    </tr>\n",
       "  </tbody>\n",
       "</table>\n",
       "</div>"
      ],
      "text/plain": [
       "   userId  movieId  r_ui       est\n",
       "0     274     5308   2.0  3.046155\n",
       "1     596     1610   3.5  3.830960\n",
       "2      19     3258   2.0  2.493855\n",
       "3     474     2952   4.0  3.433515\n",
       "4     210   147384   4.5  4.387108"
      ]
     },
     "metadata": {},
     "output_type": "display_data"
    }
   ],
   "source": [
    "#display(predictions)\n",
    "users = []\n",
    "movies = []\n",
    "r_ui = []\n",
    "est = []\n",
    "predictions_df = pd.DataFrame()\n",
    "for prediction in predictions:\n",
    "    if prediction[4]['was_impossible'] == False:\n",
    "        users.append(prediction[0])\n",
    "        movies.append(prediction[1])\n",
    "        r_ui.append(prediction[2])\n",
    "        est.append(prediction[3])\n",
    "predictions_df['userId'] = users \n",
    "predictions_df['movieId'] = movies\n",
    "predictions_df['r_ui'] = r_ui\n",
    "predictions_df['est'] = est\n",
    "display(predictions_df.head())\n",
    "predictions_df.to_csv(\"svd_predictions.csv\",index=False)\n",
    "        \n",
    "\n"
   ]
  },
  {
   "cell_type": "code",
   "execution_count": 12,
   "id": "0596ce6c",
   "metadata": {},
   "outputs": [
    {
     "name": "stdout",
     "output_type": "stream",
     "text": [
      "20\n"
     ]
    }
   ],
   "source": [
    "user_counts = ratings_df.groupby('userId').size()\n",
    "print(min(user_counts))"
   ]
  },
  {
   "cell_type": "code",
   "execution_count": 13,
   "id": "a5b2c6e2",
   "metadata": {},
   "outputs": [
    {
     "data": {
      "text/plain": [
       "[(0.0, 300.0),\n",
       " (0.0, 500.0),\n",
       " Text(0.5, 1.0, 'Distribution of User Ratings'),\n",
       " Text(0.5, 0, 'Number of Ratings')]"
      ]
     },
     "execution_count": 13,
     "metadata": {},
     "output_type": "execute_result"
    },
    {
     "data": {
      "image/png": "[encoded data removed]",
      "text/plain": [
       "<Figure size 576x432 with 1 Axes>"
      ]
     },
     "metadata": {},
     "output_type": "display_data"
    }
   ],
   "source": [
    "fig, ax = plt.subplots(figsize=(8, 6))\n",
    "sns.set_style('whitegrid')\n",
    "\n",
    "sns.histplot(user_counts, binwidth=20, ax=ax)\n",
    "ax.set(ylim=[0,300], xlim=[0,500], title='Distribution of User Ratings', xlabel='Number of Ratings')"
   ]
  },
  {
   "cell_type": "code",
   "execution_count": 16,
   "id": "62a00949",
   "metadata": {},
   "outputs": [],
   "source": [
    "# classify user base on counts of rating\n",
    "active_levels = ['20-50', '50-80', '80-150', '>150']\n",
    "\n",
    "user_counts_levels = dict.fromkeys(active_levels, None)\n",
    "user_counts_levels['20-50'] = user_counts[(user_counts >= 20) & (user_counts < 50)]\n",
    "user_counts_levels['50-80'] = user_counts[(user_counts >= 50) & (user_counts < 80)]\n",
    "user_counts_levels['80-150'] = user_counts[(user_counts >= 80) & (user_counts < 150)]\n",
    "user_counts_levels['>150'] = user_counts[user_counts >= 150]"
   ]
  },
  {
   "cell_type": "code",
   "execution_count": 15,
   "id": "5e5076d1",
   "metadata": {},
   "outputs": [
    {
     "name": "stdout",
     "output_type": "stream",
     "text": [
      "7024\n",
      "RMSE: 0.9686\n",
      "6110\n",
      "RMSE: 0.9233\n",
      "12108\n",
      "RMSE: 0.9266\n",
      "75594\n",
      "RMSE: 0.8629\n"
     ]
    }
   ],
   "source": [
    "# calculate rmse for all groups of user\n",
    "user_level_rmse = []\n",
    "for key in active_levels:\n",
    "    indices = user_counts_levels[key].index.tolist()\n",
    "    pred_df = ratings_df[ratings_df['userId'].isin(indices)]\n",
    "    print(len(pred_df))\n",
    "    #y_true = pred_df['rating']\n",
    "    y_rmse,r_pred = SVDCF(pred_df[['userId','movieId','rating']])\n",
    "    user_level_rmse.append(y_rmse)"
   ]
  },
  {
   "cell_type": "code",
   "execution_count": 209,
   "id": "4de71793",
   "metadata": {},
   "outputs": [
    {
     "data": {
      "text/plain": [
       "[[Text(0, 0, '20-50'),\n",
       "  Text(1, 0, '50-80'),\n",
       "  Text(2, 0, '80-150'),\n",
       "  Text(3, 0, '>150')],\n",
       " Text(0.5, 0, 'Number of ratings'),\n",
       " Text(0, 0.5, 'rmse')]"
      ]
     },
     "execution_count": 209,
     "metadata": {},
     "output_type": "execute_result"
    },
    {
     "data": {
      "image/png": "[encoded data removed]",
      "text/plain": [
       "<Figure size 576x432 with 1 Axes>"
      ]
     },
     "metadata": {},
     "output_type": "display_data"
    }
   ],
   "source": [
    "fig, ax = plt.subplots(figsize=(8, 6))\n",
    "sns.set_style('whitegrid')\n",
    "\n",
    "sns.pointplot(y=user_level_rmse, x=np.arange(4))\n",
    "ax.set(xticklabels=active_levels, xlabel='Number of ratings', ylabel='rmse')"
   ]
  },
  {
   "cell_type": "code",
   "execution_count": null,
   "id": "b32745c4",
   "metadata": {},
   "outputs": [],
   "source": []
  }
 ],
 "metadata": {
  "kernelspec": {
   "display_name": "Python 3 (ipykernel)",
   "language": "python",
   "name": "python3"
  },
  "language_info": {
   "codemirror_mode": {
    "name": "ipython",
    "version": 3
   },
   "file_extension": ".py",
   "mimetype": "text/x-python",
   "name": "python",
   "nbconvert_exporter": "python",
   "pygments_lexer": "ipython3",
   "version": "3.9.7"
  }
 },
 "nbformat": 4,
 "nbformat_minor": 5
}
