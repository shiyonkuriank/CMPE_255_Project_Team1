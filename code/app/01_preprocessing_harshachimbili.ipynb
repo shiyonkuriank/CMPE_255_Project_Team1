{
 "cells": [
  {
   "cell_type": "code",
   "execution_count": 721,
   "id": "876393f0",
   "metadata": {},
   "outputs": [],
   "source": [
    "import pandas as pd\n",
    "import matplotlib.pyplot as plt\n",
    "import seaborn as sns\n",
    "import numpy as np\n",
    "import datetime as dt\n",
    "import plotly as py\n",
    "from chart_studio import plotly\n",
    "import plotly.express as px\n",
    "import plotly.graph_objs as go\n",
    "from wordcloud import WordCloud\n",
    "from plotly.offline import download_plotlyjs, init_notebook_mode, plot, iplot\n",
    "import math\n",
    "import warnings\n",
    "from sklearn.cluster import KMeans\n",
    "warnings.filterwarnings(\"ignore\")\n",
    "\n"
   ]
  },
  {
   "cell_type": "code",
   "execution_count": 722,
   "id": "8990aa6d",
   "metadata": {},
   "outputs": [
    {
     "data": {
      "text/html": [
       "<div>\n",
       "<style scoped>\n",
       "    .dataframe tbody tr th:only-of-type {\n",
       "        vertical-align: middle;\n",
       "    }\n",
       "\n",
       "    .dataframe tbody tr th {\n",
       "        vertical-align: top;\n",
       "    }\n",
       "\n",
       "    .dataframe thead th {\n",
       "        text-align: right;\n",
       "    }\n",
       "</style>\n",
       "<table border=\"1\" class=\"dataframe\">\n",
       "  <thead>\n",
       "    <tr style=\"text-align: right;\">\n",
       "      <th></th>\n",
       "      <th>revenue</th>\n",
       "      <th>vote_average</th>\n",
       "      <th>vote_count</th>\n",
       "      <th>runtimes</th>\n",
       "    </tr>\n",
       "  </thead>\n",
       "  <tbody>\n",
       "    <tr>\n",
       "      <th>count</th>\n",
       "      <td>1.000000e+04</td>\n",
       "      <td>10000.00000</td>\n",
       "      <td>10000.000000</td>\n",
       "      <td>9880.000000</td>\n",
       "    </tr>\n",
       "    <tr>\n",
       "      <th>mean</th>\n",
       "      <td>3.011465e+07</td>\n",
       "      <td>5.62239</td>\n",
       "      <td>306.007400</td>\n",
       "      <td>100.250304</td>\n",
       "    </tr>\n",
       "    <tr>\n",
       "      <th>std</th>\n",
       "      <td>1.007216e+08</td>\n",
       "      <td>1.73693</td>\n",
       "      <td>899.275606</td>\n",
       "      <td>21.059847</td>\n",
       "    </tr>\n",
       "    <tr>\n",
       "      <th>min</th>\n",
       "      <td>0.000000e+00</td>\n",
       "      <td>0.00000</td>\n",
       "      <td>0.000000</td>\n",
       "      <td>5.000000</td>\n",
       "    </tr>\n",
       "    <tr>\n",
       "      <th>25%</th>\n",
       "      <td>0.000000e+00</td>\n",
       "      <td>5.10000</td>\n",
       "      <td>9.000000</td>\n",
       "      <td>89.000000</td>\n",
       "    </tr>\n",
       "    <tr>\n",
       "      <th>50%</th>\n",
       "      <td>0.000000e+00</td>\n",
       "      <td>6.00000</td>\n",
       "      <td>40.000000</td>\n",
       "      <td>97.000000</td>\n",
       "    </tr>\n",
       "    <tr>\n",
       "      <th>75%</th>\n",
       "      <td>1.326253e+07</td>\n",
       "      <td>6.70000</td>\n",
       "      <td>189.000000</td>\n",
       "      <td>109.000000</td>\n",
       "    </tr>\n",
       "    <tr>\n",
       "      <th>max</th>\n",
       "      <td>3.000000e+09</td>\n",
       "      <td>10.00000</td>\n",
       "      <td>16852.000000</td>\n",
       "      <td>480.000000</td>\n",
       "    </tr>\n",
       "  </tbody>\n",
       "</table>\n",
       "</div>"
      ],
      "text/plain": [
       "            revenue  vote_average    vote_count     runtimes\n",
       "count  1.000000e+04   10000.00000  10000.000000  9880.000000\n",
       "mean   3.011465e+07       5.62239    306.007400   100.250304\n",
       "std    1.007216e+08       1.73693    899.275606    21.059847\n",
       "min    0.000000e+00       0.00000      0.000000     5.000000\n",
       "25%    0.000000e+00       5.10000      9.000000    89.000000\n",
       "50%    0.000000e+00       6.00000     40.000000    97.000000\n",
       "75%    1.326253e+07       6.70000    189.000000   109.000000\n",
       "max    3.000000e+09      10.00000  16852.000000   480.000000"
      ]
     },
     "execution_count": 722,
     "metadata": {},
     "output_type": "execute_result"
    }
   ],
   "source": [
    "filepath = \"C:\\\\Users\\\\Checkout\\\\Documents\\\\SJSU Spring 2022\\\\CMPE 255\\\\Project\\\\team1-movie-recommendation-system\\\\code\\\\data\\\\Movies.csv\"\n",
    "movies = pd.read_csv(filepath,parse_dates=['release_date'])\n",
    "movies.describe()\n"
   ]
  },
  {
   "cell_type": "code",
   "execution_count": 723,
   "id": "22eff285",
   "metadata": {},
   "outputs": [
    {
     "data": {
      "text/html": [
       "<div>\n",
       "<style scoped>\n",
       "    .dataframe tbody tr th:only-of-type {\n",
       "        vertical-align: middle;\n",
       "    }\n",
       "\n",
       "    .dataframe tbody tr th {\n",
       "        vertical-align: top;\n",
       "    }\n",
       "\n",
       "    .dataframe thead th {\n",
       "        text-align: right;\n",
       "    }\n",
       "</style>\n",
       "<table border=\"1\" class=\"dataframe\">\n",
       "  <thead>\n",
       "    <tr style=\"text-align: right;\">\n",
       "      <th></th>\n",
       "      <th>revenue</th>\n",
       "      <th>vote_average</th>\n",
       "      <th>vote_count</th>\n",
       "      <th>title</th>\n",
       "      <th>original_language</th>\n",
       "      <th>release_date</th>\n",
       "      <th>production_companies</th>\n",
       "      <th>production_countries</th>\n",
       "      <th>genres</th>\n",
       "      <th>director</th>\n",
       "      <th>producer</th>\n",
       "      <th>cast</th>\n",
       "      <th>runtimes</th>\n",
       "      <th>writer</th>\n",
       "    </tr>\n",
       "  </thead>\n",
       "  <tbody>\n",
       "    <tr>\n",
       "      <th>3174</th>\n",
       "      <td>37962774.0</td>\n",
       "      <td>5.1</td>\n",
       "      <td>290</td>\n",
       "      <td>Howard the Duck</td>\n",
       "      <td>en</td>\n",
       "      <td>1986-08-01</td>\n",
       "      <td>Lucasfilm,Universal Pictures</td>\n",
       "      <td>United States of America</td>\n",
       "      <td>Comedy,Fantasy,Science Fiction</td>\n",
       "      <td>Willard Huyck</td>\n",
       "      <td>Robert Latham Brown,Ian Bryce,Gloria Katz,</td>\n",
       "      <td>Lea Thompson,Jeffrey Jones,Tim Robbins,</td>\n",
       "      <td>110.0</td>\n",
       "      <td>Steve Gerber,Willard Huyck,Gloria Katz,</td>\n",
       "    </tr>\n",
       "    <tr>\n",
       "      <th>5988</th>\n",
       "      <td>0.0</td>\n",
       "      <td>6.2</td>\n",
       "      <td>35</td>\n",
       "      <td>Caveman</td>\n",
       "      <td>en</td>\n",
       "      <td>1981-04-17</td>\n",
       "      <td>Turman-Foster Company</td>\n",
       "      <td>United States of America</td>\n",
       "      <td>Comedy,Adventure</td>\n",
       "      <td>Carl Gottlieb</td>\n",
       "      <td>David Foster,Lawrence Turman</td>\n",
       "      <td>Ringo Starr,Dennis Quaid,Shelley Long,</td>\n",
       "      <td>91.0</td>\n",
       "      <td>Rudy De Luca,Carl Gottlieb</td>\n",
       "    </tr>\n",
       "    <tr>\n",
       "      <th>790</th>\n",
       "      <td>959000.0</td>\n",
       "      <td>7.3</td>\n",
       "      <td>144</td>\n",
       "      <td>The Long Goodbye</td>\n",
       "      <td>en</td>\n",
       "      <td>1973-03-07</td>\n",
       "      <td>Lions Gate Films,E-K-Corporation,United Artists</td>\n",
       "      <td>United States of America</td>\n",
       "      <td>Thriller,Crime,Drama,Mystery</td>\n",
       "      <td>Robert Altman</td>\n",
       "      <td>Jerry Bick,Robert Eggenweiler,Elliott Kastner</td>\n",
       "      <td>Elliott Gould,Nina van Pallandt,Sterling Hayden,</td>\n",
       "      <td>112.0</td>\n",
       "      <td>Leigh Brackett,Raymond Chandler</td>\n",
       "    </tr>\n",
       "    <tr>\n",
       "      <th>7399</th>\n",
       "      <td>0.0</td>\n",
       "      <td>5.9</td>\n",
       "      <td>50</td>\n",
       "      <td>Clownhouse</td>\n",
       "      <td>fr</td>\n",
       "      <td>1989-01-15</td>\n",
       "      <td>Commercial Pictures</td>\n",
       "      <td>United States of America</td>\n",
       "      <td>Horror</td>\n",
       "      <td>Victor Salva</td>\n",
       "      <td>Roman Coppola,Michael Danty,Robin Mortarotti,</td>\n",
       "      <td>Nathan Forrest Winters,Brian McHugh,Sam Rockwell,</td>\n",
       "      <td>81.0</td>\n",
       "      <td>Victor Salva</td>\n",
       "    </tr>\n",
       "    <tr>\n",
       "      <th>3801</th>\n",
       "      <td>0.0</td>\n",
       "      <td>6.8</td>\n",
       "      <td>212</td>\n",
       "      <td>Young Sherlock Holmes</td>\n",
       "      <td>en</td>\n",
       "      <td>1985-12-04</td>\n",
       "      <td>Amblin Entertainment,Paramount</td>\n",
       "      <td>United States of America</td>\n",
       "      <td>Action,Adventure,Family</td>\n",
       "      <td>Barry Levinson</td>\n",
       "      <td>Harry Benn,Mark Johnson,Kathleen Kennedy,</td>\n",
       "      <td>Nicholas Rowe,Alan Cox,Sophie Ward,</td>\n",
       "      <td>109.0</td>\n",
       "      <td>Arthur Conan Doyle,Chris Columbus</td>\n",
       "    </tr>\n",
       "    <tr>\n",
       "      <th>9349</th>\n",
       "      <td>0.0</td>\n",
       "      <td>5.7</td>\n",
       "      <td>12</td>\n",
       "      <td>Paris Blues</td>\n",
       "      <td>en</td>\n",
       "      <td>1961-09-27</td>\n",
       "      <td>Monmouth,Pennebaker Productions,Diane Producti...</td>\n",
       "      <td>United States of America</td>\n",
       "      <td>Romance,Drama,Music</td>\n",
       "      <td>Martin Ritt</td>\n",
       "      <td>Georges Glass,Walter Seltzer,Sam Shaw,</td>\n",
       "      <td>Paul Newman,Joanne Woodward,Sidney Poitier,</td>\n",
       "      <td>98.0</td>\n",
       "      <td>Jack Sher,Irene Kamp,Walter Bernstein,</td>\n",
       "    </tr>\n",
       "    <tr>\n",
       "      <th>258</th>\n",
       "      <td>363889678.0</td>\n",
       "      <td>7.0</td>\n",
       "      <td>1798</td>\n",
       "      <td>Notting Hill</td>\n",
       "      <td>en</td>\n",
       "      <td>1999-05-13</td>\n",
       "      <td>Notting Hill Pictures,Polygram Filmed Entertai...</td>\n",
       "      <td>United Kingdom,United States of America</td>\n",
       "      <td>Romance,Comedy,Drama</td>\n",
       "      <td>Roger Michell</td>\n",
       "      <td>Tim Bevan,Richard Curtis,Eric Fellner,</td>\n",
       "      <td>Julia Roberts,Hugh Grant,Richard McCabe,</td>\n",
       "      <td>124.0</td>\n",
       "      <td>Richard Curtis</td>\n",
       "    </tr>\n",
       "    <tr>\n",
       "      <th>2360</th>\n",
       "      <td>98376292.0</td>\n",
       "      <td>5.7</td>\n",
       "      <td>842</td>\n",
       "      <td>Evolution</td>\n",
       "      <td>en</td>\n",
       "      <td>2001-06-08</td>\n",
       "      <td>Montecito Picture Company, The,Columbia Pictur...</td>\n",
       "      <td>United States of America</td>\n",
       "      <td>Action,Comedy,Science Fiction</td>\n",
       "      <td>J.T.S. Moore</td>\n",
       "      <td>J.T.S. Moore</td>\n",
       "      <td>Linus Torvalds,Richard M. Stallman,Eric Raymond,</td>\n",
       "      <td>85.0</td>\n",
       "      <td>J.T.S. Moore</td>\n",
       "    </tr>\n",
       "    <tr>\n",
       "      <th>6620</th>\n",
       "      <td>0.0</td>\n",
       "      <td>4.0</td>\n",
       "      <td>12</td>\n",
       "      <td>The Crypt</td>\n",
       "      <td>en</td>\n",
       "      <td>2009-01-01</td>\n",
       "      <td>NaN</td>\n",
       "      <td>United States of America</td>\n",
       "      <td>Horror</td>\n",
       "      <td>Craig McMahon</td>\n",
       "      <td>Cecil Chambers,Nathan Hill,Craig McMahon</td>\n",
       "      <td>Sarah Oh,Mike Ranallo,Abra May,</td>\n",
       "      <td>84.0</td>\n",
       "      <td>Craig McMahon</td>\n",
       "    </tr>\n",
       "    <tr>\n",
       "      <th>3962</th>\n",
       "      <td>24444121.0</td>\n",
       "      <td>7.4</td>\n",
       "      <td>295</td>\n",
       "      <td>Sling Blade</td>\n",
       "      <td>en</td>\n",
       "      <td>1996-08-30</td>\n",
       "      <td>Miramax Films</td>\n",
       "      <td>United States of America</td>\n",
       "      <td>Drama</td>\n",
       "      <td>Billy Bob Thornton</td>\n",
       "      <td>David L. Bushell,Larry Meistrich,Brandon Rosser</td>\n",
       "      <td>Billy Bob Thornton,Dwight Yoakam,J.T. Walsh,</td>\n",
       "      <td>135.0</td>\n",
       "      <td>Billy Bob Thornton,Billy Bob Thornton</td>\n",
       "    </tr>\n",
       "  </tbody>\n",
       "</table>\n",
       "</div>"
      ],
      "text/plain": [
       "          revenue  vote_average  vote_count                  title  \\\n",
       "3174   37962774.0           5.1         290        Howard the Duck   \n",
       "5988          0.0           6.2          35                Caveman   \n",
       "790      959000.0           7.3         144       The Long Goodbye   \n",
       "7399          0.0           5.9          50             Clownhouse   \n",
       "3801          0.0           6.8         212  Young Sherlock Holmes   \n",
       "9349          0.0           5.7          12            Paris Blues   \n",
       "258   363889678.0           7.0        1798           Notting Hill   \n",
       "2360   98376292.0           5.7         842              Evolution   \n",
       "6620          0.0           4.0          12              The Crypt   \n",
       "3962   24444121.0           7.4         295            Sling Blade   \n",
       "\n",
       "     original_language release_date  \\\n",
       "3174                en   1986-08-01   \n",
       "5988                en   1981-04-17   \n",
       "790                 en   1973-03-07   \n",
       "7399                fr   1989-01-15   \n",
       "3801                en   1985-12-04   \n",
       "9349                en   1961-09-27   \n",
       "258                 en   1999-05-13   \n",
       "2360                en   2001-06-08   \n",
       "6620                en   2009-01-01   \n",
       "3962                en   1996-08-30   \n",
       "\n",
       "                                   production_companies  \\\n",
       "3174                       Lucasfilm,Universal Pictures   \n",
       "5988                              Turman-Foster Company   \n",
       "790     Lions Gate Films,E-K-Corporation,United Artists   \n",
       "7399                                Commercial Pictures   \n",
       "3801                     Amblin Entertainment,Paramount   \n",
       "9349  Monmouth,Pennebaker Productions,Diane Producti...   \n",
       "258   Notting Hill Pictures,Polygram Filmed Entertai...   \n",
       "2360  Montecito Picture Company, The,Columbia Pictur...   \n",
       "6620                                                NaN   \n",
       "3962                                      Miramax Films   \n",
       "\n",
       "                         production_countries                          genres  \\\n",
       "3174                 United States of America  Comedy,Fantasy,Science Fiction   \n",
       "5988                 United States of America                Comedy,Adventure   \n",
       "790                  United States of America    Thriller,Crime,Drama,Mystery   \n",
       "7399                 United States of America                          Horror   \n",
       "3801                 United States of America         Action,Adventure,Family   \n",
       "9349                 United States of America             Romance,Drama,Music   \n",
       "258   United Kingdom,United States of America            Romance,Comedy,Drama   \n",
       "2360                 United States of America   Action,Comedy,Science Fiction   \n",
       "6620                 United States of America                          Horror   \n",
       "3962                 United States of America                           Drama   \n",
       "\n",
       "                director                                         producer  \\\n",
       "3174       Willard Huyck       Robert Latham Brown,Ian Bryce,Gloria Katz,   \n",
       "5988       Carl Gottlieb                     David Foster,Lawrence Turman   \n",
       "790        Robert Altman    Jerry Bick,Robert Eggenweiler,Elliott Kastner   \n",
       "7399        Victor Salva    Roman Coppola,Michael Danty,Robin Mortarotti,   \n",
       "3801      Barry Levinson        Harry Benn,Mark Johnson,Kathleen Kennedy,   \n",
       "9349         Martin Ritt           Georges Glass,Walter Seltzer,Sam Shaw,   \n",
       "258        Roger Michell           Tim Bevan,Richard Curtis,Eric Fellner,   \n",
       "2360        J.T.S. Moore                                     J.T.S. Moore   \n",
       "6620       Craig McMahon         Cecil Chambers,Nathan Hill,Craig McMahon   \n",
       "3962  Billy Bob Thornton  David L. Bushell,Larry Meistrich,Brandon Rosser   \n",
       "\n",
       "                                                   cast  runtimes  \\\n",
       "3174            Lea Thompson,Jeffrey Jones,Tim Robbins,     110.0   \n",
       "5988             Ringo Starr,Dennis Quaid,Shelley Long,      91.0   \n",
       "790    Elliott Gould,Nina van Pallandt,Sterling Hayden,     112.0   \n",
       "7399  Nathan Forrest Winters,Brian McHugh,Sam Rockwell,      81.0   \n",
       "3801                Nicholas Rowe,Alan Cox,Sophie Ward,     109.0   \n",
       "9349        Paul Newman,Joanne Woodward,Sidney Poitier,      98.0   \n",
       "258            Julia Roberts,Hugh Grant,Richard McCabe,     124.0   \n",
       "2360   Linus Torvalds,Richard M. Stallman,Eric Raymond,      85.0   \n",
       "6620                    Sarah Oh,Mike Ranallo,Abra May,      84.0   \n",
       "3962       Billy Bob Thornton,Dwight Yoakam,J.T. Walsh,     135.0   \n",
       "\n",
       "                                       writer  \n",
       "3174  Steve Gerber,Willard Huyck,Gloria Katz,  \n",
       "5988               Rudy De Luca,Carl Gottlieb  \n",
       "790           Leigh Brackett,Raymond Chandler  \n",
       "7399                             Victor Salva  \n",
       "3801        Arthur Conan Doyle,Chris Columbus  \n",
       "9349   Jack Sher,Irene Kamp,Walter Bernstein,  \n",
       "258                            Richard Curtis  \n",
       "2360                             J.T.S. Moore  \n",
       "6620                            Craig McMahon  \n",
       "3962    Billy Bob Thornton,Billy Bob Thornton  "
      ]
     },
     "metadata": {},
     "output_type": "display_data"
    }
   ],
   "source": [
    "display(movies.sample(10))"
   ]
  },
  {
   "cell_type": "code",
   "execution_count": 724,
   "id": "efcc1700",
   "metadata": {},
   "outputs": [
    {
     "data": {
      "text/plain": [
       "production_companies    1485\n",
       "writer                   290\n",
       "genres                   243\n",
       "runtimes                 120\n",
       "producer                 115\n",
       "director                  69\n",
       "cast                      32\n",
       "release_date               8\n",
       "revenue                    0\n",
       "vote_average               0\n",
       "vote_count                 0\n",
       "title                      0\n",
       "original_language          0\n",
       "production_countries       0\n",
       "dtype: int64"
      ]
     },
     "execution_count": 724,
     "metadata": {},
     "output_type": "execute_result"
    }
   ],
   "source": [
    "movies.isnull().sum().sort_values(ascending=False)"
   ]
  },
  {
   "cell_type": "code",
   "execution_count": 725,
   "id": "e4be4693",
   "metadata": {},
   "outputs": [
    {
     "data": {
      "image/png": "[encoded data removed]",
      "text/plain": [
       "<Figure size 432x288 with 1 Axes>"
      ]
     },
     "metadata": {
      "needs_background": "light"
     },
     "output_type": "display_data"
    }
   ],
   "source": [
    "sns.distplot(movies['revenue'],color='g')\n",
    "plt.title('Distribution of Revenue')\n",
    "plt.xlabel('Revenue in USD')\n",
    "plt.ylabel('Frequency in Log')\n",
    "plt.show()"
   ]
  },
  {
   "cell_type": "code",
   "execution_count": 726,
   "id": "7e06f656",
   "metadata": {},
   "outputs": [
    {
     "data": {
      "text/plain": [
       "6337"
      ]
     },
     "execution_count": 726,
     "metadata": {},
     "output_type": "execute_result"
    }
   ],
   "source": [
    "movies['revenue'].replace(0,np.nan,inplace=True)\n",
    "movies['revenue'].isnull().sum()"
   ]
  },
  {
   "cell_type": "code",
   "execution_count": 727,
   "id": "ec9a9da2",
   "metadata": {},
   "outputs": [
    {
     "data": {
      "text/plain": [
       "138"
      ]
     },
     "execution_count": 727,
     "metadata": {},
     "output_type": "execute_result"
    }
   ],
   "source": [
    "movies.loc[movies.revenue.isnull(), 'revenue'] = movies.groupby(pd.Grouper(key='release_date', axis=0, freq='1Y'))['revenue'].transform('median')\n",
    "movies['revenue'].isnull().sum()"
   ]
  },
  {
   "cell_type": "code",
   "execution_count": 728,
   "id": "c269fe4e",
   "metadata": {},
   "outputs": [
    {
     "data": {
      "text/plain": [
       "(9862, 14)"
      ]
     },
     "metadata": {},
     "output_type": "display_data"
    },
    {
     "data": {
      "text/plain": [
       "0"
      ]
     },
     "metadata": {},
     "output_type": "display_data"
    }
   ],
   "source": [
    "movies.drop(movies.index[movies.revenue.isna() == True],inplace=True)\n",
    "display(movies.shape)\n",
    "display(movies['revenue'].isnull().sum())"
   ]
  },
  {
   "cell_type": "code",
   "execution_count": 729,
   "id": "fd523f24",
   "metadata": {},
   "outputs": [
    {
     "data": {
      "text/plain": [
       "production_companies    1463\n",
       "writer                   288\n",
       "genres                   237\n",
       "runtimes                 118\n",
       "producer                 108\n",
       "director                  67\n",
       "cast                      31\n",
       "revenue                    0\n",
       "vote_average               0\n",
       "vote_count                 0\n",
       "title                      0\n",
       "original_language          0\n",
       "release_date               0\n",
       "production_countries       0\n",
       "dtype: int64"
      ]
     },
     "execution_count": 729,
     "metadata": {},
     "output_type": "execute_result"
    }
   ],
   "source": [
    "movies.isnull().sum().sort_values(ascending=False)"
   ]
  },
  {
   "cell_type": "code",
   "execution_count": 730,
   "id": "70eb9a37",
   "metadata": {},
   "outputs": [
    {
     "data": {
      "text/plain": [
       "production_companies    1271\n",
       "writer                   234\n",
       "producer                  87\n",
       "runtimes                  82\n",
       "director                  33\n",
       "cast                      30\n",
       "revenue                    0\n",
       "vote_average               0\n",
       "vote_count                 0\n",
       "title                      0\n",
       "original_language          0\n",
       "release_date               0\n",
       "production_countries       0\n",
       "genres                     0\n",
       "dtype: int64"
      ]
     },
     "execution_count": 730,
     "metadata": {},
     "output_type": "execute_result"
    }
   ],
   "source": [
    "#drop movies with null values i genres\n",
    "movies.dropna(subset=['genres'],inplace=True)\n",
    "movies.isnull().sum().sort_values(ascending=False)\n",
    "\n"
   ]
  },
  {
   "cell_type": "code",
   "execution_count": 731,
   "id": "da0f8db0",
   "metadata": {},
   "outputs": [
    {
     "data": {
      "text/plain": [
       "runtimes                38\n",
       "revenue                  0\n",
       "vote_average             0\n",
       "vote_count               0\n",
       "title                    0\n",
       "original_language        0\n",
       "release_date             0\n",
       "production_companies     0\n",
       "production_countries     0\n",
       "genres                   0\n",
       "director                 0\n",
       "producer                 0\n",
       "cast                     0\n",
       "writer                   0\n",
       "dtype: int64"
      ]
     },
     "execution_count": 731,
     "metadata": {},
     "output_type": "execute_result"
    }
   ],
   "source": [
    "#drop those rows with vote_count < 10 i.e. atleast 10 user should have voted for the movie\n",
    "movies= movies[movies['vote_count'] > 10]\n",
    "movies.isnull().sum().sort_values(ascending=False)\n",
    "#replace null in cast,director,producer,production_companies,writercolumn with \"Unknown\"\n",
    "movies['cast'].replace(np.nan,\"Unknown\",inplace=True)\n",
    "movies['director'].replace(np.nan,\"Unknown\",inplace=True)\n",
    "movies['producer'].replace(np.nan,\"Unknown\",inplace=True)\n",
    "movies['production_companies'].replace(np.nan,\"Unknown\",inplace=True)\n",
    "movies['writer'].replace(np.nan,\"Unknown\",inplace=True)\n",
    "movies.isnull().sum().sort_values(ascending=False)\n"
   ]
  },
  {
   "cell_type": "code",
   "execution_count": 732,
   "id": "c9c9c0d1",
   "metadata": {},
   "outputs": [
    {
     "data": {
      "text/plain": [
       "revenue                 0\n",
       "vote_average            0\n",
       "vote_count              0\n",
       "title                   0\n",
       "original_language       0\n",
       "release_date            0\n",
       "production_companies    0\n",
       "production_countries    0\n",
       "genres                  0\n",
       "director                0\n",
       "producer                0\n",
       "cast                    0\n",
       "runtimes                0\n",
       "writer                  0\n",
       "dtype: int64"
      ]
     },
     "execution_count": 732,
     "metadata": {},
     "output_type": "execute_result"
    }
   ],
   "source": [
    "movies.runtimes.fillna(movies.runtimes.mean(), inplace=True)\n",
    "movies.isnull().sum().sort_values(ascending=False)"
   ]
  },
  {
   "cell_type": "code",
   "execution_count": 733,
   "id": "a68ecbcf",
   "metadata": {},
   "outputs": [],
   "source": [
    "def str_to_list(x):\n",
    "    return list(x.split(\",\"))"
   ]
  },
  {
   "cell_type": "code",
   "execution_count": 734,
   "id": "a8c4fa20",
   "metadata": {},
   "outputs": [
    {
     "name": "stdout",
     "output_type": "stream",
     "text": [
      "['Crime', 'Comedy']\n"
     ]
    }
   ],
   "source": [
    "#convert genres seperated by string to list \n",
    "movies['genres'] = movies['genres'].apply(str_to_list)\n",
    "print(movies['genres'][0])\n"
   ]
  },
  {
   "cell_type": "code",
   "execution_count": 735,
   "id": "33870e00",
   "metadata": {},
   "outputs": [
    {
     "data": {
      "text/plain": [
       "{'Crime': 1119,\n",
       " 'Comedy': 2733,\n",
       " 'Action': 1653,\n",
       " 'Thriller': 1889,\n",
       " 'Adventure': 1073,\n",
       " 'Science Fiction': 834,\n",
       " 'Animation': 397,\n",
       " 'Family': 817,\n",
       " 'Drama': 3118,\n",
       " 'Romance': 1299,\n",
       " 'Mystery': 592,\n",
       " 'Music': 315,\n",
       " 'Documentary': 214,\n",
       " 'Fantasy': 629,\n",
       " 'War': 210,\n",
       " 'Western': 202,\n",
       " 'History': 225,\n",
       " 'Horror': 1065,\n",
       " 'TV Movie': 109}"
      ]
     },
     "metadata": {},
     "output_type": "display_data"
    }
   ],
   "source": [
    "#find the frequency of each genre\n",
    "genre_frequency = {}\n",
    "unique_genre_set = set()\n",
    "\n",
    "for row in movies['genres']:\n",
    "    for genre in row:\n",
    "        unique_genre_set.add(genre)\n",
    "        if genre in genre_frequency:\n",
    "            genre_frequency[genre]+=1\n",
    "        else:\n",
    "            genre_frequency[genre]=1\n",
    "unique_genre_list = list(unique_genre_set)\n",
    "display(genre_frequency)"
   ]
  },
  {
   "cell_type": "code",
   "execution_count": 736,
   "id": "9a1e8f72",
   "metadata": {},
   "outputs": [
    {
     "data": {
      "text/plain": [
       "<AxesSubplot:>"
      ]
     },
     "execution_count": 736,
     "metadata": {},
     "output_type": "execute_result"
    },
    {
     "data": {
      "image/png": "[encoded data removed]",
      "text/plain": [
       "<Figure size 576x432 with 1 Axes>"
      ]
     },
     "metadata": {
      "needs_background": "light"
     },
     "output_type": "display_data"
    }
   ],
   "source": [
    "#find the most prevalent genres\n",
    "sorted_values = sorted(genre_frequency.values(),reverse=True) \n",
    "sorted_genre = {}\n",
    "\n",
    "for i in sorted_values:\n",
    "    for k in genre_frequency.keys():\n",
    "        if genre_frequency[k] == i:\n",
    "            sorted_genre[k] = genre_frequency[k]\n",
    "            \n",
    "plt.figure(figsize = (8,6))\n",
    "sns.barplot(y=list(sorted_genre.keys()),x = list(sorted_genre.values()))"
   ]
  },
  {
   "cell_type": "code",
   "execution_count": 737,
   "id": "5f27c38d",
   "metadata": {},
   "outputs": [
    {
     "data": {
      "text/plain": [
       "<matplotlib.image.AxesImage at 0x1f41bd61460>"
      ]
     },
     "execution_count": 737,
     "metadata": {},
     "output_type": "execute_result"
    },
    {
     "data": {
      "image/png": "[encoded data removed]",
      "text/plain": [
       "<Figure size 1080x576 with 1 Axes>"
      ]
     },
     "metadata": {
      "needs_background": "light"
     },
     "output_type": "display_data"
    }
   ],
   "source": [
    "#wordcloud for genres\n",
    "wordcloud = WordCloud(width = 1000, height = 500).generate_from_frequencies(genre_frequency)\n",
    "plt.figure(figsize=(15,8))\n",
    "plt.imshow(wordcloud)"
   ]
  },
  {
   "cell_type": "code",
   "execution_count": 738,
   "id": "5171deff",
   "metadata": {},
   "outputs": [],
   "source": [
    "#one hot encoding for genre, director and cast columns\n",
    "def binary(genre_list):\n",
    "    binaryList = []\n",
    "    \n",
    "    for genre in unique_genre_list:\n",
    "        if genre in genre_list:\n",
    "            binaryList.append(1)\n",
    "        else:\n",
    "            binaryList.append(0)\n",
    "    \n",
    "    return binaryList"
   ]
  },
  {
   "cell_type": "code",
   "execution_count": 739,
   "id": "74cd842f",
   "metadata": {},
   "outputs": [
    {
     "data": {
      "text/html": [
       "<div>\n",
       "<style scoped>\n",
       "    .dataframe tbody tr th:only-of-type {\n",
       "        vertical-align: middle;\n",
       "    }\n",
       "\n",
       "    .dataframe tbody tr th {\n",
       "        vertical-align: top;\n",
       "    }\n",
       "\n",
       "    .dataframe thead th {\n",
       "        text-align: right;\n",
       "    }\n",
       "</style>\n",
       "<table border=\"1\" class=\"dataframe\">\n",
       "  <thead>\n",
       "    <tr style=\"text-align: right;\">\n",
       "      <th></th>\n",
       "      <th>revenue</th>\n",
       "      <th>vote_average</th>\n",
       "      <th>vote_count</th>\n",
       "      <th>title</th>\n",
       "      <th>original_language</th>\n",
       "      <th>release_date</th>\n",
       "      <th>production_companies</th>\n",
       "      <th>production_countries</th>\n",
       "      <th>genres</th>\n",
       "      <th>director</th>\n",
       "      <th>producer</th>\n",
       "      <th>cast</th>\n",
       "      <th>runtimes</th>\n",
       "      <th>writer</th>\n",
       "      <th>genres_bin</th>\n",
       "    </tr>\n",
       "  </thead>\n",
       "  <tbody>\n",
       "    <tr>\n",
       "      <th>0</th>\n",
       "      <td>4300000.0</td>\n",
       "      <td>6.6</td>\n",
       "      <td>714</td>\n",
       "      <td>Four Rooms</td>\n",
       "      <td>en</td>\n",
       "      <td>1995-12-09</td>\n",
       "      <td>Miramax Films,A Band Apart</td>\n",
       "      <td>United States of America</td>\n",
       "      <td>[Crime, Comedy]</td>\n",
       "      <td>Allison Anders,Alexandre Rockwell,Robert Rodri...</td>\n",
       "      <td>Lawrence Bender,Paul Hellerman,Scott Lambert,</td>\n",
       "      <td>Sammi Davis,Amanda De Cadenet,Valeria Golino,</td>\n",
       "      <td>98.0</td>\n",
       "      <td>Allison Anders,Alexandre Rockwell,Robert Rodri...</td>\n",
       "      <td>[0, 0, 0, 0, 1, 0, 0, 0, 0, 1, 0, 0, 0, 0, 0, ...</td>\n",
       "    </tr>\n",
       "    <tr>\n",
       "      <th>1</th>\n",
       "      <td>12.0</td>\n",
       "      <td>6.4</td>\n",
       "      <td>96</td>\n",
       "      <td>Judgment Night</td>\n",
       "      <td>en</td>\n",
       "      <td>1993-10-15</td>\n",
       "      <td>Universal Pictures,Largo Entertainment,JVC Ent...</td>\n",
       "      <td>Japan,United States of America</td>\n",
       "      <td>[Action, Thriller, Crime]</td>\n",
       "      <td>Stephen Hopkins</td>\n",
       "      <td>Gene Levy,Christopher Mollo,Lloyd Segan,</td>\n",
       "      <td>Emilio Estevez,Cuba Gooding Jr.,Denis Leary,</td>\n",
       "      <td>110.0</td>\n",
       "      <td>Lewis Colick,Jere Cunningham,Lewis Colick</td>\n",
       "      <td>[0, 0, 0, 0, 0, 0, 0, 0, 0, 1, 0, 0, 0, 1, 0, ...</td>\n",
       "    </tr>\n",
       "    <tr>\n",
       "      <th>2</th>\n",
       "      <td>775398007.0</td>\n",
       "      <td>8.1</td>\n",
       "      <td>8550</td>\n",
       "      <td>Star Wars</td>\n",
       "      <td>en</td>\n",
       "      <td>1977-05-25</td>\n",
       "      <td>Lucasfilm,20th Century Fox</td>\n",
       "      <td>United States of America</td>\n",
       "      <td>[Adventure, Action, Science Fiction]</td>\n",
       "      <td>George Lucas</td>\n",
       "      <td>Gary Kurtz,George Lucas,Rick McCallum</td>\n",
       "      <td>Mark Hamill,Harrison Ford,Carrie Fisher,</td>\n",
       "      <td>121.0</td>\n",
       "      <td>George Lucas</td>\n",
       "      <td>[0, 0, 1, 1, 0, 0, 0, 0, 0, 0, 0, 0, 0, 1, 0, ...</td>\n",
       "    </tr>\n",
       "    <tr>\n",
       "      <th>3</th>\n",
       "      <td>940335536.0</td>\n",
       "      <td>7.7</td>\n",
       "      <td>8085</td>\n",
       "      <td>Finding Nemo</td>\n",
       "      <td>en</td>\n",
       "      <td>2003-05-30</td>\n",
       "      <td>Pixar</td>\n",
       "      <td>United States of America</td>\n",
       "      <td>[Animation, Family]</td>\n",
       "      <td>Andrew Stanton,Lee Unkrich</td>\n",
       "      <td>Jinko Gotoh,John Lasseter,Graham Walters</td>\n",
       "      <td>Albert Brooks,Ellen DeGeneres,Alexander Gould,</td>\n",
       "      <td>100.0</td>\n",
       "      <td>Andrew Stanton,Andrew Stanton,Bob Peterson,</td>\n",
       "      <td>[0, 0, 0, 0, 0, 1, 0, 0, 0, 0, 0, 0, 0, 0, 0, ...</td>\n",
       "    </tr>\n",
       "    <tr>\n",
       "      <th>4</th>\n",
       "      <td>677945399.0</td>\n",
       "      <td>8.3</td>\n",
       "      <td>10346</td>\n",
       "      <td>Forrest Gump</td>\n",
       "      <td>en</td>\n",
       "      <td>1994-07-06</td>\n",
       "      <td>Paramount</td>\n",
       "      <td>United States of America</td>\n",
       "      <td>[Comedy, Drama, Romance]</td>\n",
       "      <td>Robert Zemeckis</td>\n",
       "      <td>Wendy Finerman,Charles Newirth,Steve Starkey,</td>\n",
       "      <td>Tom Hanks,Rebecca Williams,Sally Field,</td>\n",
       "      <td>142.0</td>\n",
       "      <td>Winston Groom,Eric Roth</td>\n",
       "      <td>[0, 1, 0, 0, 1, 0, 0, 0, 1, 0, 0, 0, 0, 0, 0, ...</td>\n",
       "    </tr>\n",
       "    <tr>\n",
       "      <th>...</th>\n",
       "      <td>...</td>\n",
       "      <td>...</td>\n",
       "      <td>...</td>\n",
       "      <td>...</td>\n",
       "      <td>...</td>\n",
       "      <td>...</td>\n",
       "      <td>...</td>\n",
       "      <td>...</td>\n",
       "      <td>...</td>\n",
       "      <td>...</td>\n",
       "      <td>...</td>\n",
       "      <td>...</td>\n",
       "      <td>...</td>\n",
       "      <td>...</td>\n",
       "      <td>...</td>\n",
       "    </tr>\n",
       "    <tr>\n",
       "      <th>9991</th>\n",
       "      <td>14008145.0</td>\n",
       "      <td>6.8</td>\n",
       "      <td>11</td>\n",
       "      <td>The New Centurions</td>\n",
       "      <td>en</td>\n",
       "      <td>1972-08-03</td>\n",
       "      <td>Columbia Pictures,Chartoff-Winkler Productions</td>\n",
       "      <td>United States of America</td>\n",
       "      <td>[Crime, Drama, Action]</td>\n",
       "      <td>Richard Fleischer</td>\n",
       "      <td>Robert Chartoff,Henry Gellis,Irwin Winkler</td>\n",
       "      <td>George C. Scott,Stacy Keach,Jane Alexander,</td>\n",
       "      <td>103.0</td>\n",
       "      <td>Stirling Silliphant,Joseph Wambaugh,Robert Towne</td>\n",
       "      <td>[0, 1, 0, 0, 0, 0, 0, 0, 0, 1, 0, 0, 0, 1, 0, ...</td>\n",
       "    </tr>\n",
       "    <tr>\n",
       "      <th>9992</th>\n",
       "      <td>11450000.0</td>\n",
       "      <td>7.2</td>\n",
       "      <td>16</td>\n",
       "      <td>There's Always Tomorrow</td>\n",
       "      <td>en</td>\n",
       "      <td>1956-02-01</td>\n",
       "      <td>Universal International Pictures</td>\n",
       "      <td>United States of America</td>\n",
       "      <td>[Comedy, Drama]</td>\n",
       "      <td>Richard Fleischer</td>\n",
       "      <td>Robert Chartoff,Henry Gellis,Irwin Winkler</td>\n",
       "      <td>George C. Scott,Stacy Keach,Jane Alexander,</td>\n",
       "      <td>103.0</td>\n",
       "      <td>Stirling Silliphant,Joseph Wambaugh,Robert Towne</td>\n",
       "      <td>[0, 1, 0, 0, 1, 0, 0, 0, 0, 0, 0, 0, 0, 0, 0, ...</td>\n",
       "    </tr>\n",
       "    <tr>\n",
       "      <th>9993</th>\n",
       "      <td>15692207.5</td>\n",
       "      <td>7.5</td>\n",
       "      <td>12</td>\n",
       "      <td>Let's Get Lost</td>\n",
       "      <td>en</td>\n",
       "      <td>1988-09-15</td>\n",
       "      <td>Unknown</td>\n",
       "      <td>United States of America</td>\n",
       "      <td>[Music, Documentary]</td>\n",
       "      <td>Bruce Weber</td>\n",
       "      <td>Emie Amemiya,Nan Bush,Stephen Cohen,</td>\n",
       "      <td>Chet Baker,Carol Baker,Vera Baker,</td>\n",
       "      <td>120.0</td>\n",
       "      <td>Unknown</td>\n",
       "      <td>[0, 0, 0, 0, 0, 0, 0, 1, 0, 0, 0, 0, 0, 0, 0, ...</td>\n",
       "    </tr>\n",
       "    <tr>\n",
       "      <th>9994</th>\n",
       "      <td>49718611.0</td>\n",
       "      <td>5.6</td>\n",
       "      <td>14</td>\n",
       "      <td>Elvis Has Left the Building</td>\n",
       "      <td>en</td>\n",
       "      <td>2004-08-27</td>\n",
       "      <td>Equity Pictures Medienfonds GmbH &amp; Co. KG,Capi...</td>\n",
       "      <td>United States of America</td>\n",
       "      <td>[Comedy]</td>\n",
       "      <td>Joel Zwick</td>\n",
       "      <td>Jane Barclay,Sharon Harel,Manfred D. Heid,</td>\n",
       "      <td>Kim Basinger,John Corbett,Annie Potts,</td>\n",
       "      <td>90.0</td>\n",
       "      <td>Mitchell Ganem,Adam-Michael Garber</td>\n",
       "      <td>[0, 0, 0, 0, 1, 0, 0, 0, 0, 0, 0, 0, 0, 0, 0, ...</td>\n",
       "    </tr>\n",
       "    <tr>\n",
       "      <th>9996</th>\n",
       "      <td>184925486.0</td>\n",
       "      <td>6.3</td>\n",
       "      <td>20</td>\n",
       "      <td>Nothing Sacred</td>\n",
       "      <td>en</td>\n",
       "      <td>1937-11-25</td>\n",
       "      <td>Selznick International Pictures</td>\n",
       "      <td>United States of America</td>\n",
       "      <td>[Comedy, Drama, Romance]</td>\n",
       "      <td>William A. Wellman</td>\n",
       "      <td>David O. Selznick</td>\n",
       "      <td>Carole Lombard,Fredric March,Charles Winninger,</td>\n",
       "      <td>77.0</td>\n",
       "      <td>Ben Hecht,James Street,David O. Selznick,</td>\n",
       "      <td>[0, 1, 0, 0, 1, 0, 0, 0, 1, 0, 0, 0, 0, 0, 0, ...</td>\n",
       "    </tr>\n",
       "  </tbody>\n",
       "</table>\n",
       "<p>7203 rows × 15 columns</p>\n",
       "</div>"
      ],
      "text/plain": [
       "          revenue  vote_average  vote_count                        title  \\\n",
       "0       4300000.0           6.6         714                   Four Rooms   \n",
       "1            12.0           6.4          96               Judgment Night   \n",
       "2     775398007.0           8.1        8550                    Star Wars   \n",
       "3     940335536.0           7.7        8085                 Finding Nemo   \n",
       "4     677945399.0           8.3       10346                 Forrest Gump   \n",
       "...           ...           ...         ...                          ...   \n",
       "9991   14008145.0           6.8          11           The New Centurions   \n",
       "9992   11450000.0           7.2          16      There's Always Tomorrow   \n",
       "9993   15692207.5           7.5          12               Let's Get Lost   \n",
       "9994   49718611.0           5.6          14  Elvis Has Left the Building   \n",
       "9996  184925486.0           6.3          20               Nothing Sacred   \n",
       "\n",
       "     original_language release_date  \\\n",
       "0                   en   1995-12-09   \n",
       "1                   en   1993-10-15   \n",
       "2                   en   1977-05-25   \n",
       "3                   en   2003-05-30   \n",
       "4                   en   1994-07-06   \n",
       "...                ...          ...   \n",
       "9991                en   1972-08-03   \n",
       "9992                en   1956-02-01   \n",
       "9993                en   1988-09-15   \n",
       "9994                en   2004-08-27   \n",
       "9996                en   1937-11-25   \n",
       "\n",
       "                                   production_companies  \\\n",
       "0                            Miramax Films,A Band Apart   \n",
       "1     Universal Pictures,Largo Entertainment,JVC Ent...   \n",
       "2                            Lucasfilm,20th Century Fox   \n",
       "3                                                 Pixar   \n",
       "4                                             Paramount   \n",
       "...                                                 ...   \n",
       "9991     Columbia Pictures,Chartoff-Winkler Productions   \n",
       "9992                   Universal International Pictures   \n",
       "9993                                            Unknown   \n",
       "9994  Equity Pictures Medienfonds GmbH & Co. KG,Capi...   \n",
       "9996                    Selznick International Pictures   \n",
       "\n",
       "                production_countries                                genres  \\\n",
       "0           United States of America                       [Crime, Comedy]   \n",
       "1     Japan,United States of America             [Action, Thriller, Crime]   \n",
       "2           United States of America  [Adventure, Action, Science Fiction]   \n",
       "3           United States of America                   [Animation, Family]   \n",
       "4           United States of America              [Comedy, Drama, Romance]   \n",
       "...                              ...                                   ...   \n",
       "9991        United States of America                [Crime, Drama, Action]   \n",
       "9992        United States of America                       [Comedy, Drama]   \n",
       "9993        United States of America                  [Music, Documentary]   \n",
       "9994        United States of America                              [Comedy]   \n",
       "9996        United States of America              [Comedy, Drama, Romance]   \n",
       "\n",
       "                                               director  \\\n",
       "0     Allison Anders,Alexandre Rockwell,Robert Rodri...   \n",
       "1                                       Stephen Hopkins   \n",
       "2                                          George Lucas   \n",
       "3                            Andrew Stanton,Lee Unkrich   \n",
       "4                                       Robert Zemeckis   \n",
       "...                                                 ...   \n",
       "9991                                  Richard Fleischer   \n",
       "9992                                  Richard Fleischer   \n",
       "9993                                        Bruce Weber   \n",
       "9994                                         Joel Zwick   \n",
       "9996                                 William A. Wellman   \n",
       "\n",
       "                                           producer  \\\n",
       "0     Lawrence Bender,Paul Hellerman,Scott Lambert,   \n",
       "1          Gene Levy,Christopher Mollo,Lloyd Segan,   \n",
       "2             Gary Kurtz,George Lucas,Rick McCallum   \n",
       "3          Jinko Gotoh,John Lasseter,Graham Walters   \n",
       "4     Wendy Finerman,Charles Newirth,Steve Starkey,   \n",
       "...                                             ...   \n",
       "9991     Robert Chartoff,Henry Gellis,Irwin Winkler   \n",
       "9992     Robert Chartoff,Henry Gellis,Irwin Winkler   \n",
       "9993           Emie Amemiya,Nan Bush,Stephen Cohen,   \n",
       "9994     Jane Barclay,Sharon Harel,Manfred D. Heid,   \n",
       "9996                              David O. Selznick   \n",
       "\n",
       "                                                 cast  runtimes  \\\n",
       "0       Sammi Davis,Amanda De Cadenet,Valeria Golino,      98.0   \n",
       "1        Emilio Estevez,Cuba Gooding Jr.,Denis Leary,     110.0   \n",
       "2            Mark Hamill,Harrison Ford,Carrie Fisher,     121.0   \n",
       "3      Albert Brooks,Ellen DeGeneres,Alexander Gould,     100.0   \n",
       "4             Tom Hanks,Rebecca Williams,Sally Field,     142.0   \n",
       "...                                               ...       ...   \n",
       "9991      George C. Scott,Stacy Keach,Jane Alexander,     103.0   \n",
       "9992      George C. Scott,Stacy Keach,Jane Alexander,     103.0   \n",
       "9993               Chet Baker,Carol Baker,Vera Baker,     120.0   \n",
       "9994           Kim Basinger,John Corbett,Annie Potts,      90.0   \n",
       "9996  Carole Lombard,Fredric March,Charles Winninger,      77.0   \n",
       "\n",
       "                                                 writer  \\\n",
       "0     Allison Anders,Alexandre Rockwell,Robert Rodri...   \n",
       "1             Lewis Colick,Jere Cunningham,Lewis Colick   \n",
       "2                                          George Lucas   \n",
       "3           Andrew Stanton,Andrew Stanton,Bob Peterson,   \n",
       "4                               Winston Groom,Eric Roth   \n",
       "...                                                 ...   \n",
       "9991   Stirling Silliphant,Joseph Wambaugh,Robert Towne   \n",
       "9992   Stirling Silliphant,Joseph Wambaugh,Robert Towne   \n",
       "9993                                            Unknown   \n",
       "9994                 Mitchell Ganem,Adam-Michael Garber   \n",
       "9996          Ben Hecht,James Street,David O. Selznick,   \n",
       "\n",
       "                                             genres_bin  \n",
       "0     [0, 0, 0, 0, 1, 0, 0, 0, 0, 1, 0, 0, 0, 0, 0, ...  \n",
       "1     [0, 0, 0, 0, 0, 0, 0, 0, 0, 1, 0, 0, 0, 1, 0, ...  \n",
       "2     [0, 0, 1, 1, 0, 0, 0, 0, 0, 0, 0, 0, 0, 1, 0, ...  \n",
       "3     [0, 0, 0, 0, 0, 1, 0, 0, 0, 0, 0, 0, 0, 0, 0, ...  \n",
       "4     [0, 1, 0, 0, 1, 0, 0, 0, 1, 0, 0, 0, 0, 0, 0, ...  \n",
       "...                                                 ...  \n",
       "9991  [0, 1, 0, 0, 0, 0, 0, 0, 0, 1, 0, 0, 0, 1, 0, ...  \n",
       "9992  [0, 1, 0, 0, 1, 0, 0, 0, 0, 0, 0, 0, 0, 0, 0, ...  \n",
       "9993  [0, 0, 0, 0, 0, 0, 0, 1, 0, 0, 0, 0, 0, 0, 0, ...  \n",
       "9994  [0, 0, 0, 0, 1, 0, 0, 0, 0, 0, 0, 0, 0, 0, 0, ...  \n",
       "9996  [0, 1, 0, 0, 1, 0, 0, 0, 1, 0, 0, 0, 0, 0, 0, ...  \n",
       "\n",
       "[7203 rows x 15 columns]"
      ]
     },
     "metadata": {},
     "output_type": "display_data"
    }
   ],
   "source": [
    "movies['genres_bin'] = movies['genres'].apply(lambda x: binary(x))\n",
    "movies['genres_bin'].head()\n",
    "movies.isnull().sum()\n",
    "display(movies)"
   ]
  },
  {
   "cell_type": "code",
   "execution_count": 740,
   "id": "db270077",
   "metadata": {},
   "outputs": [],
   "source": [
    "movies['cast'] = movies['cast'].str.strip('[]').str.replace(' ','').str.replace(\"'\",'').str.replace('\"','')\n",
    "movies['cast'] = movies['cast'].str.split(',')"
   ]
  },
  {
   "cell_type": "code",
   "execution_count": 741,
   "id": "c135e176",
   "metadata": {},
   "outputs": [],
   "source": [
    "for i,j in zip(movies['cast'],movies.index):\n",
    "    list2 = []\n",
    "    list2 = i[:4]\n",
    "    movies.loc[j,'cast'] = str(list2)\n",
    "movies['cast'] = movies['cast'].str.strip('[]').str.replace(' ','').str.replace(\"'\",'')\n",
    "movies['cast'] = movies['cast'].str.split(',')\n",
    "for i,j in zip(movies['cast'],movies.index):\n",
    "    list2 = []\n",
    "    list2 = i\n",
    "    list2.sort()\n",
    "    movies.loc[j,'cast'] = str(list2)\n",
    "movies['cast']=movies['cast'].str.strip('[]').str.replace(' ','').str.replace(\"'\",'')"
   ]
  },
  {
   "cell_type": "code",
   "execution_count": 742,
   "id": "06d15b0d",
   "metadata": {},
   "outputs": [],
   "source": [
    "castList = []\n",
    "for index, row in movies.iterrows():\n",
    "    cast = row[\"cast\"]\n",
    "    \n",
    "    for i in cast:\n",
    "        if i not in castList:\n",
    "            castList.append(i)"
   ]
  },
  {
   "cell_type": "code",
   "execution_count": 743,
   "id": "d8349ad4",
   "metadata": {},
   "outputs": [],
   "source": [
    "def binary(cast_list):\n",
    "    binaryList = []\n",
    "    \n",
    "    for genre in castList:\n",
    "        if genre in cast_list:\n",
    "            binaryList.append(1)\n",
    "        else:\n",
    "            binaryList.append(0)\n",
    "    \n",
    "    return binaryList"
   ]
  },
  {
   "cell_type": "code",
   "execution_count": 744,
   "id": "33263911",
   "metadata": {},
   "outputs": [
    {
     "data": {
      "text/plain": [
       "0    [1, 1, 1, 1, 1, 1, 1, 1, 1, 1, 1, 1, 1, 1, 1, ...\n",
       "1    [1, 0, 1, 1, 1, 1, 1, 1, 1, 1, 0, 1, 1, 1, 0, ...\n",
       "2    [1, 0, 1, 1, 1, 1, 0, 1, 1, 0, 0, 1, 0, 1, 0, ...\n",
       "3    [1, 1, 0, 1, 1, 1, 1, 1, 0, 1, 0, 0, 0, 1, 0, ...\n",
       "4    [1, 0, 1, 1, 1, 1, 0, 1, 0, 0, 1, 1, 0, 1, 0, ...\n",
       "Name: cast_bin, dtype: object"
      ]
     },
     "execution_count": 744,
     "metadata": {},
     "output_type": "execute_result"
    }
   ],
   "source": [
    "movies['cast_bin'] = movies['cast'].apply(lambda x: binary(x))\n",
    "movies['cast_bin'].head()"
   ]
  },
  {
   "cell_type": "code",
   "execution_count": 745,
   "id": "07f3dfec",
   "metadata": {},
   "outputs": [],
   "source": [
    "def xstr(s):\n",
    "    if s is None:\n",
    "        return ''\n",
    "    return str(s)\n",
    "movies['director'] = movies['director'].apply(xstr)"
   ]
  },
  {
   "cell_type": "code",
   "execution_count": 746,
   "id": "f11ca918",
   "metadata": {},
   "outputs": [
    {
     "data": {
      "image/png": "[encoded data removed]",
      "text/plain": [
       "<Figure size 864x720 with 1 Axes>"
      ]
     },
     "metadata": {
      "needs_background": "light"
     },
     "output_type": "display_data"
    }
   ],
   "source": [
    "plt.subplots(figsize=(12,10))\n",
    "ax = movies[movies['director']!=''].director.value_counts()[:10].sort_values(ascending=True).plot.barh(width=0.9,color=sns.color_palette('muted',40))\n",
    "for i, v in enumerate(movies[movies['director']!=''].director.value_counts()[:10].sort_values(ascending=True).values): \n",
    "    ax.text(.5, i, v,fontsize=12,color='white',weight='bold')\n",
    "plt.title('Directors with highest movies')\n",
    "plt.show()"
   ]
  },
  {
   "cell_type": "code",
   "execution_count": 747,
   "id": "61f5edf9",
   "metadata": {},
   "outputs": [],
   "source": [
    "directorList=[]\n",
    "for i in movies['director']:\n",
    "    if i not in directorList:\n",
    "        directorList.append(i)"
   ]
  },
  {
   "cell_type": "code",
   "execution_count": 748,
   "id": "16042acc",
   "metadata": {},
   "outputs": [],
   "source": [
    "def binary(director_list):\n",
    "    binaryList = []  \n",
    "    for direct in directorList:\n",
    "        if direct in director_list:\n",
    "            binaryList.append(1)\n",
    "        else:\n",
    "            binaryList.append(0)\n",
    "    return binaryList"
   ]
  },
  {
   "cell_type": "code",
   "execution_count": 749,
   "id": "7446033c",
   "metadata": {},
   "outputs": [
    {
     "data": {
      "text/html": [
       "<div>\n",
       "<style scoped>\n",
       "    .dataframe tbody tr th:only-of-type {\n",
       "        vertical-align: middle;\n",
       "    }\n",
       "\n",
       "    .dataframe tbody tr th {\n",
       "        vertical-align: top;\n",
       "    }\n",
       "\n",
       "    .dataframe thead th {\n",
       "        text-align: right;\n",
       "    }\n",
       "</style>\n",
       "<table border=\"1\" class=\"dataframe\">\n",
       "  <thead>\n",
       "    <tr style=\"text-align: right;\">\n",
       "      <th></th>\n",
       "      <th>revenue</th>\n",
       "      <th>vote_average</th>\n",
       "      <th>vote_count</th>\n",
       "      <th>title</th>\n",
       "      <th>original_language</th>\n",
       "      <th>release_date</th>\n",
       "      <th>production_companies</th>\n",
       "      <th>production_countries</th>\n",
       "      <th>genres</th>\n",
       "      <th>director</th>\n",
       "      <th>producer</th>\n",
       "      <th>cast</th>\n",
       "      <th>runtimes</th>\n",
       "      <th>writer</th>\n",
       "      <th>genres_bin</th>\n",
       "      <th>cast_bin</th>\n",
       "      <th>director_bin</th>\n",
       "    </tr>\n",
       "  </thead>\n",
       "  <tbody>\n",
       "    <tr>\n",
       "      <th>0</th>\n",
       "      <td>4300000.0</td>\n",
       "      <td>6.6</td>\n",
       "      <td>714</td>\n",
       "      <td>Four Rooms</td>\n",
       "      <td>en</td>\n",
       "      <td>1995-12-09</td>\n",
       "      <td>Miramax Films,A Band Apart</td>\n",
       "      <td>United States of America</td>\n",
       "      <td>[Crime, Comedy]</td>\n",
       "      <td>Allison Anders,Alexandre Rockwell,Robert Rodri...</td>\n",
       "      <td>Lawrence Bender,Paul Hellerman,Scott Lambert,</td>\n",
       "      <td>,AmandaDeCadenet,SammiDavis,ValeriaGolino</td>\n",
       "      <td>98.0</td>\n",
       "      <td>Allison Anders,Alexandre Rockwell,Robert Rodri...</td>\n",
       "      <td>[0, 0, 0, 0, 1, 0, 0, 0, 0, 1, 0, 0, 0, 0, 0, ...</td>\n",
       "      <td>[1, 1, 1, 1, 1, 1, 1, 1, 1, 1, 1, 1, 1, 1, 1, ...</td>\n",
       "      <td>[1, 0, 0, 0, 0, 0, 0, 0, 0, 0, 0, 0, 0, 0, 0, ...</td>\n",
       "    </tr>\n",
       "    <tr>\n",
       "      <th>1</th>\n",
       "      <td>12.0</td>\n",
       "      <td>6.4</td>\n",
       "      <td>96</td>\n",
       "      <td>Judgment Night</td>\n",
       "      <td>en</td>\n",
       "      <td>1993-10-15</td>\n",
       "      <td>Universal Pictures,Largo Entertainment,JVC Ent...</td>\n",
       "      <td>Japan,United States of America</td>\n",
       "      <td>[Action, Thriller, Crime]</td>\n",
       "      <td>Stephen Hopkins</td>\n",
       "      <td>Gene Levy,Christopher Mollo,Lloyd Segan,</td>\n",
       "      <td>,CubaGoodingJr.,DenisLeary,EmilioEstevez</td>\n",
       "      <td>110.0</td>\n",
       "      <td>Lewis Colick,Jere Cunningham,Lewis Colick</td>\n",
       "      <td>[0, 0, 0, 0, 0, 0, 0, 0, 0, 1, 0, 0, 0, 1, 0, ...</td>\n",
       "      <td>[1, 0, 1, 1, 1, 1, 1, 1, 1, 1, 0, 1, 1, 1, 0, ...</td>\n",
       "      <td>[0, 1, 0, 0, 0, 0, 0, 0, 0, 0, 0, 0, 0, 0, 0, ...</td>\n",
       "    </tr>\n",
       "    <tr>\n",
       "      <th>2</th>\n",
       "      <td>775398007.0</td>\n",
       "      <td>8.1</td>\n",
       "      <td>8550</td>\n",
       "      <td>Star Wars</td>\n",
       "      <td>en</td>\n",
       "      <td>1977-05-25</td>\n",
       "      <td>Lucasfilm,20th Century Fox</td>\n",
       "      <td>United States of America</td>\n",
       "      <td>[Adventure, Action, Science Fiction]</td>\n",
       "      <td>George Lucas</td>\n",
       "      <td>Gary Kurtz,George Lucas,Rick McCallum</td>\n",
       "      <td>,CarrieFisher,HarrisonFord,MarkHamill</td>\n",
       "      <td>121.0</td>\n",
       "      <td>George Lucas</td>\n",
       "      <td>[0, 0, 1, 1, 0, 0, 0, 0, 0, 0, 0, 0, 0, 1, 0, ...</td>\n",
       "      <td>[1, 0, 1, 1, 1, 1, 0, 1, 1, 0, 0, 1, 0, 1, 0, ...</td>\n",
       "      <td>[0, 0, 1, 0, 0, 0, 0, 0, 0, 0, 0, 0, 0, 0, 0, ...</td>\n",
       "    </tr>\n",
       "    <tr>\n",
       "      <th>3</th>\n",
       "      <td>940335536.0</td>\n",
       "      <td>7.7</td>\n",
       "      <td>8085</td>\n",
       "      <td>Finding Nemo</td>\n",
       "      <td>en</td>\n",
       "      <td>2003-05-30</td>\n",
       "      <td>Pixar</td>\n",
       "      <td>United States of America</td>\n",
       "      <td>[Animation, Family]</td>\n",
       "      <td>Andrew Stanton,Lee Unkrich</td>\n",
       "      <td>Jinko Gotoh,John Lasseter,Graham Walters</td>\n",
       "      <td>,AlbertBrooks,AlexanderGould,EllenDeGeneres</td>\n",
       "      <td>100.0</td>\n",
       "      <td>Andrew Stanton,Andrew Stanton,Bob Peterson,</td>\n",
       "      <td>[0, 0, 0, 0, 0, 1, 0, 0, 0, 0, 0, 0, 0, 0, 0, ...</td>\n",
       "      <td>[1, 1, 0, 1, 1, 1, 1, 1, 0, 1, 0, 0, 0, 1, 0, ...</td>\n",
       "      <td>[0, 0, 0, 1, 0, 0, 0, 0, 0, 0, 0, 0, 0, 0, 0, ...</td>\n",
       "    </tr>\n",
       "    <tr>\n",
       "      <th>4</th>\n",
       "      <td>677945399.0</td>\n",
       "      <td>8.3</td>\n",
       "      <td>10346</td>\n",
       "      <td>Forrest Gump</td>\n",
       "      <td>en</td>\n",
       "      <td>1994-07-06</td>\n",
       "      <td>Paramount</td>\n",
       "      <td>United States of America</td>\n",
       "      <td>[Comedy, Drama, Romance]</td>\n",
       "      <td>Robert Zemeckis</td>\n",
       "      <td>Wendy Finerman,Charles Newirth,Steve Starkey,</td>\n",
       "      <td>,RebeccaWilliams,SallyField,TomHanks</td>\n",
       "      <td>142.0</td>\n",
       "      <td>Winston Groom,Eric Roth</td>\n",
       "      <td>[0, 1, 0, 0, 1, 0, 0, 0, 1, 0, 0, 0, 0, 0, 0, ...</td>\n",
       "      <td>[1, 0, 1, 1, 1, 1, 0, 1, 0, 0, 1, 1, 0, 1, 0, ...</td>\n",
       "      <td>[0, 0, 0, 0, 1, 0, 0, 0, 0, 0, 0, 0, 0, 0, 0, ...</td>\n",
       "    </tr>\n",
       "  </tbody>\n",
       "</table>\n",
       "</div>"
      ],
      "text/plain": [
       "       revenue  vote_average  vote_count           title original_language  \\\n",
       "0    4300000.0           6.6         714      Four Rooms                en   \n",
       "1         12.0           6.4          96  Judgment Night                en   \n",
       "2  775398007.0           8.1        8550       Star Wars                en   \n",
       "3  940335536.0           7.7        8085    Finding Nemo                en   \n",
       "4  677945399.0           8.3       10346    Forrest Gump                en   \n",
       "\n",
       "  release_date                               production_companies  \\\n",
       "0   1995-12-09                         Miramax Films,A Band Apart   \n",
       "1   1993-10-15  Universal Pictures,Largo Entertainment,JVC Ent...   \n",
       "2   1977-05-25                         Lucasfilm,20th Century Fox   \n",
       "3   2003-05-30                                              Pixar   \n",
       "4   1994-07-06                                          Paramount   \n",
       "\n",
       "             production_countries                                genres  \\\n",
       "0        United States of America                       [Crime, Comedy]   \n",
       "1  Japan,United States of America             [Action, Thriller, Crime]   \n",
       "2        United States of America  [Adventure, Action, Science Fiction]   \n",
       "3        United States of America                   [Animation, Family]   \n",
       "4        United States of America              [Comedy, Drama, Romance]   \n",
       "\n",
       "                                            director  \\\n",
       "0  Allison Anders,Alexandre Rockwell,Robert Rodri...   \n",
       "1                                    Stephen Hopkins   \n",
       "2                                       George Lucas   \n",
       "3                         Andrew Stanton,Lee Unkrich   \n",
       "4                                    Robert Zemeckis   \n",
       "\n",
       "                                        producer  \\\n",
       "0  Lawrence Bender,Paul Hellerman,Scott Lambert,   \n",
       "1       Gene Levy,Christopher Mollo,Lloyd Segan,   \n",
       "2          Gary Kurtz,George Lucas,Rick McCallum   \n",
       "3       Jinko Gotoh,John Lasseter,Graham Walters   \n",
       "4  Wendy Finerman,Charles Newirth,Steve Starkey,   \n",
       "\n",
       "                                          cast  runtimes  \\\n",
       "0    ,AmandaDeCadenet,SammiDavis,ValeriaGolino      98.0   \n",
       "1     ,CubaGoodingJr.,DenisLeary,EmilioEstevez     110.0   \n",
       "2        ,CarrieFisher,HarrisonFord,MarkHamill     121.0   \n",
       "3  ,AlbertBrooks,AlexanderGould,EllenDeGeneres     100.0   \n",
       "4         ,RebeccaWilliams,SallyField,TomHanks     142.0   \n",
       "\n",
       "                                              writer  \\\n",
       "0  Allison Anders,Alexandre Rockwell,Robert Rodri...   \n",
       "1          Lewis Colick,Jere Cunningham,Lewis Colick   \n",
       "2                                       George Lucas   \n",
       "3        Andrew Stanton,Andrew Stanton,Bob Peterson,   \n",
       "4                            Winston Groom,Eric Roth   \n",
       "\n",
       "                                          genres_bin  \\\n",
       "0  [0, 0, 0, 0, 1, 0, 0, 0, 0, 1, 0, 0, 0, 0, 0, ...   \n",
       "1  [0, 0, 0, 0, 0, 0, 0, 0, 0, 1, 0, 0, 0, 1, 0, ...   \n",
       "2  [0, 0, 1, 1, 0, 0, 0, 0, 0, 0, 0, 0, 0, 1, 0, ...   \n",
       "3  [0, 0, 0, 0, 0, 1, 0, 0, 0, 0, 0, 0, 0, 0, 0, ...   \n",
       "4  [0, 1, 0, 0, 1, 0, 0, 0, 1, 0, 0, 0, 0, 0, 0, ...   \n",
       "\n",
       "                                            cast_bin  \\\n",
       "0  [1, 1, 1, 1, 1, 1, 1, 1, 1, 1, 1, 1, 1, 1, 1, ...   \n",
       "1  [1, 0, 1, 1, 1, 1, 1, 1, 1, 1, 0, 1, 1, 1, 0, ...   \n",
       "2  [1, 0, 1, 1, 1, 1, 0, 1, 1, 0, 0, 1, 0, 1, 0, ...   \n",
       "3  [1, 1, 0, 1, 1, 1, 1, 1, 0, 1, 0, 0, 0, 1, 0, ...   \n",
       "4  [1, 0, 1, 1, 1, 1, 0, 1, 0, 0, 1, 1, 0, 1, 0, ...   \n",
       "\n",
       "                                        director_bin  \n",
       "0  [1, 0, 0, 0, 0, 0, 0, 0, 0, 0, 0, 0, 0, 0, 0, ...  \n",
       "1  [0, 1, 0, 0, 0, 0, 0, 0, 0, 0, 0, 0, 0, 0, 0, ...  \n",
       "2  [0, 0, 1, 0, 0, 0, 0, 0, 0, 0, 0, 0, 0, 0, 0, ...  \n",
       "3  [0, 0, 0, 1, 0, 0, 0, 0, 0, 0, 0, 0, 0, 0, 0, ...  \n",
       "4  [0, 0, 0, 0, 1, 0, 0, 0, 0, 0, 0, 0, 0, 0, 0, ...  "
      ]
     },
     "execution_count": 749,
     "metadata": {},
     "output_type": "execute_result"
    }
   ],
   "source": [
    "movies['director_bin'] = movies['director'].apply(lambda x: binary(x))\n",
    "movies.head()"
   ]
  },
  {
   "cell_type": "code",
   "execution_count": 750,
   "id": "76c81ae4",
   "metadata": {},
   "outputs": [
    {
     "data": {
      "image/png": "[encoded data removed]",
      "text/plain": [
       "<Figure size 1152x288 with 1 Axes>"
      ]
     },
     "metadata": {
      "needs_background": "light"
     },
     "output_type": "display_data"
    }
   ],
   "source": [
    "f,ax = plt.subplots(1,1,figsize=(16,4))\n",
    "plt.scatter(movies['title'].index,movies['vote_count'],color='mediumseagreen')\n",
    "plt.axhline(y=10,color='r')\n",
    "plt.xlabel('MovieId')\n",
    "plt.ylabel('No. of users voted')\n",
    "plt.show()"
   ]
  },
  {
   "cell_type": "code",
   "execution_count": 751,
   "id": "2c6071cc",
   "metadata": {},
   "outputs": [
    {
     "data": {
      "text/plain": [
       "<AxesSubplot:xlabel='year'>"
      ]
     },
     "execution_count": 751,
     "metadata": {},
     "output_type": "execute_result"
    },
    {
     "data": {
      "image/png": "[encoded data removed]",
      "text/plain": [
       "<Figure size 1296x576 with 1 Axes>"
      ]
     },
     "metadata": {
      "needs_background": "light"
     },
     "output_type": "display_data"
    }
   ],
   "source": [
    "movies['year'] = movies['release_date'].dt.year\n",
    "year_rev = movies[['year','revenue']].groupby('year').mean()\n",
    "year_rev.plot(figsize=(18,8))"
   ]
  },
  {
   "cell_type": "code",
   "execution_count": 752,
   "id": "a9a63285",
   "metadata": {},
   "outputs": [
    {
     "data": {
      "text/html": [
       "<div>\n",
       "<style scoped>\n",
       "    .dataframe tbody tr th:only-of-type {\n",
       "        vertical-align: middle;\n",
       "    }\n",
       "\n",
       "    .dataframe tbody tr th {\n",
       "        vertical-align: top;\n",
       "    }\n",
       "\n",
       "    .dataframe thead th {\n",
       "        text-align: right;\n",
       "    }\n",
       "</style>\n",
       "<table border=\"1\" class=\"dataframe\">\n",
       "  <thead>\n",
       "    <tr style=\"text-align: right;\">\n",
       "      <th></th>\n",
       "      <th>title</th>\n",
       "      <th>revenue</th>\n",
       "      <th>year</th>\n",
       "      <th>vote_count</th>\n",
       "    </tr>\n",
       "  </thead>\n",
       "  <tbody>\n",
       "    <tr>\n",
       "      <th>7739</th>\n",
       "      <td>Inception</td>\n",
       "      <td>8.255328e+08</td>\n",
       "      <td>2010</td>\n",
       "      <td>16852</td>\n",
       "    </tr>\n",
       "    <tr>\n",
       "      <th>71</th>\n",
       "      <td>The Dark Knight</td>\n",
       "      <td>1.004558e+09</td>\n",
       "      <td>2008</td>\n",
       "      <td>14514</td>\n",
       "    </tr>\n",
       "    <tr>\n",
       "      <th>6262</th>\n",
       "      <td>Avatar</td>\n",
       "      <td>2.787965e+09</td>\n",
       "      <td>2009</td>\n",
       "      <td>14464</td>\n",
       "    </tr>\n",
       "    <tr>\n",
       "      <th>275</th>\n",
       "      <td>Fight Club</td>\n",
       "      <td>1.008538e+08</td>\n",
       "      <td>1999</td>\n",
       "      <td>12052</td>\n",
       "    </tr>\n",
       "    <tr>\n",
       "      <th>741</th>\n",
       "      <td>Iron Man</td>\n",
       "      <td>5.851742e+08</td>\n",
       "      <td>2008</td>\n",
       "      <td>10971</td>\n",
       "    </tr>\n",
       "    <tr>\n",
       "      <th>361</th>\n",
       "      <td>Pulp Fiction</td>\n",
       "      <td>2.139288e+08</td>\n",
       "      <td>1994</td>\n",
       "      <td>10950</td>\n",
       "    </tr>\n",
       "    <tr>\n",
       "      <th>312</th>\n",
       "      <td>The Matrix</td>\n",
       "      <td>4.635174e+08</td>\n",
       "      <td>1999</td>\n",
       "      <td>10800</td>\n",
       "    </tr>\n",
       "    <tr>\n",
       "      <th>54</th>\n",
       "      <td>The Lord of the Rings: The Fellowship of the Ring</td>\n",
       "      <td>8.713684e+08</td>\n",
       "      <td>2001</td>\n",
       "      <td>10765</td>\n",
       "    </tr>\n",
       "    <tr>\n",
       "      <th>4</th>\n",
       "      <td>Forrest Gump</td>\n",
       "      <td>6.779454e+08</td>\n",
       "      <td>1994</td>\n",
       "      <td>10346</td>\n",
       "    </tr>\n",
       "    <tr>\n",
       "      <th>145</th>\n",
       "      <td>The Shawshank Redemption</td>\n",
       "      <td>2.834147e+07</td>\n",
       "      <td>1994</td>\n",
       "      <td>9896</td>\n",
       "    </tr>\n",
       "  </tbody>\n",
       "</table>\n",
       "</div>"
      ],
      "text/plain": [
       "                                                  title       revenue  year  \\\n",
       "7739                                          Inception  8.255328e+08  2010   \n",
       "71                                      The Dark Knight  1.004558e+09  2008   \n",
       "6262                                             Avatar  2.787965e+09  2009   \n",
       "275                                          Fight Club  1.008538e+08  1999   \n",
       "741                                            Iron Man  5.851742e+08  2008   \n",
       "361                                        Pulp Fiction  2.139288e+08  1994   \n",
       "312                                          The Matrix  4.635174e+08  1999   \n",
       "54    The Lord of the Rings: The Fellowship of the Ring  8.713684e+08  2001   \n",
       "4                                          Forrest Gump  6.779454e+08  1994   \n",
       "145                            The Shawshank Redemption  2.834147e+07  1994   \n",
       "\n",
       "      vote_count  \n",
       "7739       16852  \n",
       "71         14514  \n",
       "6262       14464  \n",
       "275        12052  \n",
       "741        10971  \n",
       "361        10950  \n",
       "312        10800  \n",
       "54         10765  \n",
       "4          10346  \n",
       "145         9896  "
      ]
     },
     "execution_count": 752,
     "metadata": {},
     "output_type": "execute_result"
    }
   ],
   "source": [
    "#Top 10 movies with highest vote count\n",
    "movies[['title','revenue', 'year','vote_count']].sort_values('vote_count', ascending=False).head(10)"
   ]
  },
  {
   "cell_type": "code",
   "execution_count": 753,
   "id": "f2df1b32",
   "metadata": {},
   "outputs": [
    {
     "data": {
      "text/html": [
       "<div>\n",
       "<style scoped>\n",
       "    .dataframe tbody tr th:only-of-type {\n",
       "        vertical-align: middle;\n",
       "    }\n",
       "\n",
       "    .dataframe tbody tr th {\n",
       "        vertical-align: top;\n",
       "    }\n",
       "\n",
       "    .dataframe thead th {\n",
       "        text-align: right;\n",
       "    }\n",
       "</style>\n",
       "<table border=\"1\" class=\"dataframe\">\n",
       "  <thead>\n",
       "    <tr style=\"text-align: right;\">\n",
       "      <th></th>\n",
       "      <th>title</th>\n",
       "      <th>revenue</th>\n",
       "      <th>year</th>\n",
       "      <th>vote_average</th>\n",
       "    </tr>\n",
       "  </thead>\n",
       "  <tbody>\n",
       "    <tr>\n",
       "      <th>145</th>\n",
       "      <td>The Shawshank Redemption</td>\n",
       "      <td>2.834147e+07</td>\n",
       "      <td>1994</td>\n",
       "      <td>8.6</td>\n",
       "    </tr>\n",
       "    <tr>\n",
       "      <th>124</th>\n",
       "      <td>The Godfather</td>\n",
       "      <td>2.450664e+08</td>\n",
       "      <td>1972</td>\n",
       "      <td>8.5</td>\n",
       "    </tr>\n",
       "    <tr>\n",
       "      <th>126</th>\n",
       "      <td>The Godfather: Part II</td>\n",
       "      <td>1.026000e+08</td>\n",
       "      <td>1974</td>\n",
       "      <td>8.4</td>\n",
       "    </tr>\n",
       "    <tr>\n",
       "      <th>216</th>\n",
       "      <td>Schindler's List</td>\n",
       "      <td>3.213656e+08</td>\n",
       "      <td>1993</td>\n",
       "      <td>8.4</td>\n",
       "    </tr>\n",
       "    <tr>\n",
       "      <th>71</th>\n",
       "      <td>The Dark Knight</td>\n",
       "      <td>1.004558e+09</td>\n",
       "      <td>2008</td>\n",
       "      <td>8.3</td>\n",
       "    </tr>\n",
       "    <tr>\n",
       "      <th>399</th>\n",
       "      <td>GoodFellas</td>\n",
       "      <td>4.683639e+07</td>\n",
       "      <td>1990</td>\n",
       "      <td>8.3</td>\n",
       "    </tr>\n",
       "    <tr>\n",
       "      <th>361</th>\n",
       "      <td>Pulp Fiction</td>\n",
       "      <td>2.139288e+08</td>\n",
       "      <td>1994</td>\n",
       "      <td>8.3</td>\n",
       "    </tr>\n",
       "    <tr>\n",
       "      <th>816</th>\n",
       "      <td>The Empire Strikes Back</td>\n",
       "      <td>5.384000e+08</td>\n",
       "      <td>1980</td>\n",
       "      <td>8.3</td>\n",
       "    </tr>\n",
       "    <tr>\n",
       "      <th>24</th>\n",
       "      <td>American History X</td>\n",
       "      <td>2.387513e+07</td>\n",
       "      <td>1998</td>\n",
       "      <td>8.3</td>\n",
       "    </tr>\n",
       "    <tr>\n",
       "      <th>56</th>\n",
       "      <td>The Lord of the Rings: The Return of the King</td>\n",
       "      <td>1.118889e+09</td>\n",
       "      <td>2003</td>\n",
       "      <td>8.3</td>\n",
       "    </tr>\n",
       "  </tbody>\n",
       "</table>\n",
       "</div>"
      ],
      "text/plain": [
       "                                             title       revenue  year  \\\n",
       "145                       The Shawshank Redemption  2.834147e+07  1994   \n",
       "124                                  The Godfather  2.450664e+08  1972   \n",
       "126                         The Godfather: Part II  1.026000e+08  1974   \n",
       "216                               Schindler's List  3.213656e+08  1993   \n",
       "71                                 The Dark Knight  1.004558e+09  2008   \n",
       "399                                     GoodFellas  4.683639e+07  1990   \n",
       "361                                   Pulp Fiction  2.139288e+08  1994   \n",
       "816                        The Empire Strikes Back  5.384000e+08  1980   \n",
       "24                              American History X  2.387513e+07  1998   \n",
       "56   The Lord of the Rings: The Return of the King  1.118889e+09  2003   \n",
       "\n",
       "     vote_average  \n",
       "145           8.6  \n",
       "124           8.5  \n",
       "126           8.4  \n",
       "216           8.4  \n",
       "71            8.3  \n",
       "399           8.3  \n",
       "361           8.3  \n",
       "816           8.3  \n",
       "24            8.3  \n",
       "56            8.3  "
      ]
     },
     "execution_count": 753,
     "metadata": {},
     "output_type": "execute_result"
    }
   ],
   "source": [
    "#displaying the top 10 movies according to average voting\n",
    "movies[movies['vote_count'] > 3000][['title','revenue', 'year','vote_average']].sort_values('vote_average', ascending=False).head(10)"
   ]
  },
  {
   "cell_type": "code",
   "execution_count": 754,
   "id": "2155deff",
   "metadata": {},
   "outputs": [
    {
     "data": {
      "text/plain": [
       "<AxesSubplot:xlabel='runtimes', ylabel='Density'>"
      ]
     },
     "execution_count": 754,
     "metadata": {},
     "output_type": "execute_result"
    },
    {
     "data": {
      "image/png": "[encoded data removed]",
      "text/plain": [
       "<Figure size 432x288 with 1 Axes>"
      ]
     },
     "metadata": {
      "needs_background": "light"
     },
     "output_type": "display_data"
    }
   ],
   "source": [
    "#Movie runtime trend\n",
    "sns.distplot(movies['runtimes'])"
   ]
  },
  {
   "cell_type": "code",
   "execution_count": 755,
   "id": "e79912b8",
   "metadata": {},
   "outputs": [
    {
     "data": {
      "text/plain": [
       "<AxesSubplot:xlabel='year'>"
      ]
     },
     "execution_count": 755,
     "metadata": {},
     "output_type": "execute_result"
    },
    {
     "data": {
      "image/png": "[encoded data removed]",
      "text/plain": [
       "<Figure size 1296x360 with 1 Axes>"
      ]
     },
     "metadata": {
      "needs_background": "light"
     },
     "output_type": "display_data"
    }
   ],
   "source": [
    "#movies released by year\n",
    "all_year = movies.groupby('year')['title'].count()\n",
    "all_year.plot(figsize=(18,5))"
   ]
  },
  {
   "cell_type": "code",
   "execution_count": 756,
   "id": "8f24a47f",
   "metadata": {},
   "outputs": [
    {
     "data": {
      "application/vnd.plotly.v1+json": {
       "config": {
        "linkText": "Export to plot.ly",
        "plotlyServerURL": "https://plot.ly",
        "showLink": false
       },
       "data": [
        {
         "marker": {
          "color": "rgb(127,188,65)"
         },
         "type": "bar",
         "x": [
          "1910s",
          "1920s",
          "1930s",
          "1940s",
          "1950s",
          "1960s",
          "1970s",
          "1980s",
          "1990s",
          "2000s",
          "2010s"
         ],
         "y": [
          330,
          2126,
          15342,
          25358,
          45952,
          59557,
          122343,
          300856,
          702118,
          1593934,
          178113
         ]
        }
       ],
       "layout": {
        "template": {
         "data": {
          "bar": [
           {
            "error_x": {
             "color": "#2a3f5f"
            },
            "error_y": {
             "color": "#2a3f5f"
            },
            "marker": {
             "line": {
              "color": "#E5ECF6",
              "width": 0.5
             },
             "pattern": {
              "fillmode": "overlay",
              "size": 10,
              "solidity": 0.2
             }
            },
            "type": "bar"
           }
          ],
          "barpolar": [
           {
            "marker": {
             "line": {
              "color": "#E5ECF6",
              "width": 0.5
             },
             "pattern": {
              "fillmode": "overlay",
              "size": 10,
              "solidity": 0.2
             }
            },
            "type": "barpolar"
           }
          ],
          "carpet": [
           {
            "aaxis": {
             "endlinecolor": "#2a3f5f",
             "gridcolor": "white",
             "linecolor": "white",
             "minorgridcolor": "white",
             "startlinecolor": "#2a3f5f"
            },
            "baxis": {
             "endlinecolor": "#2a3f5f",
             "gridcolor": "white",
             "linecolor": "white",
             "minorgridcolor": "white",
             "startlinecolor": "#2a3f5f"
            },
            "type": "carpet"
           }
          ],
          "choropleth": [
           {
            "colorbar": {
             "outlinewidth": 0,
             "ticks": ""
            },
            "type": "choropleth"
           }
          ],
          "contour": [
           {
            "colorbar": {
             "outlinewidth": 0,
             "ticks": ""
            },
            "colorscale": [
             [
              0,
              "#0d0887"
             ],
             [
              0.1111111111111111,
              "#46039f"
             ],
             [
              0.2222222222222222,
              "#7201a8"
             ],
             [
              0.3333333333333333,
              "#9c179e"
             ],
             [
              0.4444444444444444,
              "#bd3786"
             ],
             [
              0.5555555555555556,
              "#d8576b"
             ],
             [
              0.6666666666666666,
              "#ed7953"
             ],
             [
              0.7777777777777778,
              "#fb9f3a"
             ],
             [
              0.8888888888888888,
              "#fdca26"
             ],
             [
              1,
              "#f0f921"
             ]
            ],
            "type": "contour"
           }
          ],
          "contourcarpet": [
           {
            "colorbar": {
             "outlinewidth": 0,
             "ticks": ""
            },
            "type": "contourcarpet"
           }
          ],
          "heatmap": [
           {
            "colorbar": {
             "outlinewidth": 0,
             "ticks": ""
            },
            "colorscale": [
             [
              0,
              "#0d0887"
             ],
             [
              0.1111111111111111,
              "#46039f"
             ],
             [
              0.2222222222222222,
              "#7201a8"
             ],
             [
              0.3333333333333333,
              "#9c179e"
             ],
             [
              0.4444444444444444,
              "#bd3786"
             ],
             [
              0.5555555555555556,
              "#d8576b"
             ],
             [
              0.6666666666666666,
              "#ed7953"
             ],
             [
              0.7777777777777778,
              "#fb9f3a"
             ],
             [
              0.8888888888888888,
              "#fdca26"
             ],
             [
              1,
              "#f0f921"
             ]
            ],
            "type": "heatmap"
           }
          ],
          "heatmapgl": [
           {
            "colorbar": {
             "outlinewidth": 0,
             "ticks": ""
            },
            "colorscale": [
             [
              0,
              "#0d0887"
             ],
             [
              0.1111111111111111,
              "#46039f"
             ],
             [
              0.2222222222222222,
              "#7201a8"
             ],
             [
              0.3333333333333333,
              "#9c179e"
             ],
             [
              0.4444444444444444,
              "#bd3786"
             ],
             [
              0.5555555555555556,
              "#d8576b"
             ],
             [
              0.6666666666666666,
              "#ed7953"
             ],
             [
              0.7777777777777778,
              "#fb9f3a"
             ],
             [
              0.8888888888888888,
              "#fdca26"
             ],
             [
              1,
              "#f0f921"
             ]
            ],
            "type": "heatmapgl"
           }
          ],
          "histogram": [
           {
            "marker": {
             "pattern": {
              "fillmode": "overlay",
              "size": 10,
              "solidity": 0.2
             }
            },
            "type": "histogram"
           }
          ],
          "histogram2d": [
           {
            "colorbar": {
             "outlinewidth": 0,
             "ticks": ""
            },
            "colorscale": [
             [
              0,
              "#0d0887"
             ],
             [
              0.1111111111111111,
              "#46039f"
             ],
             [
              0.2222222222222222,
              "#7201a8"
             ],
             [
              0.3333333333333333,
              "#9c179e"
             ],
             [
              0.4444444444444444,
              "#bd3786"
             ],
             [
              0.5555555555555556,
              "#d8576b"
             ],
             [
              0.6666666666666666,
              "#ed7953"
             ],
             [
              0.7777777777777778,
              "#fb9f3a"
             ],
             [
              0.8888888888888888,
              "#fdca26"
             ],
             [
              1,
              "#f0f921"
             ]
            ],
            "type": "histogram2d"
           }
          ],
          "histogram2dcontour": [
           {
            "colorbar": {
             "outlinewidth": 0,
             "ticks": ""
            },
            "colorscale": [
             [
              0,
              "#0d0887"
             ],
             [
              0.1111111111111111,
              "#46039f"
             ],
             [
              0.2222222222222222,
              "#7201a8"
             ],
             [
              0.3333333333333333,
              "#9c179e"
             ],
             [
              0.4444444444444444,
              "#bd3786"
             ],
             [
              0.5555555555555556,
              "#d8576b"
             ],
             [
              0.6666666666666666,
              "#ed7953"
             ],
             [
              0.7777777777777778,
              "#fb9f3a"
             ],
             [
              0.8888888888888888,
              "#fdca26"
             ],
             [
              1,
              "#f0f921"
             ]
            ],
            "type": "histogram2dcontour"
           }
          ],
          "mesh3d": [
           {
            "colorbar": {
             "outlinewidth": 0,
             "ticks": ""
            },
            "type": "mesh3d"
           }
          ],
          "parcoords": [
           {
            "line": {
             "colorbar": {
              "outlinewidth": 0,
              "ticks": ""
             }
            },
            "type": "parcoords"
           }
          ],
          "pie": [
           {
            "automargin": true,
            "type": "pie"
           }
          ],
          "scatter": [
           {
            "marker": {
             "colorbar": {
              "outlinewidth": 0,
              "ticks": ""
             }
            },
            "type": "scatter"
           }
          ],
          "scatter3d": [
           {
            "line": {
             "colorbar": {
              "outlinewidth": 0,
              "ticks": ""
             }
            },
            "marker": {
             "colorbar": {
              "outlinewidth": 0,
              "ticks": ""
             }
            },
            "type": "scatter3d"
           }
          ],
          "scattercarpet": [
           {
            "marker": {
             "colorbar": {
              "outlinewidth": 0,
              "ticks": ""
             }
            },
            "type": "scattercarpet"
           }
          ],
          "scattergeo": [
           {
            "marker": {
             "colorbar": {
              "outlinewidth": 0,
              "ticks": ""
             }
            },
            "type": "scattergeo"
           }
          ],
          "scattergl": [
           {
            "marker": {
             "colorbar": {
              "outlinewidth": 0,
              "ticks": ""
             }
            },
            "type": "scattergl"
           }
          ],
          "scattermapbox": [
           {
            "marker": {
             "colorbar": {
              "outlinewidth": 0,
              "ticks": ""
             }
            },
            "type": "scattermapbox"
           }
          ],
          "scatterpolar": [
           {
            "marker": {
             "colorbar": {
              "outlinewidth": 0,
              "ticks": ""
             }
            },
            "type": "scatterpolar"
           }
          ],
          "scatterpolargl": [
           {
            "marker": {
             "colorbar": {
              "outlinewidth": 0,
              "ticks": ""
             }
            },
            "type": "scatterpolargl"
           }
          ],
          "scatterternary": [
           {
            "marker": {
             "colorbar": {
              "outlinewidth": 0,
              "ticks": ""
             }
            },
            "type": "scatterternary"
           }
          ],
          "surface": [
           {
            "colorbar": {
             "outlinewidth": 0,
             "ticks": ""
            },
            "colorscale": [
             [
              0,
              "#0d0887"
             ],
             [
              0.1111111111111111,
              "#46039f"
             ],
             [
              0.2222222222222222,
              "#7201a8"
             ],
             [
              0.3333333333333333,
              "#9c179e"
             ],
             [
              0.4444444444444444,
              "#bd3786"
             ],
             [
              0.5555555555555556,
              "#d8576b"
             ],
             [
              0.6666666666666666,
              "#ed7953"
             ],
             [
              0.7777777777777778,
              "#fb9f3a"
             ],
             [
              0.8888888888888888,
              "#fdca26"
             ],
             [
              1,
              "#f0f921"
             ]
            ],
            "type": "surface"
           }
          ],
          "table": [
           {
            "cells": {
             "fill": {
              "color": "#EBF0F8"
             },
             "line": {
              "color": "white"
             }
            },
            "header": {
             "fill": {
              "color": "#C8D4E3"
             },
             "line": {
              "color": "white"
             }
            },
            "type": "table"
           }
          ]
         },
         "layout": {
          "annotationdefaults": {
           "arrowcolor": "#2a3f5f",
           "arrowhead": 0,
           "arrowwidth": 1
          },
          "autotypenumbers": "strict",
          "coloraxis": {
           "colorbar": {
            "outlinewidth": 0,
            "ticks": ""
           }
          },
          "colorscale": {
           "diverging": [
            [
             0,
             "#8e0152"
            ],
            [
             0.1,
             "#c51b7d"
            ],
            [
             0.2,
             "#de77ae"
            ],
            [
             0.3,
             "#f1b6da"
            ],
            [
             0.4,
             "#fde0ef"
            ],
            [
             0.5,
             "#f7f7f7"
            ],
            [
             0.6,
             "#e6f5d0"
            ],
            [
             0.7,
             "#b8e186"
            ],
            [
             0.8,
             "#7fbc41"
            ],
            [
             0.9,
             "#4d9221"
            ],
            [
             1,
             "#276419"
            ]
           ],
           "sequential": [
            [
             0,
             "#0d0887"
            ],
            [
             0.1111111111111111,
             "#46039f"
            ],
            [
             0.2222222222222222,
             "#7201a8"
            ],
            [
             0.3333333333333333,
             "#9c179e"
            ],
            [
             0.4444444444444444,
             "#bd3786"
            ],
            [
             0.5555555555555556,
             "#d8576b"
            ],
            [
             0.6666666666666666,
             "#ed7953"
            ],
            [
             0.7777777777777778,
             "#fb9f3a"
            ],
            [
             0.8888888888888888,
             "#fdca26"
            ],
            [
             1,
             "#f0f921"
            ]
           ],
           "sequentialminus": [
            [
             0,
             "#0d0887"
            ],
            [
             0.1111111111111111,
             "#46039f"
            ],
            [
             0.2222222222222222,
             "#7201a8"
            ],
            [
             0.3333333333333333,
             "#9c179e"
            ],
            [
             0.4444444444444444,
             "#bd3786"
            ],
            [
             0.5555555555555556,
             "#d8576b"
            ],
            [
             0.6666666666666666,
             "#ed7953"
            ],
            [
             0.7777777777777778,
             "#fb9f3a"
            ],
            [
             0.8888888888888888,
             "#fdca26"
            ],
            [
             1,
             "#f0f921"
            ]
           ]
          },
          "colorway": [
           "#636efa",
           "#EF553B",
           "#00cc96",
           "#ab63fa",
           "#FFA15A",
           "#19d3f3",
           "#FF6692",
           "#B6E880",
           "#FF97FF",
           "#FECB52"
          ],
          "font": {
           "color": "#2a3f5f"
          },
          "geo": {
           "bgcolor": "white",
           "lakecolor": "white",
           "landcolor": "#E5ECF6",
           "showlakes": true,
           "showland": true,
           "subunitcolor": "white"
          },
          "hoverlabel": {
           "align": "left"
          },
          "hovermode": "closest",
          "mapbox": {
           "style": "light"
          },
          "paper_bgcolor": "white",
          "plot_bgcolor": "#E5ECF6",
          "polar": {
           "angularaxis": {
            "gridcolor": "white",
            "linecolor": "white",
            "ticks": ""
           },
           "bgcolor": "#E5ECF6",
           "radialaxis": {
            "gridcolor": "white",
            "linecolor": "white",
            "ticks": ""
           }
          },
          "scene": {
           "xaxis": {
            "backgroundcolor": "#E5ECF6",
            "gridcolor": "white",
            "gridwidth": 2,
            "linecolor": "white",
            "showbackground": true,
            "ticks": "",
            "zerolinecolor": "white"
           },
           "yaxis": {
            "backgroundcolor": "#E5ECF6",
            "gridcolor": "white",
            "gridwidth": 2,
            "linecolor": "white",
            "showbackground": true,
            "ticks": "",
            "zerolinecolor": "white"
           },
           "zaxis": {
            "backgroundcolor": "#E5ECF6",
            "gridcolor": "white",
            "gridwidth": 2,
            "linecolor": "white",
            "showbackground": true,
            "ticks": "",
            "zerolinecolor": "white"
           }
          },
          "shapedefaults": {
           "line": {
            "color": "#2a3f5f"
           }
          },
          "ternary": {
           "aaxis": {
            "gridcolor": "white",
            "linecolor": "white",
            "ticks": ""
           },
           "baxis": {
            "gridcolor": "white",
            "linecolor": "white",
            "ticks": ""
           },
           "bgcolor": "#E5ECF6",
           "caxis": {
            "gridcolor": "white",
            "linecolor": "white",
            "ticks": ""
           }
          },
          "title": {
           "x": 0.05
          },
          "xaxis": {
           "automargin": true,
           "gridcolor": "white",
           "linecolor": "white",
           "ticks": "",
           "title": {
            "standoff": 15
           },
           "zerolinecolor": "white",
           "zerolinewidth": 2
          },
          "yaxis": {
           "automargin": true,
           "gridcolor": "white",
           "linecolor": "white",
           "ticks": "",
           "title": {
            "standoff": 15
           },
           "zerolinecolor": "white",
           "zerolinewidth": 2
          }
         }
        },
        "title": {
         "text": "Vote Count for each Decade"
        },
        "xaxis": {
         "title": {
          "text": "Decade"
         }
        },
        "yaxis": {
         "title": {
          "text": "Total Votes"
         }
        }
       }
      },
      "text/html": [
       "<div>                            <div id=\"3549006b-dd51-4a96-bc30-effbed22a508\" class=\"plotly-graph-div\" style=\"height:525px; width:100%;\"></div>            <script type=\"text/javascript\">                require([\"plotly\"], function(Plotly) {                    window.PLOTLYENV=window.PLOTLYENV || {};                                    if (document.getElementById(\"3549006b-dd51-4a96-bc30-effbed22a508\")) {                    Plotly.newPlot(                        \"3549006b-dd51-4a96-bc30-effbed22a508\",                        [{\"marker\":{\"color\":\"rgb(127,188,65)\"},\"x\":[\"1910s\",\"1920s\",\"1930s\",\"1940s\",\"1950s\",\"1960s\",\"1970s\",\"1980s\",\"1990s\",\"2000s\",\"2010s\"],\"y\":[330,2126,15342,25358,45952,59557,122343,300856,702118,1593934,178113],\"type\":\"bar\"}],                        {\"template\":{\"data\":{\"barpolar\":[{\"marker\":{\"line\":{\"color\":\"#E5ECF6\",\"width\":0.5},\"pattern\":{\"fillmode\":\"overlay\",\"size\":10,\"solidity\":0.2}},\"type\":\"barpolar\"}],\"bar\":[{\"error_x\":{\"color\":\"#2a3f5f\"},\"error_y\":{\"color\":\"#2a3f5f\"},\"marker\":{\"line\":{\"color\":\"#E5ECF6\",\"width\":0.5},\"pattern\":{\"fillmode\":\"overlay\",\"size\":10,\"solidity\":0.2}},\"type\":\"bar\"}],\"carpet\":[{\"aaxis\":{\"endlinecolor\":\"#2a3f5f\",\"gridcolor\":\"white\",\"linecolor\":\"white\",\"minorgridcolor\":\"white\",\"startlinecolor\":\"#2a3f5f\"},\"baxis\":{\"endlinecolor\":\"#2a3f5f\",\"gridcolor\":\"white\",\"linecolor\":\"white\",\"minorgridcolor\":\"white\",\"startlinecolor\":\"#2a3f5f\"},\"type\":\"carpet\"}],\"choropleth\":[{\"colorbar\":{\"outlinewidth\":0,\"ticks\":\"\"},\"type\":\"choropleth\"}],\"contourcarpet\":[{\"colorbar\":{\"outlinewidth\":0,\"ticks\":\"\"},\"type\":\"contourcarpet\"}],\"contour\":[{\"colorbar\":{\"outlinewidth\":0,\"ticks\":\"\"},\"colorscale\":[[0.0,\"#0d0887\"],[0.1111111111111111,\"#46039f\"],[0.2222222222222222,\"#7201a8\"],[0.3333333333333333,\"#9c179e\"],[0.4444444444444444,\"#bd3786\"],[0.5555555555555556,\"#d8576b\"],[0.6666666666666666,\"#ed7953\"],[0.7777777777777778,\"#fb9f3a\"],[0.8888888888888888,\"#fdca26\"],[1.0,\"#f0f921\"]],\"type\":\"contour\"}],\"heatmapgl\":[{\"colorbar\":{\"outlinewidth\":0,\"ticks\":\"\"},\"colorscale\":[[0.0,\"#0d0887\"],[0.1111111111111111,\"#46039f\"],[0.2222222222222222,\"#7201a8\"],[0.3333333333333333,\"#9c179e\"],[0.4444444444444444,\"#bd3786\"],[0.5555555555555556,\"#d8576b\"],[0.6666666666666666,\"#ed7953\"],[0.7777777777777778,\"#fb9f3a\"],[0.8888888888888888,\"#fdca26\"],[1.0,\"#f0f921\"]],\"type\":\"heatmapgl\"}],\"heatmap\":[{\"colorbar\":{\"outlinewidth\":0,\"ticks\":\"\"},\"colorscale\":[[0.0,\"#0d0887\"],[0.1111111111111111,\"#46039f\"],[0.2222222222222222,\"#7201a8\"],[0.3333333333333333,\"#9c179e\"],[0.4444444444444444,\"#bd3786\"],[0.5555555555555556,\"#d8576b\"],[0.6666666666666666,\"#ed7953\"],[0.7777777777777778,\"#fb9f3a\"],[0.8888888888888888,\"#fdca26\"],[1.0,\"#f0f921\"]],\"type\":\"heatmap\"}],\"histogram2dcontour\":[{\"colorbar\":{\"outlinewidth\":0,\"ticks\":\"\"},\"colorscale\":[[0.0,\"#0d0887\"],[0.1111111111111111,\"#46039f\"],[0.2222222222222222,\"#7201a8\"],[0.3333333333333333,\"#9c179e\"],[0.4444444444444444,\"#bd3786\"],[0.5555555555555556,\"#d8576b\"],[0.6666666666666666,\"#ed7953\"],[0.7777777777777778,\"#fb9f3a\"],[0.8888888888888888,\"#fdca26\"],[1.0,\"#f0f921\"]],\"type\":\"histogram2dcontour\"}],\"histogram2d\":[{\"colorbar\":{\"outlinewidth\":0,\"ticks\":\"\"},\"colorscale\":[[0.0,\"#0d0887\"],[0.1111111111111111,\"#46039f\"],[0.2222222222222222,\"#7201a8\"],[0.3333333333333333,\"#9c179e\"],[0.4444444444444444,\"#bd3786\"],[0.5555555555555556,\"#d8576b\"],[0.6666666666666666,\"#ed7953\"],[0.7777777777777778,\"#fb9f3a\"],[0.8888888888888888,\"#fdca26\"],[1.0,\"#f0f921\"]],\"type\":\"histogram2d\"}],\"histogram\":[{\"marker\":{\"pattern\":{\"fillmode\":\"overlay\",\"size\":10,\"solidity\":0.2}},\"type\":\"histogram\"}],\"mesh3d\":[{\"colorbar\":{\"outlinewidth\":0,\"ticks\":\"\"},\"type\":\"mesh3d\"}],\"parcoords\":[{\"line\":{\"colorbar\":{\"outlinewidth\":0,\"ticks\":\"\"}},\"type\":\"parcoords\"}],\"pie\":[{\"automargin\":true,\"type\":\"pie\"}],\"scatter3d\":[{\"line\":{\"colorbar\":{\"outlinewidth\":0,\"ticks\":\"\"}},\"marker\":{\"colorbar\":{\"outlinewidth\":0,\"ticks\":\"\"}},\"type\":\"scatter3d\"}],\"scattercarpet\":[{\"marker\":{\"colorbar\":{\"outlinewidth\":0,\"ticks\":\"\"}},\"type\":\"scattercarpet\"}],\"scattergeo\":[{\"marker\":{\"colorbar\":{\"outlinewidth\":0,\"ticks\":\"\"}},\"type\":\"scattergeo\"}],\"scattergl\":[{\"marker\":{\"colorbar\":{\"outlinewidth\":0,\"ticks\":\"\"}},\"type\":\"scattergl\"}],\"scattermapbox\":[{\"marker\":{\"colorbar\":{\"outlinewidth\":0,\"ticks\":\"\"}},\"type\":\"scattermapbox\"}],\"scatterpolargl\":[{\"marker\":{\"colorbar\":{\"outlinewidth\":0,\"ticks\":\"\"}},\"type\":\"scatterpolargl\"}],\"scatterpolar\":[{\"marker\":{\"colorbar\":{\"outlinewidth\":0,\"ticks\":\"\"}},\"type\":\"scatterpolar\"}],\"scatter\":[{\"marker\":{\"colorbar\":{\"outlinewidth\":0,\"ticks\":\"\"}},\"type\":\"scatter\"}],\"scatterternary\":[{\"marker\":{\"colorbar\":{\"outlinewidth\":0,\"ticks\":\"\"}},\"type\":\"scatterternary\"}],\"surface\":[{\"colorbar\":{\"outlinewidth\":0,\"ticks\":\"\"},\"colorscale\":[[0.0,\"#0d0887\"],[0.1111111111111111,\"#46039f\"],[0.2222222222222222,\"#7201a8\"],[0.3333333333333333,\"#9c179e\"],[0.4444444444444444,\"#bd3786\"],[0.5555555555555556,\"#d8576b\"],[0.6666666666666666,\"#ed7953\"],[0.7777777777777778,\"#fb9f3a\"],[0.8888888888888888,\"#fdca26\"],[1.0,\"#f0f921\"]],\"type\":\"surface\"}],\"table\":[{\"cells\":{\"fill\":{\"color\":\"#EBF0F8\"},\"line\":{\"color\":\"white\"}},\"header\":{\"fill\":{\"color\":\"#C8D4E3\"},\"line\":{\"color\":\"white\"}},\"type\":\"table\"}]},\"layout\":{\"annotationdefaults\":{\"arrowcolor\":\"#2a3f5f\",\"arrowhead\":0,\"arrowwidth\":1},\"autotypenumbers\":\"strict\",\"coloraxis\":{\"colorbar\":{\"outlinewidth\":0,\"ticks\":\"\"}},\"colorscale\":{\"diverging\":[[0,\"#8e0152\"],[0.1,\"#c51b7d\"],[0.2,\"#de77ae\"],[0.3,\"#f1b6da\"],[0.4,\"#fde0ef\"],[0.5,\"#f7f7f7\"],[0.6,\"#e6f5d0\"],[0.7,\"#b8e186\"],[0.8,\"#7fbc41\"],[0.9,\"#4d9221\"],[1,\"#276419\"]],\"sequential\":[[0.0,\"#0d0887\"],[0.1111111111111111,\"#46039f\"],[0.2222222222222222,\"#7201a8\"],[0.3333333333333333,\"#9c179e\"],[0.4444444444444444,\"#bd3786\"],[0.5555555555555556,\"#d8576b\"],[0.6666666666666666,\"#ed7953\"],[0.7777777777777778,\"#fb9f3a\"],[0.8888888888888888,\"#fdca26\"],[1.0,\"#f0f921\"]],\"sequentialminus\":[[0.0,\"#0d0887\"],[0.1111111111111111,\"#46039f\"],[0.2222222222222222,\"#7201a8\"],[0.3333333333333333,\"#9c179e\"],[0.4444444444444444,\"#bd3786\"],[0.5555555555555556,\"#d8576b\"],[0.6666666666666666,\"#ed7953\"],[0.7777777777777778,\"#fb9f3a\"],[0.8888888888888888,\"#fdca26\"],[1.0,\"#f0f921\"]]},\"colorway\":[\"#636efa\",\"#EF553B\",\"#00cc96\",\"#ab63fa\",\"#FFA15A\",\"#19d3f3\",\"#FF6692\",\"#B6E880\",\"#FF97FF\",\"#FECB52\"],\"font\":{\"color\":\"#2a3f5f\"},\"geo\":{\"bgcolor\":\"white\",\"lakecolor\":\"white\",\"landcolor\":\"#E5ECF6\",\"showlakes\":true,\"showland\":true,\"subunitcolor\":\"white\"},\"hoverlabel\":{\"align\":\"left\"},\"hovermode\":\"closest\",\"mapbox\":{\"style\":\"light\"},\"paper_bgcolor\":\"white\",\"plot_bgcolor\":\"#E5ECF6\",\"polar\":{\"angularaxis\":{\"gridcolor\":\"white\",\"linecolor\":\"white\",\"ticks\":\"\"},\"bgcolor\":\"#E5ECF6\",\"radialaxis\":{\"gridcolor\":\"white\",\"linecolor\":\"white\",\"ticks\":\"\"}},\"scene\":{\"xaxis\":{\"backgroundcolor\":\"#E5ECF6\",\"gridcolor\":\"white\",\"gridwidth\":2,\"linecolor\":\"white\",\"showbackground\":true,\"ticks\":\"\",\"zerolinecolor\":\"white\"},\"yaxis\":{\"backgroundcolor\":\"#E5ECF6\",\"gridcolor\":\"white\",\"gridwidth\":2,\"linecolor\":\"white\",\"showbackground\":true,\"ticks\":\"\",\"zerolinecolor\":\"white\"},\"zaxis\":{\"backgroundcolor\":\"#E5ECF6\",\"gridcolor\":\"white\",\"gridwidth\":2,\"linecolor\":\"white\",\"showbackground\":true,\"ticks\":\"\",\"zerolinecolor\":\"white\"}},\"shapedefaults\":{\"line\":{\"color\":\"#2a3f5f\"}},\"ternary\":{\"aaxis\":{\"gridcolor\":\"white\",\"linecolor\":\"white\",\"ticks\":\"\"},\"baxis\":{\"gridcolor\":\"white\",\"linecolor\":\"white\",\"ticks\":\"\"},\"bgcolor\":\"#E5ECF6\",\"caxis\":{\"gridcolor\":\"white\",\"linecolor\":\"white\",\"ticks\":\"\"}},\"title\":{\"x\":0.05},\"xaxis\":{\"automargin\":true,\"gridcolor\":\"white\",\"linecolor\":\"white\",\"ticks\":\"\",\"title\":{\"standoff\":15},\"zerolinecolor\":\"white\",\"zerolinewidth\":2},\"yaxis\":{\"automargin\":true,\"gridcolor\":\"white\",\"linecolor\":\"white\",\"ticks\":\"\",\"title\":{\"standoff\":15},\"zerolinecolor\":\"white\",\"zerolinewidth\":2}}},\"title\":{\"text\":\"Vote Count for each Decade\"},\"xaxis\":{\"title\":{\"text\":\"Decade\"}},\"yaxis\":{\"title\":{\"text\":\"Total Votes\"}}},                        {\"responsive\": true}                    ).then(function(){\n",
       "                            \n",
       "var gd = document.getElementById('3549006b-dd51-4a96-bc30-effbed22a508');\n",
       "var x = new MutationObserver(function (mutations, observer) {{\n",
       "        var display = window.getComputedStyle(gd).display;\n",
       "        if (!display || display === 'none') {{\n",
       "            console.log([gd, 'removed!']);\n",
       "            Plotly.purge(gd);\n",
       "            observer.disconnect();\n",
       "        }}\n",
       "}});\n",
       "\n",
       "// Listen for the removal of the full notebook cells\n",
       "var notebookContainer = gd.closest('#notebook-container');\n",
       "if (notebookContainer) {{\n",
       "    x.observe(notebookContainer, {childList: true});\n",
       "}}\n",
       "\n",
       "// Listen for the clearing of the current output cell\n",
       "var outputEl = gd.closest('.output');\n",
       "if (outputEl) {{\n",
       "    x.observe(outputEl, {childList: true});\n",
       "}}\n",
       "\n",
       "                        })                };                });            </script>        </div>"
      ]
     },
     "metadata": {},
     "output_type": "display_data"
    }
   ],
   "source": [
    "#average vote count per decade\n",
    "def extract_decade(x):\n",
    "    return str(math.floor(x/10)*10)+\"s\"\n",
    "movies[\"decade\"] = movies[\"year\"].apply(extract_decade)\n",
    "movies = movies.sort_values(by=['decade'], ascending=True)\n",
    "movies_by_vote = movies.groupby(['decade']).vote_count.sum().reset_index()\n",
    "bar_data = [go.Bar(x=movies_by_vote['decade']\\\n",
    "                   , y=movies_by_vote[\"vote_count\"],\n",
    "                     marker=dict(\n",
    "                        color='rgb(127,188,65)'\n",
    "                    ))]\n",
    "\n",
    "py.offline.iplot({ 'data': bar_data,\n",
    "            'layout': {\n",
    "               'title': 'Vote Count for each Decade',\n",
    "               'xaxis': {\n",
    "                 'title': 'Decade'},\n",
    "               'yaxis': {\n",
    "                'title': 'Total Votes'}\n",
    "        }})"
   ]
  },
  {
   "cell_type": "code",
   "execution_count": 757,
   "id": "f011aa6c",
   "metadata": {},
   "outputs": [
    {
     "data": {
      "text/html": [
       "<div>\n",
       "<style scoped>\n",
       "    .dataframe tbody tr th:only-of-type {\n",
       "        vertical-align: middle;\n",
       "    }\n",
       "\n",
       "    .dataframe tbody tr th {\n",
       "        vertical-align: top;\n",
       "    }\n",
       "\n",
       "    .dataframe thead th {\n",
       "        text-align: right;\n",
       "    }\n",
       "</style>\n",
       "<table border=\"1\" class=\"dataframe\">\n",
       "  <thead>\n",
       "    <tr style=\"text-align: right;\">\n",
       "      <th></th>\n",
       "      <th>director+count</th>\n",
       "      <th>vote_average</th>\n",
       "    </tr>\n",
       "  </thead>\n",
       "  <tbody>\n",
       "    <tr>\n",
       "      <th>2343</th>\n",
       "      <td>Quentin Tarantino (6)</td>\n",
       "      <td>7.516667</td>\n",
       "    </tr>\n",
       "    <tr>\n",
       "      <th>277</th>\n",
       "      <td>Billy Wilder (17)</td>\n",
       "      <td>7.505882</td>\n",
       "    </tr>\n",
       "    <tr>\n",
       "      <th>2695</th>\n",
       "      <td>Stanley Kubrick (13)</td>\n",
       "      <td>7.500000</td>\n",
       "    </tr>\n",
       "  </tbody>\n",
       "</table>\n",
       "</div>"
      ],
      "text/plain": [
       "             director+count  vote_average\n",
       "2343  Quentin Tarantino (6)      7.516667\n",
       "277       Billy Wilder (17)      7.505882\n",
       "2695   Stanley Kubrick (13)      7.500000"
      ]
     },
     "execution_count": 757,
     "metadata": {},
     "output_type": "execute_result"
    }
   ],
   "source": [
    "#finding directors who directed more than 5 movies with highest ratings\n",
    "director_df = movies.groupby('director', as_index=False)\n",
    "director_df = director_df.mean()\n",
    "name_counts = movies['director'].value_counts().to_dict() # dictionary of director and number of rows/movies per\n",
    "director_df['film_count'] = director_df['director'].map(name_counts)\n",
    "director_df['director+count'] = director_df['director'].map(str) + \" (\" + director_df['film_count'].map(str) + \")\"\n",
    "dir_means = director_df[['director+count',  'film_count']]\n",
    "dir_subset = director_df[director_df['film_count'] > 5]\n",
    "top10rat = dir_subset.sort_values(ascending = False, by = 'vote_average')[['director+count', 'vote_average']].head(10)\n",
    "top10rat.head(3)"
   ]
  },
  {
   "cell_type": "code",
   "execution_count": 758,
   "id": "285d6bde",
   "metadata": {},
   "outputs": [
    {
     "data": {
      "application/vnd.plotly.v1+json": {
       "config": {
        "linkText": "Export to plot.ly",
        "plotlyServerURL": "https://plot.ly",
        "showLink": false
       },
       "data": [
        {
         "marker": {
          "color": "rgb(67,162,202)"
         },
         "orientation": "h",
         "type": "bar",
         "x": [
          7.516666666666667,
          7.5058823529411764,
          7.5,
          7.5,
          7.471428571428571,
          7.366666666666667,
          7.3625,
          7.359999999999999,
          7.300000000000001,
          7.3
         ],
         "y": [
          "Quentin Tarantino (6)",
          "Billy Wilder (17)",
          "Stanley Kubrick (13)",
          "Frank Capra (8)",
          "Rocco Urbisci (7)",
          "David Fincher (6)",
          "James Cameron (8)",
          "David Lynch (10)",
          "Charles Chaplin (9)",
          "Peter Jackson (8)"
         ]
        }
       ],
       "layout": {
        "margin": {
         "b": 100,
         "l": 210,
         "pad": 1,
         "r": 100,
         "t": 100
        },
        "template": {
         "data": {
          "bar": [
           {
            "error_x": {
             "color": "#2a3f5f"
            },
            "error_y": {
             "color": "#2a3f5f"
            },
            "marker": {
             "line": {
              "color": "#E5ECF6",
              "width": 0.5
             },
             "pattern": {
              "fillmode": "overlay",
              "size": 10,
              "solidity": 0.2
             }
            },
            "type": "bar"
           }
          ],
          "barpolar": [
           {
            "marker": {
             "line": {
              "color": "#E5ECF6",
              "width": 0.5
             },
             "pattern": {
              "fillmode": "overlay",
              "size": 10,
              "solidity": 0.2
             }
            },
            "type": "barpolar"
           }
          ],
          "carpet": [
           {
            "aaxis": {
             "endlinecolor": "#2a3f5f",
             "gridcolor": "white",
             "linecolor": "white",
             "minorgridcolor": "white",
             "startlinecolor": "#2a3f5f"
            },
            "baxis": {
             "endlinecolor": "#2a3f5f",
             "gridcolor": "white",
             "linecolor": "white",
             "minorgridcolor": "white",
             "startlinecolor": "#2a3f5f"
            },
            "type": "carpet"
           }
          ],
          "choropleth": [
           {
            "colorbar": {
             "outlinewidth": 0,
             "ticks": ""
            },
            "type": "choropleth"
           }
          ],
          "contour": [
           {
            "colorbar": {
             "outlinewidth": 0,
             "ticks": ""
            },
            "colorscale": [
             [
              0,
              "#0d0887"
             ],
             [
              0.1111111111111111,
              "#46039f"
             ],
             [
              0.2222222222222222,
              "#7201a8"
             ],
             [
              0.3333333333333333,
              "#9c179e"
             ],
             [
              0.4444444444444444,
              "#bd3786"
             ],
             [
              0.5555555555555556,
              "#d8576b"
             ],
             [
              0.6666666666666666,
              "#ed7953"
             ],
             [
              0.7777777777777778,
              "#fb9f3a"
             ],
             [
              0.8888888888888888,
              "#fdca26"
             ],
             [
              1,
              "#f0f921"
             ]
            ],
            "type": "contour"
           }
          ],
          "contourcarpet": [
           {
            "colorbar": {
             "outlinewidth": 0,
             "ticks": ""
            },
            "type": "contourcarpet"
           }
          ],
          "heatmap": [
           {
            "colorbar": {
             "outlinewidth": 0,
             "ticks": ""
            },
            "colorscale": [
             [
              0,
              "#0d0887"
             ],
             [
              0.1111111111111111,
              "#46039f"
             ],
             [
              0.2222222222222222,
              "#7201a8"
             ],
             [
              0.3333333333333333,
              "#9c179e"
             ],
             [
              0.4444444444444444,
              "#bd3786"
             ],
             [
              0.5555555555555556,
              "#d8576b"
             ],
             [
              0.6666666666666666,
              "#ed7953"
             ],
             [
              0.7777777777777778,
              "#fb9f3a"
             ],
             [
              0.8888888888888888,
              "#fdca26"
             ],
             [
              1,
              "#f0f921"
             ]
            ],
            "type": "heatmap"
           }
          ],
          "heatmapgl": [
           {
            "colorbar": {
             "outlinewidth": 0,
             "ticks": ""
            },
            "colorscale": [
             [
              0,
              "#0d0887"
             ],
             [
              0.1111111111111111,
              "#46039f"
             ],
             [
              0.2222222222222222,
              "#7201a8"
             ],
             [
              0.3333333333333333,
              "#9c179e"
             ],
             [
              0.4444444444444444,
              "#bd3786"
             ],
             [
              0.5555555555555556,
              "#d8576b"
             ],
             [
              0.6666666666666666,
              "#ed7953"
             ],
             [
              0.7777777777777778,
              "#fb9f3a"
             ],
             [
              0.8888888888888888,
              "#fdca26"
             ],
             [
              1,
              "#f0f921"
             ]
            ],
            "type": "heatmapgl"
           }
          ],
          "histogram": [
           {
            "marker": {
             "pattern": {
              "fillmode": "overlay",
              "size": 10,
              "solidity": 0.2
             }
            },
            "type": "histogram"
           }
          ],
          "histogram2d": [
           {
            "colorbar": {
             "outlinewidth": 0,
             "ticks": ""
            },
            "colorscale": [
             [
              0,
              "#0d0887"
             ],
             [
              0.1111111111111111,
              "#46039f"
             ],
             [
              0.2222222222222222,
              "#7201a8"
             ],
             [
              0.3333333333333333,
              "#9c179e"
             ],
             [
              0.4444444444444444,
              "#bd3786"
             ],
             [
              0.5555555555555556,
              "#d8576b"
             ],
             [
              0.6666666666666666,
              "#ed7953"
             ],
             [
              0.7777777777777778,
              "#fb9f3a"
             ],
             [
              0.8888888888888888,
              "#fdca26"
             ],
             [
              1,
              "#f0f921"
             ]
            ],
            "type": "histogram2d"
           }
          ],
          "histogram2dcontour": [
           {
            "colorbar": {
             "outlinewidth": 0,
             "ticks": ""
            },
            "colorscale": [
             [
              0,
              "#0d0887"
             ],
             [
              0.1111111111111111,
              "#46039f"
             ],
             [
              0.2222222222222222,
              "#7201a8"
             ],
             [
              0.3333333333333333,
              "#9c179e"
             ],
             [
              0.4444444444444444,
              "#bd3786"
             ],
             [
              0.5555555555555556,
              "#d8576b"
             ],
             [
              0.6666666666666666,
              "#ed7953"
             ],
             [
              0.7777777777777778,
              "#fb9f3a"
             ],
             [
              0.8888888888888888,
              "#fdca26"
             ],
             [
              1,
              "#f0f921"
             ]
            ],
            "type": "histogram2dcontour"
           }
          ],
          "mesh3d": [
           {
            "colorbar": {
             "outlinewidth": 0,
             "ticks": ""
            },
            "type": "mesh3d"
           }
          ],
          "parcoords": [
           {
            "line": {
             "colorbar": {
              "outlinewidth": 0,
              "ticks": ""
             }
            },
            "type": "parcoords"
           }
          ],
          "pie": [
           {
            "automargin": true,
            "type": "pie"
           }
          ],
          "scatter": [
           {
            "marker": {
             "colorbar": {
              "outlinewidth": 0,
              "ticks": ""
             }
            },
            "type": "scatter"
           }
          ],
          "scatter3d": [
           {
            "line": {
             "colorbar": {
              "outlinewidth": 0,
              "ticks": ""
             }
            },
            "marker": {
             "colorbar": {
              "outlinewidth": 0,
              "ticks": ""
             }
            },
            "type": "scatter3d"
           }
          ],
          "scattercarpet": [
           {
            "marker": {
             "colorbar": {
              "outlinewidth": 0,
              "ticks": ""
             }
            },
            "type": "scattercarpet"
           }
          ],
          "scattergeo": [
           {
            "marker": {
             "colorbar": {
              "outlinewidth": 0,
              "ticks": ""
             }
            },
            "type": "scattergeo"
           }
          ],
          "scattergl": [
           {
            "marker": {
             "colorbar": {
              "outlinewidth": 0,
              "ticks": ""
             }
            },
            "type": "scattergl"
           }
          ],
          "scattermapbox": [
           {
            "marker": {
             "colorbar": {
              "outlinewidth": 0,
              "ticks": ""
             }
            },
            "type": "scattermapbox"
           }
          ],
          "scatterpolar": [
           {
            "marker": {
             "colorbar": {
              "outlinewidth": 0,
              "ticks": ""
             }
            },
            "type": "scatterpolar"
           }
          ],
          "scatterpolargl": [
           {
            "marker": {
             "colorbar": {
              "outlinewidth": 0,
              "ticks": ""
             }
            },
            "type": "scatterpolargl"
           }
          ],
          "scatterternary": [
           {
            "marker": {
             "colorbar": {
              "outlinewidth": 0,
              "ticks": ""
             }
            },
            "type": "scatterternary"
           }
          ],
          "surface": [
           {
            "colorbar": {
             "outlinewidth": 0,
             "ticks": ""
            },
            "colorscale": [
             [
              0,
              "#0d0887"
             ],
             [
              0.1111111111111111,
              "#46039f"
             ],
             [
              0.2222222222222222,
              "#7201a8"
             ],
             [
              0.3333333333333333,
              "#9c179e"
             ],
             [
              0.4444444444444444,
              "#bd3786"
             ],
             [
              0.5555555555555556,
              "#d8576b"
             ],
             [
              0.6666666666666666,
              "#ed7953"
             ],
             [
              0.7777777777777778,
              "#fb9f3a"
             ],
             [
              0.8888888888888888,
              "#fdca26"
             ],
             [
              1,
              "#f0f921"
             ]
            ],
            "type": "surface"
           }
          ],
          "table": [
           {
            "cells": {
             "fill": {
              "color": "#EBF0F8"
             },
             "line": {
              "color": "white"
             }
            },
            "header": {
             "fill": {
              "color": "#C8D4E3"
             },
             "line": {
              "color": "white"
             }
            },
            "type": "table"
           }
          ]
         },
         "layout": {
          "annotationdefaults": {
           "arrowcolor": "#2a3f5f",
           "arrowhead": 0,
           "arrowwidth": 1
          },
          "autotypenumbers": "strict",
          "coloraxis": {
           "colorbar": {
            "outlinewidth": 0,
            "ticks": ""
           }
          },
          "colorscale": {
           "diverging": [
            [
             0,
             "#8e0152"
            ],
            [
             0.1,
             "#c51b7d"
            ],
            [
             0.2,
             "#de77ae"
            ],
            [
             0.3,
             "#f1b6da"
            ],
            [
             0.4,
             "#fde0ef"
            ],
            [
             0.5,
             "#f7f7f7"
            ],
            [
             0.6,
             "#e6f5d0"
            ],
            [
             0.7,
             "#b8e186"
            ],
            [
             0.8,
             "#7fbc41"
            ],
            [
             0.9,
             "#4d9221"
            ],
            [
             1,
             "#276419"
            ]
           ],
           "sequential": [
            [
             0,
             "#0d0887"
            ],
            [
             0.1111111111111111,
             "#46039f"
            ],
            [
             0.2222222222222222,
             "#7201a8"
            ],
            [
             0.3333333333333333,
             "#9c179e"
            ],
            [
             0.4444444444444444,
             "#bd3786"
            ],
            [
             0.5555555555555556,
             "#d8576b"
            ],
            [
             0.6666666666666666,
             "#ed7953"
            ],
            [
             0.7777777777777778,
             "#fb9f3a"
            ],
            [
             0.8888888888888888,
             "#fdca26"
            ],
            [
             1,
             "#f0f921"
            ]
           ],
           "sequentialminus": [
            [
             0,
             "#0d0887"
            ],
            [
             0.1111111111111111,
             "#46039f"
            ],
            [
             0.2222222222222222,
             "#7201a8"
            ],
            [
             0.3333333333333333,
             "#9c179e"
            ],
            [
             0.4444444444444444,
             "#bd3786"
            ],
            [
             0.5555555555555556,
             "#d8576b"
            ],
            [
             0.6666666666666666,
             "#ed7953"
            ],
            [
             0.7777777777777778,
             "#fb9f3a"
            ],
            [
             0.8888888888888888,
             "#fdca26"
            ],
            [
             1,
             "#f0f921"
            ]
           ]
          },
          "colorway": [
           "#636efa",
           "#EF553B",
           "#00cc96",
           "#ab63fa",
           "#FFA15A",
           "#19d3f3",
           "#FF6692",
           "#B6E880",
           "#FF97FF",
           "#FECB52"
          ],
          "font": {
           "color": "#2a3f5f"
          },
          "geo": {
           "bgcolor": "white",
           "lakecolor": "white",
           "landcolor": "#E5ECF6",
           "showlakes": true,
           "showland": true,
           "subunitcolor": "white"
          },
          "hoverlabel": {
           "align": "left"
          },
          "hovermode": "closest",
          "mapbox": {
           "style": "light"
          },
          "paper_bgcolor": "white",
          "plot_bgcolor": "#E5ECF6",
          "polar": {
           "angularaxis": {
            "gridcolor": "white",
            "linecolor": "white",
            "ticks": ""
           },
           "bgcolor": "#E5ECF6",
           "radialaxis": {
            "gridcolor": "white",
            "linecolor": "white",
            "ticks": ""
           }
          },
          "scene": {
           "xaxis": {
            "backgroundcolor": "#E5ECF6",
            "gridcolor": "white",
            "gridwidth": 2,
            "linecolor": "white",
            "showbackground": true,
            "ticks": "",
            "zerolinecolor": "white"
           },
           "yaxis": {
            "backgroundcolor": "#E5ECF6",
            "gridcolor": "white",
            "gridwidth": 2,
            "linecolor": "white",
            "showbackground": true,
            "ticks": "",
            "zerolinecolor": "white"
           },
           "zaxis": {
            "backgroundcolor": "#E5ECF6",
            "gridcolor": "white",
            "gridwidth": 2,
            "linecolor": "white",
            "showbackground": true,
            "ticks": "",
            "zerolinecolor": "white"
           }
          },
          "shapedefaults": {
           "line": {
            "color": "#2a3f5f"
           }
          },
          "ternary": {
           "aaxis": {
            "gridcolor": "white",
            "linecolor": "white",
            "ticks": ""
           },
           "baxis": {
            "gridcolor": "white",
            "linecolor": "white",
            "ticks": ""
           },
           "bgcolor": "#E5ECF6",
           "caxis": {
            "gridcolor": "white",
            "linecolor": "white",
            "ticks": ""
           }
          },
          "title": {
           "x": 0.05
          },
          "xaxis": {
           "automargin": true,
           "gridcolor": "white",
           "linecolor": "white",
           "ticks": "",
           "title": {
            "standoff": 15
           },
           "zerolinecolor": "white",
           "zerolinewidth": 2
          },
          "yaxis": {
           "automargin": true,
           "gridcolor": "white",
           "linecolor": "white",
           "ticks": "",
           "title": {
            "standoff": 15
           },
           "zerolinecolor": "white",
           "zerolinewidth": 2
          }
         }
        },
        "title": {
         "text": "Average Movie Rating for Directors who have directed more than 5 movies"
        },
        "xaxis": {
         "title": {
          "text": "Average Rating"
         }
        },
        "yaxis": {
         "tickfont": {
          "size": 12
         },
         "title": {
          "text": "&nbsp;&nbsp;&nbsp;&nbsp;&nbsp;&nbsp;&nbsp;&nbsp;&nbsp;&nbsp;&nbsp;&nbsp;&nbsp;&nbsp;Director (Number of Movies)"
         }
        }
       }
      },
      "text/html": [
       "<div>                            <div id=\"dc852d90-cdd3-4572-b958-6271fe0c33ff\" class=\"plotly-graph-div\" style=\"height:525px; width:100%;\"></div>            <script type=\"text/javascript\">                require([\"plotly\"], function(Plotly) {                    window.PLOTLYENV=window.PLOTLYENV || {};                                    if (document.getElementById(\"dc852d90-cdd3-4572-b958-6271fe0c33ff\")) {                    Plotly.newPlot(                        \"dc852d90-cdd3-4572-b958-6271fe0c33ff\",                        [{\"marker\":{\"color\":\"rgb(67,162,202)\"},\"orientation\":\"h\",\"x\":[7.516666666666667,7.5058823529411764,7.5,7.5,7.471428571428571,7.366666666666667,7.3625,7.359999999999999,7.300000000000001,7.3],\"y\":[\"Quentin Tarantino (6)\",\"Billy Wilder (17)\",\"Stanley Kubrick (13)\",\"Frank Capra (8)\",\"Rocco Urbisci (7)\",\"David Fincher (6)\",\"James Cameron (8)\",\"David Lynch (10)\",\"Charles Chaplin (9)\",\"Peter Jackson (8)\"],\"type\":\"bar\"}],                        {\"margin\":{\"b\":100,\"l\":210,\"pad\":1,\"r\":100,\"t\":100},\"template\":{\"data\":{\"barpolar\":[{\"marker\":{\"line\":{\"color\":\"#E5ECF6\",\"width\":0.5},\"pattern\":{\"fillmode\":\"overlay\",\"size\":10,\"solidity\":0.2}},\"type\":\"barpolar\"}],\"bar\":[{\"error_x\":{\"color\":\"#2a3f5f\"},\"error_y\":{\"color\":\"#2a3f5f\"},\"marker\":{\"line\":{\"color\":\"#E5ECF6\",\"width\":0.5},\"pattern\":{\"fillmode\":\"overlay\",\"size\":10,\"solidity\":0.2}},\"type\":\"bar\"}],\"carpet\":[{\"aaxis\":{\"endlinecolor\":\"#2a3f5f\",\"gridcolor\":\"white\",\"linecolor\":\"white\",\"minorgridcolor\":\"white\",\"startlinecolor\":\"#2a3f5f\"},\"baxis\":{\"endlinecolor\":\"#2a3f5f\",\"gridcolor\":\"white\",\"linecolor\":\"white\",\"minorgridcolor\":\"white\",\"startlinecolor\":\"#2a3f5f\"},\"type\":\"carpet\"}],\"choropleth\":[{\"colorbar\":{\"outlinewidth\":0,\"ticks\":\"\"},\"type\":\"choropleth\"}],\"contourcarpet\":[{\"colorbar\":{\"outlinewidth\":0,\"ticks\":\"\"},\"type\":\"contourcarpet\"}],\"contour\":[{\"colorbar\":{\"outlinewidth\":0,\"ticks\":\"\"},\"colorscale\":[[0.0,\"#0d0887\"],[0.1111111111111111,\"#46039f\"],[0.2222222222222222,\"#7201a8\"],[0.3333333333333333,\"#9c179e\"],[0.4444444444444444,\"#bd3786\"],[0.5555555555555556,\"#d8576b\"],[0.6666666666666666,\"#ed7953\"],[0.7777777777777778,\"#fb9f3a\"],[0.8888888888888888,\"#fdca26\"],[1.0,\"#f0f921\"]],\"type\":\"contour\"}],\"heatmapgl\":[{\"colorbar\":{\"outlinewidth\":0,\"ticks\":\"\"},\"colorscale\":[[0.0,\"#0d0887\"],[0.1111111111111111,\"#46039f\"],[0.2222222222222222,\"#7201a8\"],[0.3333333333333333,\"#9c179e\"],[0.4444444444444444,\"#bd3786\"],[0.5555555555555556,\"#d8576b\"],[0.6666666666666666,\"#ed7953\"],[0.7777777777777778,\"#fb9f3a\"],[0.8888888888888888,\"#fdca26\"],[1.0,\"#f0f921\"]],\"type\":\"heatmapgl\"}],\"heatmap\":[{\"colorbar\":{\"outlinewidth\":0,\"ticks\":\"\"},\"colorscale\":[[0.0,\"#0d0887\"],[0.1111111111111111,\"#46039f\"],[0.2222222222222222,\"#7201a8\"],[0.3333333333333333,\"#9c179e\"],[0.4444444444444444,\"#bd3786\"],[0.5555555555555556,\"#d8576b\"],[0.6666666666666666,\"#ed7953\"],[0.7777777777777778,\"#fb9f3a\"],[0.8888888888888888,\"#fdca26\"],[1.0,\"#f0f921\"]],\"type\":\"heatmap\"}],\"histogram2dcontour\":[{\"colorbar\":{\"outlinewidth\":0,\"ticks\":\"\"},\"colorscale\":[[0.0,\"#0d0887\"],[0.1111111111111111,\"#46039f\"],[0.2222222222222222,\"#7201a8\"],[0.3333333333333333,\"#9c179e\"],[0.4444444444444444,\"#bd3786\"],[0.5555555555555556,\"#d8576b\"],[0.6666666666666666,\"#ed7953\"],[0.7777777777777778,\"#fb9f3a\"],[0.8888888888888888,\"#fdca26\"],[1.0,\"#f0f921\"]],\"type\":\"histogram2dcontour\"}],\"histogram2d\":[{\"colorbar\":{\"outlinewidth\":0,\"ticks\":\"\"},\"colorscale\":[[0.0,\"#0d0887\"],[0.1111111111111111,\"#46039f\"],[0.2222222222222222,\"#7201a8\"],[0.3333333333333333,\"#9c179e\"],[0.4444444444444444,\"#bd3786\"],[0.5555555555555556,\"#d8576b\"],[0.6666666666666666,\"#ed7953\"],[0.7777777777777778,\"#fb9f3a\"],[0.8888888888888888,\"#fdca26\"],[1.0,\"#f0f921\"]],\"type\":\"histogram2d\"}],\"histogram\":[{\"marker\":{\"pattern\":{\"fillmode\":\"overlay\",\"size\":10,\"solidity\":0.2}},\"type\":\"histogram\"}],\"mesh3d\":[{\"colorbar\":{\"outlinewidth\":0,\"ticks\":\"\"},\"type\":\"mesh3d\"}],\"parcoords\":[{\"line\":{\"colorbar\":{\"outlinewidth\":0,\"ticks\":\"\"}},\"type\":\"parcoords\"}],\"pie\":[{\"automargin\":true,\"type\":\"pie\"}],\"scatter3d\":[{\"line\":{\"colorbar\":{\"outlinewidth\":0,\"ticks\":\"\"}},\"marker\":{\"colorbar\":{\"outlinewidth\":0,\"ticks\":\"\"}},\"type\":\"scatter3d\"}],\"scattercarpet\":[{\"marker\":{\"colorbar\":{\"outlinewidth\":0,\"ticks\":\"\"}},\"type\":\"scattercarpet\"}],\"scattergeo\":[{\"marker\":{\"colorbar\":{\"outlinewidth\":0,\"ticks\":\"\"}},\"type\":\"scattergeo\"}],\"scattergl\":[{\"marker\":{\"colorbar\":{\"outlinewidth\":0,\"ticks\":\"\"}},\"type\":\"scattergl\"}],\"scattermapbox\":[{\"marker\":{\"colorbar\":{\"outlinewidth\":0,\"ticks\":\"\"}},\"type\":\"scattermapbox\"}],\"scatterpolargl\":[{\"marker\":{\"colorbar\":{\"outlinewidth\":0,\"ticks\":\"\"}},\"type\":\"scatterpolargl\"}],\"scatterpolar\":[{\"marker\":{\"colorbar\":{\"outlinewidth\":0,\"ticks\":\"\"}},\"type\":\"scatterpolar\"}],\"scatter\":[{\"marker\":{\"colorbar\":{\"outlinewidth\":0,\"ticks\":\"\"}},\"type\":\"scatter\"}],\"scatterternary\":[{\"marker\":{\"colorbar\":{\"outlinewidth\":0,\"ticks\":\"\"}},\"type\":\"scatterternary\"}],\"surface\":[{\"colorbar\":{\"outlinewidth\":0,\"ticks\":\"\"},\"colorscale\":[[0.0,\"#0d0887\"],[0.1111111111111111,\"#46039f\"],[0.2222222222222222,\"#7201a8\"],[0.3333333333333333,\"#9c179e\"],[0.4444444444444444,\"#bd3786\"],[0.5555555555555556,\"#d8576b\"],[0.6666666666666666,\"#ed7953\"],[0.7777777777777778,\"#fb9f3a\"],[0.8888888888888888,\"#fdca26\"],[1.0,\"#f0f921\"]],\"type\":\"surface\"}],\"table\":[{\"cells\":{\"fill\":{\"color\":\"#EBF0F8\"},\"line\":{\"color\":\"white\"}},\"header\":{\"fill\":{\"color\":\"#C8D4E3\"},\"line\":{\"color\":\"white\"}},\"type\":\"table\"}]},\"layout\":{\"annotationdefaults\":{\"arrowcolor\":\"#2a3f5f\",\"arrowhead\":0,\"arrowwidth\":1},\"autotypenumbers\":\"strict\",\"coloraxis\":{\"colorbar\":{\"outlinewidth\":0,\"ticks\":\"\"}},\"colorscale\":{\"diverging\":[[0,\"#8e0152\"],[0.1,\"#c51b7d\"],[0.2,\"#de77ae\"],[0.3,\"#f1b6da\"],[0.4,\"#fde0ef\"],[0.5,\"#f7f7f7\"],[0.6,\"#e6f5d0\"],[0.7,\"#b8e186\"],[0.8,\"#7fbc41\"],[0.9,\"#4d9221\"],[1,\"#276419\"]],\"sequential\":[[0.0,\"#0d0887\"],[0.1111111111111111,\"#46039f\"],[0.2222222222222222,\"#7201a8\"],[0.3333333333333333,\"#9c179e\"],[0.4444444444444444,\"#bd3786\"],[0.5555555555555556,\"#d8576b\"],[0.6666666666666666,\"#ed7953\"],[0.7777777777777778,\"#fb9f3a\"],[0.8888888888888888,\"#fdca26\"],[1.0,\"#f0f921\"]],\"sequentialminus\":[[0.0,\"#0d0887\"],[0.1111111111111111,\"#46039f\"],[0.2222222222222222,\"#7201a8\"],[0.3333333333333333,\"#9c179e\"],[0.4444444444444444,\"#bd3786\"],[0.5555555555555556,\"#d8576b\"],[0.6666666666666666,\"#ed7953\"],[0.7777777777777778,\"#fb9f3a\"],[0.8888888888888888,\"#fdca26\"],[1.0,\"#f0f921\"]]},\"colorway\":[\"#636efa\",\"#EF553B\",\"#00cc96\",\"#ab63fa\",\"#FFA15A\",\"#19d3f3\",\"#FF6692\",\"#B6E880\",\"#FF97FF\",\"#FECB52\"],\"font\":{\"color\":\"#2a3f5f\"},\"geo\":{\"bgcolor\":\"white\",\"lakecolor\":\"white\",\"landcolor\":\"#E5ECF6\",\"showlakes\":true,\"showland\":true,\"subunitcolor\":\"white\"},\"hoverlabel\":{\"align\":\"left\"},\"hovermode\":\"closest\",\"mapbox\":{\"style\":\"light\"},\"paper_bgcolor\":\"white\",\"plot_bgcolor\":\"#E5ECF6\",\"polar\":{\"angularaxis\":{\"gridcolor\":\"white\",\"linecolor\":\"white\",\"ticks\":\"\"},\"bgcolor\":\"#E5ECF6\",\"radialaxis\":{\"gridcolor\":\"white\",\"linecolor\":\"white\",\"ticks\":\"\"}},\"scene\":{\"xaxis\":{\"backgroundcolor\":\"#E5ECF6\",\"gridcolor\":\"white\",\"gridwidth\":2,\"linecolor\":\"white\",\"showbackground\":true,\"ticks\":\"\",\"zerolinecolor\":\"white\"},\"yaxis\":{\"backgroundcolor\":\"#E5ECF6\",\"gridcolor\":\"white\",\"gridwidth\":2,\"linecolor\":\"white\",\"showbackground\":true,\"ticks\":\"\",\"zerolinecolor\":\"white\"},\"zaxis\":{\"backgroundcolor\":\"#E5ECF6\",\"gridcolor\":\"white\",\"gridwidth\":2,\"linecolor\":\"white\",\"showbackground\":true,\"ticks\":\"\",\"zerolinecolor\":\"white\"}},\"shapedefaults\":{\"line\":{\"color\":\"#2a3f5f\"}},\"ternary\":{\"aaxis\":{\"gridcolor\":\"white\",\"linecolor\":\"white\",\"ticks\":\"\"},\"baxis\":{\"gridcolor\":\"white\",\"linecolor\":\"white\",\"ticks\":\"\"},\"bgcolor\":\"#E5ECF6\",\"caxis\":{\"gridcolor\":\"white\",\"linecolor\":\"white\",\"ticks\":\"\"}},\"title\":{\"x\":0.05},\"xaxis\":{\"automargin\":true,\"gridcolor\":\"white\",\"linecolor\":\"white\",\"ticks\":\"\",\"title\":{\"standoff\":15},\"zerolinecolor\":\"white\",\"zerolinewidth\":2},\"yaxis\":{\"automargin\":true,\"gridcolor\":\"white\",\"linecolor\":\"white\",\"ticks\":\"\",\"title\":{\"standoff\":15},\"zerolinecolor\":\"white\",\"zerolinewidth\":2}}},\"title\":{\"text\":\"Average Movie Rating for Directors who have directed more than 5 movies\"},\"xaxis\":{\"title\":{\"text\":\"Average Rating\"}},\"yaxis\":{\"tickfont\":{\"size\":12},\"title\":{\"text\":\"&nbsp;&nbsp;&nbsp;&nbsp;&nbsp;&nbsp;&nbsp;&nbsp;&nbsp;&nbsp;&nbsp;&nbsp;&nbsp;&nbsp;Director (Number of Movies)\"}}},                        {\"responsive\": true}                    ).then(function(){\n",
       "                            \n",
       "var gd = document.getElementById('dc852d90-cdd3-4572-b958-6271fe0c33ff');\n",
       "var x = new MutationObserver(function (mutations, observer) {{\n",
       "        var display = window.getComputedStyle(gd).display;\n",
       "        if (!display || display === 'none') {{\n",
       "            console.log([gd, 'removed!']);\n",
       "            Plotly.purge(gd);\n",
       "            observer.disconnect();\n",
       "        }}\n",
       "}});\n",
       "\n",
       "// Listen for the removal of the full notebook cells\n",
       "var notebookContainer = gd.closest('#notebook-container');\n",
       "if (notebookContainer) {{\n",
       "    x.observe(notebookContainer, {childList: true});\n",
       "}}\n",
       "\n",
       "// Listen for the clearing of the current output cell\n",
       "var outputEl = gd.closest('.output');\n",
       "if (outputEl) {{\n",
       "    x.observe(outputEl, {childList: true});\n",
       "}}\n",
       "\n",
       "                        })                };                });            </script>        </div>"
      ]
     },
     "metadata": {},
     "output_type": "display_data"
    }
   ],
   "source": [
    "#director vs ratings plot\n",
    "\n",
    "data = [go.Bar(\n",
    "            x=top10rat['vote_average'],\n",
    "            y=top10rat['director+count'],\n",
    "            orientation = 'h',\n",
    "            marker=dict(\n",
    "            color='rgb(67,162,202)'\n",
    "        )\n",
    ")]\n",
    "\n",
    "layout = dict(\n",
    "        title='Average Movie Rating for Directors who have directed more than 5 movies',\n",
    "        margin=go.Margin(\n",
    "        l=210,\n",
    "        r=100,\n",
    "        b=100,\n",
    "        t=100,\n",
    "        pad=1),\n",
    "            xaxis=dict(\n",
    "            title='Average Rating'\n",
    "        ),\n",
    "    \n",
    "        yaxis=dict(\n",
    "            title='&nbsp;&nbsp;&nbsp;&nbsp;&nbsp;&nbsp;&nbsp;&nbsp;&nbsp;&nbsp;&nbsp;&nbsp;&nbsp;&nbsp;Director (Number of Movies)',\n",
    "            tickfont=dict(\n",
    "                size=12,\n",
    "            )\n",
    "        )\n",
    "    \n",
    "    )\n",
    "\n",
    "fig = go.Figure(data = data, layout = layout)\n",
    "\n",
    "iplot(fig)"
   ]
  },
  {
   "cell_type": "code",
   "execution_count": null,
   "id": "6e573f47",
   "metadata": {},
   "outputs": [],
   "source": []
  }
 ],
 "metadata": {
  "kernelspec": {
   "display_name": "Python 3 (ipykernel)",
   "language": "python",
   "name": "python3"
  },
  "language_info": {
   "codemirror_mode": {
    "name": "ipython",
    "version": 3
   },
   "file_extension": ".py",
   "mimetype": "text/x-python",
   "name": "python",
   "nbconvert_exporter": "python",
   "pygments_lexer": "ipython3",
   "version": "3.9.7"
  }
 },
 "nbformat": 4,
 "nbformat_minor": 5
}
