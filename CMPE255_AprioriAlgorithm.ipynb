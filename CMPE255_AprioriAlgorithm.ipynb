{
  "nbformat": 4,
  "nbformat_minor": 0,
  "metadata": {
    "colab": {
      "name": "CMPE255_AprioriAlgorithm.ipynb",
      "provenance": []
    },
    "kernelspec": {
      "name": "python3",
      "display_name": "Python 3"
    },
    "language_info": {
      "name": "python"
    }
  },
  "cells": [
    {
      "cell_type": "code",
      "execution_count": 3,
      "metadata": {
        "colab": {
          "base_uri": "https://localhost:8080/"
        },
        "id": "mVa59OOpBWev",
        "outputId": "f76dc687-dcb9-47e1-ce64-eeaf174e133f"
      },
      "outputs": [
        {
          "output_type": "stream",
          "name": "stdout",
          "text": [
            "Collecting apyori\n",
            "  Downloading apyori-1.1.2.tar.gz (8.6 kB)\n",
            "Building wheels for collected packages: apyori\n",
            "  Building wheel for apyori (setup.py) ... \u001b[?25l\u001b[?25hdone\n",
            "  Created wheel for apyori: filename=apyori-1.1.2-py3-none-any.whl size=5974 sha256=a9d016c2e9df7c91840d134583f6dedaa02bc43c477841168e3d3823ced84a8a\n",
            "  Stored in directory: /root/.cache/pip/wheels/cb/f6/e1/57973c631d27efd1a2f375bd6a83b2a616c4021f24aab84080\n",
            "Successfully built apyori\n",
            "Installing collected packages: apyori\n",
            "Successfully installed apyori-1.1.2\n"
          ]
        }
      ],
      "source": [
        "#Installing apyori\n",
        "\n",
        "pip install apyori"
      ]
    },
    {
      "cell_type": "code",
      "source": [
        "#Importing all the necessary libraries\n",
        "\n",
        "import pandas as pd\n",
        "import numpy as np\n",
        "from apyori import apriori"
      ],
      "metadata": {
        "id": "_Fl6eCmaBiV_"
      },
      "execution_count": 141,
      "outputs": []
    },
    {
      "cell_type": "code",
      "source": [
        "#Loading and exploring the data\n",
        "\n",
        "dataset = pd.read_csv('Movies.csv', encoding='latin1',header=None)"
      ],
      "metadata": {
        "id": "DO7hXmj5B0D4"
      },
      "execution_count": 142,
      "outputs": []
    },
    {
      "cell_type": "code",
      "source": [
        "dataset"
      ],
      "metadata": {
        "colab": {
          "base_uri": "https://localhost:8080/",
          "height": 921
        },
        "id": "_UC7Pv8MB7Ww",
        "outputId": "a4801958-556d-4d18-af30-d97ccd63209c"
      },
      "execution_count": 143,
      "outputs": [
        {
          "output_type": "execute_result",
          "data": {
            "text/plain": [
              "              0             1           2                       3   \\\n",
              "0        revenue  vote_average  vote_count                   title   \n",
              "1        4300000           6.6         714              Four Rooms   \n",
              "2             12           6.4          96          Judgment Night   \n",
              "3      775398007           8.1        8550               Star Wars   \n",
              "4      940335536           7.7        8085            Finding Nemo   \n",
              "...          ...           ...         ...                     ...   \n",
              "9996           0           7.0           4  All the Kind Strangers   \n",
              "9997           0           6.3          20          Nothing Sacred   \n",
              "9998           0           0.0           0   The Old Swimmin' Hole   \n",
              "9999           0           5.0           2   Once Upon a Honeymoon   \n",
              "10000          0           6.2           8         Anthony Adverse   \n",
              "\n",
              "                      4             5   \\\n",
              "0      original_language  release_date   \n",
              "1                     en    1995-12-09   \n",
              "2                     en    1993-10-15   \n",
              "3                     en    1977-05-25   \n",
              "4                     en    2003-05-30   \n",
              "...                  ...           ...   \n",
              "9996                  en    1974-11-12   \n",
              "9997                  en    1937-11-25   \n",
              "9998                  en    1940-10-21   \n",
              "9999                  en    1956-01-01   \n",
              "10000                 en    1936-08-29   \n",
              "\n",
              "                                                      6   \\\n",
              "0                                   production_companies   \n",
              "1                             Miramax Films,A Band Apart   \n",
              "2      Universal Pictures,Largo Entertainment,JVC Ent...   \n",
              "3                             Lucasfilm,20th Century Fox   \n",
              "4                                                  Pixar   \n",
              "...                                                  ...   \n",
              "9996                               Cinemation Industries   \n",
              "9997                     Selznick International Pictures   \n",
              "9998                                   Monogram Pictures   \n",
              "9999                               Bell Telephone System   \n",
              "10000                              Warner Bros. Pictures   \n",
              "\n",
              "                                   7                                 8   \\\n",
              "0                production_countries                            genres   \n",
              "1            United States of America                      Crime,Comedy   \n",
              "2      Japan,United States of America             Action,Thriller,Crime   \n",
              "3            United States of America  Adventure,Action,Science Fiction   \n",
              "4            United States of America                  Animation,Family   \n",
              "...                               ...                               ...   \n",
              "9996         United States of America          Horror,Thriller,TV Movie   \n",
              "9997         United States of America              Comedy,Drama,Romance   \n",
              "9998         United States of America                             Drama   \n",
              "9999         United States of America              Comedy,Fantasy,Music   \n",
              "10000        United States of America              Action,Drama,Romance   \n",
              "\n",
              "                                                      9   \\\n",
              "0                                               director   \n",
              "1      Allison Anders,Alexandre Rockwell,Robert Rodri...   \n",
              "2                                        Stephen Hopkins   \n",
              "3                                           George Lucas   \n",
              "4                             Andrew Stanton,Lee Unkrich   \n",
              "...                                                  ...   \n",
              "9996                                          Joel Zwick   \n",
              "9997                                  William A. Wellman   \n",
              "9998                                   Robert F. McGowan   \n",
              "9999                                   Robert F. McGowan   \n",
              "10000                        Mervyn LeRoy,Michael Curtiz   \n",
              "\n",
              "                                                  10  \\\n",
              "0                                           producer   \n",
              "1      Lawrence Bender,Paul Hellerman,Scott Lambert,   \n",
              "2           Gene Levy,Christopher Mollo,Lloyd Segan,   \n",
              "3              Gary Kurtz,George Lucas,Rick McCallum   \n",
              "4           Jinko Gotoh,John Lasseter,Graham Walters   \n",
              "...                                              ...   \n",
              "9996      Jane Barclay,Sharon Harel,Manfred D. Heid,   \n",
              "9997                               David O. Selznick   \n",
              "9998                                 Scott R. Dunlap   \n",
              "9999                                 Scott R. Dunlap   \n",
              "10000      Henry Blanke,Hal B. Wallis,Jack L. Warner   \n",
              "\n",
              "                                                    11        12  \\\n",
              "0                                                 cast  runtimes   \n",
              "1        Sammi Davis,Amanda De Cadenet,Valeria Golino,        98   \n",
              "2         Emilio Estevez,Cuba Gooding Jr.,Denis Leary,       110   \n",
              "3             Mark Hamill,Harrison Ford,Carrie Fisher,       121   \n",
              "4       Albert Brooks,Ellen DeGeneres,Alexander Gould,       100   \n",
              "...                                                ...       ...   \n",
              "9996            Kim Basinger,John Corbett,Annie Potts,        90   \n",
              "9997   Carole Lombard,Fredric March,Charles Winninger,        77   \n",
              "9998       Marcia Mae Jones,Jackie Moran,Leatrice Joy,        81   \n",
              "9999       Marcia Mae Jones,Jackie Moran,Leatrice Joy,        81   \n",
              "10000  Fredric March,Olivia de Havilland,Donald Woods,       141   \n",
              "\n",
              "                                                      13  \n",
              "0                                                 writer  \n",
              "1      Allison Anders,Alexandre Rockwell,Robert Rodri...  \n",
              "2              Lewis Colick,Jere Cunningham,Lewis Colick  \n",
              "3                                           George Lucas  \n",
              "4            Andrew Stanton,Andrew Stanton,Bob Peterson,  \n",
              "...                                                  ...  \n",
              "9996                  Mitchell Ganem,Adam-Michael Garber  \n",
              "9997           Ben Hecht,James Street,David O. Selznick,  \n",
              "9998                  Dorothy Davenport,Gerald Breitigam  \n",
              "9999                  Dorothy Davenport,Gerald Breitigam  \n",
              "10000         Hervey Allen,Sheridan Gibney,Milton Krims,  \n",
              "\n",
              "[10001 rows x 14 columns]"
            ],
            "text/html": [
              "\n",
              "  <div id=\"df-9a67ea29-02de-41bb-b816-8f6f5f2720c8\">\n",
              "    <div class=\"colab-df-container\">\n",
              "      <div>\n",
              "<style scoped>\n",
              "    .dataframe tbody tr th:only-of-type {\n",
              "        vertical-align: middle;\n",
              "    }\n",
              "\n",
              "    .dataframe tbody tr th {\n",
              "        vertical-align: top;\n",
              "    }\n",
              "\n",
              "    .dataframe thead th {\n",
              "        text-align: right;\n",
              "    }\n",
              "</style>\n",
              "<table border=\"1\" class=\"dataframe\">\n",
              "  <thead>\n",
              "    <tr style=\"text-align: right;\">\n",
              "      <th></th>\n",
              "      <th>0</th>\n",
              "      <th>1</th>\n",
              "      <th>2</th>\n",
              "      <th>3</th>\n",
              "      <th>4</th>\n",
              "      <th>5</th>\n",
              "      <th>6</th>\n",
              "      <th>7</th>\n",
              "      <th>8</th>\n",
              "      <th>9</th>\n",
              "      <th>10</th>\n",
              "      <th>11</th>\n",
              "      <th>12</th>\n",
              "      <th>13</th>\n",
              "    </tr>\n",
              "  </thead>\n",
              "  <tbody>\n",
              "    <tr>\n",
              "      <th>0</th>\n",
              "      <td>revenue</td>\n",
              "      <td>vote_average</td>\n",
              "      <td>vote_count</td>\n",
              "      <td>title</td>\n",
              "      <td>original_language</td>\n",
              "      <td>release_date</td>\n",
              "      <td>production_companies</td>\n",
              "      <td>production_countries</td>\n",
              "      <td>genres</td>\n",
              "      <td>director</td>\n",
              "      <td>producer</td>\n",
              "      <td>cast</td>\n",
              "      <td>runtimes</td>\n",
              "      <td>writer</td>\n",
              "    </tr>\n",
              "    <tr>\n",
              "      <th>1</th>\n",
              "      <td>4300000</td>\n",
              "      <td>6.6</td>\n",
              "      <td>714</td>\n",
              "      <td>Four Rooms</td>\n",
              "      <td>en</td>\n",
              "      <td>1995-12-09</td>\n",
              "      <td>Miramax Films,A Band Apart</td>\n",
              "      <td>United States of America</td>\n",
              "      <td>Crime,Comedy</td>\n",
              "      <td>Allison Anders,Alexandre Rockwell,Robert Rodri...</td>\n",
              "      <td>Lawrence Bender,Paul Hellerman,Scott Lambert,</td>\n",
              "      <td>Sammi Davis,Amanda De Cadenet,Valeria Golino,</td>\n",
              "      <td>98</td>\n",
              "      <td>Allison Anders,Alexandre Rockwell,Robert Rodri...</td>\n",
              "    </tr>\n",
              "    <tr>\n",
              "      <th>2</th>\n",
              "      <td>12</td>\n",
              "      <td>6.4</td>\n",
              "      <td>96</td>\n",
              "      <td>Judgment Night</td>\n",
              "      <td>en</td>\n",
              "      <td>1993-10-15</td>\n",
              "      <td>Universal Pictures,Largo Entertainment,JVC Ent...</td>\n",
              "      <td>Japan,United States of America</td>\n",
              "      <td>Action,Thriller,Crime</td>\n",
              "      <td>Stephen Hopkins</td>\n",
              "      <td>Gene Levy,Christopher Mollo,Lloyd Segan,</td>\n",
              "      <td>Emilio Estevez,Cuba Gooding Jr.,Denis Leary,</td>\n",
              "      <td>110</td>\n",
              "      <td>Lewis Colick,Jere Cunningham,Lewis Colick</td>\n",
              "    </tr>\n",
              "    <tr>\n",
              "      <th>3</th>\n",
              "      <td>775398007</td>\n",
              "      <td>8.1</td>\n",
              "      <td>8550</td>\n",
              "      <td>Star Wars</td>\n",
              "      <td>en</td>\n",
              "      <td>1977-05-25</td>\n",
              "      <td>Lucasfilm,20th Century Fox</td>\n",
              "      <td>United States of America</td>\n",
              "      <td>Adventure,Action,Science Fiction</td>\n",
              "      <td>George Lucas</td>\n",
              "      <td>Gary Kurtz,George Lucas,Rick McCallum</td>\n",
              "      <td>Mark Hamill,Harrison Ford,Carrie Fisher,</td>\n",
              "      <td>121</td>\n",
              "      <td>George Lucas</td>\n",
              "    </tr>\n",
              "    <tr>\n",
              "      <th>4</th>\n",
              "      <td>940335536</td>\n",
              "      <td>7.7</td>\n",
              "      <td>8085</td>\n",
              "      <td>Finding Nemo</td>\n",
              "      <td>en</td>\n",
              "      <td>2003-05-30</td>\n",
              "      <td>Pixar</td>\n",
              "      <td>United States of America</td>\n",
              "      <td>Animation,Family</td>\n",
              "      <td>Andrew Stanton,Lee Unkrich</td>\n",
              "      <td>Jinko Gotoh,John Lasseter,Graham Walters</td>\n",
              "      <td>Albert Brooks,Ellen DeGeneres,Alexander Gould,</td>\n",
              "      <td>100</td>\n",
              "      <td>Andrew Stanton,Andrew Stanton,Bob Peterson,</td>\n",
              "    </tr>\n",
              "    <tr>\n",
              "      <th>...</th>\n",
              "      <td>...</td>\n",
              "      <td>...</td>\n",
              "      <td>...</td>\n",
              "      <td>...</td>\n",
              "      <td>...</td>\n",
              "      <td>...</td>\n",
              "      <td>...</td>\n",
              "      <td>...</td>\n",
              "      <td>...</td>\n",
              "      <td>...</td>\n",
              "      <td>...</td>\n",
              "      <td>...</td>\n",
              "      <td>...</td>\n",
              "      <td>...</td>\n",
              "    </tr>\n",
              "    <tr>\n",
              "      <th>9996</th>\n",
              "      <td>0</td>\n",
              "      <td>7.0</td>\n",
              "      <td>4</td>\n",
              "      <td>All the Kind Strangers</td>\n",
              "      <td>en</td>\n",
              "      <td>1974-11-12</td>\n",
              "      <td>Cinemation Industries</td>\n",
              "      <td>United States of America</td>\n",
              "      <td>Horror,Thriller,TV Movie</td>\n",
              "      <td>Joel Zwick</td>\n",
              "      <td>Jane Barclay,Sharon Harel,Manfred D. Heid,</td>\n",
              "      <td>Kim Basinger,John Corbett,Annie Potts,</td>\n",
              "      <td>90</td>\n",
              "      <td>Mitchell Ganem,Adam-Michael Garber</td>\n",
              "    </tr>\n",
              "    <tr>\n",
              "      <th>9997</th>\n",
              "      <td>0</td>\n",
              "      <td>6.3</td>\n",
              "      <td>20</td>\n",
              "      <td>Nothing Sacred</td>\n",
              "      <td>en</td>\n",
              "      <td>1937-11-25</td>\n",
              "      <td>Selznick International Pictures</td>\n",
              "      <td>United States of America</td>\n",
              "      <td>Comedy,Drama,Romance</td>\n",
              "      <td>William A. Wellman</td>\n",
              "      <td>David O. Selznick</td>\n",
              "      <td>Carole Lombard,Fredric March,Charles Winninger,</td>\n",
              "      <td>77</td>\n",
              "      <td>Ben Hecht,James Street,David O. Selznick,</td>\n",
              "    </tr>\n",
              "    <tr>\n",
              "      <th>9998</th>\n",
              "      <td>0</td>\n",
              "      <td>0.0</td>\n",
              "      <td>0</td>\n",
              "      <td>The Old Swimmin' Hole</td>\n",
              "      <td>en</td>\n",
              "      <td>1940-10-21</td>\n",
              "      <td>Monogram Pictures</td>\n",
              "      <td>United States of America</td>\n",
              "      <td>Drama</td>\n",
              "      <td>Robert F. McGowan</td>\n",
              "      <td>Scott R. Dunlap</td>\n",
              "      <td>Marcia Mae Jones,Jackie Moran,Leatrice Joy,</td>\n",
              "      <td>81</td>\n",
              "      <td>Dorothy Davenport,Gerald Breitigam</td>\n",
              "    </tr>\n",
              "    <tr>\n",
              "      <th>9999</th>\n",
              "      <td>0</td>\n",
              "      <td>5.0</td>\n",
              "      <td>2</td>\n",
              "      <td>Once Upon a Honeymoon</td>\n",
              "      <td>en</td>\n",
              "      <td>1956-01-01</td>\n",
              "      <td>Bell Telephone System</td>\n",
              "      <td>United States of America</td>\n",
              "      <td>Comedy,Fantasy,Music</td>\n",
              "      <td>Robert F. McGowan</td>\n",
              "      <td>Scott R. Dunlap</td>\n",
              "      <td>Marcia Mae Jones,Jackie Moran,Leatrice Joy,</td>\n",
              "      <td>81</td>\n",
              "      <td>Dorothy Davenport,Gerald Breitigam</td>\n",
              "    </tr>\n",
              "    <tr>\n",
              "      <th>10000</th>\n",
              "      <td>0</td>\n",
              "      <td>6.2</td>\n",
              "      <td>8</td>\n",
              "      <td>Anthony Adverse</td>\n",
              "      <td>en</td>\n",
              "      <td>1936-08-29</td>\n",
              "      <td>Warner Bros. Pictures</td>\n",
              "      <td>United States of America</td>\n",
              "      <td>Action,Drama,Romance</td>\n",
              "      <td>Mervyn LeRoy,Michael Curtiz</td>\n",
              "      <td>Henry Blanke,Hal B. Wallis,Jack L. Warner</td>\n",
              "      <td>Fredric March,Olivia de Havilland,Donald Woods,</td>\n",
              "      <td>141</td>\n",
              "      <td>Hervey Allen,Sheridan Gibney,Milton Krims,</td>\n",
              "    </tr>\n",
              "  </tbody>\n",
              "</table>\n",
              "<p>10001 rows × 14 columns</p>\n",
              "</div>\n",
              "      <button class=\"colab-df-convert\" onclick=\"convertToInteractive('df-9a67ea29-02de-41bb-b816-8f6f5f2720c8')\"\n",
              "              title=\"Convert this dataframe to an interactive table.\"\n",
              "              style=\"display:none;\">\n",
              "        \n",
              "  <svg xmlns=\"http://www.w3.org/2000/svg\" height=\"24px\"viewBox=\"0 0 24 24\"\n",
              "       width=\"24px\">\n",
              "    <path d=\"M0 0h24v24H0V0z\" fill=\"none\"/>\n",
              "    <path d=\"M18.56 5.44l.94 2.06.94-2.06 2.06-.94-2.06-.94-.94-2.06-.94 2.06-2.06.94zm-11 1L8.5 8.5l.94-2.06 2.06-.94-2.06-.94L8.5 2.5l-.94 2.06-2.06.94zm10 10l.94 2.06.94-2.06 2.06-.94-2.06-.94-.94-2.06-.94 2.06-2.06.94z\"/><path d=\"M17.41 7.96l-1.37-1.37c-.4-.4-.92-.59-1.43-.59-.52 0-1.04.2-1.43.59L10.3 9.45l-7.72 7.72c-.78.78-.78 2.05 0 2.83L4 21.41c.39.39.9.59 1.41.59.51 0 1.02-.2 1.41-.59l7.78-7.78 2.81-2.81c.8-.78.8-2.07 0-2.86zM5.41 20L4 18.59l7.72-7.72 1.47 1.35L5.41 20z\"/>\n",
              "  </svg>\n",
              "      </button>\n",
              "      \n",
              "  <style>\n",
              "    .colab-df-container {\n",
              "      display:flex;\n",
              "      flex-wrap:wrap;\n",
              "      gap: 12px;\n",
              "    }\n",
              "\n",
              "    .colab-df-convert {\n",
              "      background-color: #E8F0FE;\n",
              "      border: none;\n",
              "      border-radius: 50%;\n",
              "      cursor: pointer;\n",
              "      display: none;\n",
              "      fill: #1967D2;\n",
              "      height: 32px;\n",
              "      padding: 0 0 0 0;\n",
              "      width: 32px;\n",
              "    }\n",
              "\n",
              "    .colab-df-convert:hover {\n",
              "      background-color: #E2EBFA;\n",
              "      box-shadow: 0px 1px 2px rgba(60, 64, 67, 0.3), 0px 1px 3px 1px rgba(60, 64, 67, 0.15);\n",
              "      fill: #174EA6;\n",
              "    }\n",
              "\n",
              "    [theme=dark] .colab-df-convert {\n",
              "      background-color: #3B4455;\n",
              "      fill: #D2E3FC;\n",
              "    }\n",
              "\n",
              "    [theme=dark] .colab-df-convert:hover {\n",
              "      background-color: #434B5C;\n",
              "      box-shadow: 0px 1px 3px 1px rgba(0, 0, 0, 0.15);\n",
              "      filter: drop-shadow(0px 1px 2px rgba(0, 0, 0, 0.3));\n",
              "      fill: #FFFFFF;\n",
              "    }\n",
              "  </style>\n",
              "\n",
              "      <script>\n",
              "        const buttonEl =\n",
              "          document.querySelector('#df-9a67ea29-02de-41bb-b816-8f6f5f2720c8 button.colab-df-convert');\n",
              "        buttonEl.style.display =\n",
              "          google.colab.kernel.accessAllowed ? 'block' : 'none';\n",
              "\n",
              "        async function convertToInteractive(key) {\n",
              "          const element = document.querySelector('#df-9a67ea29-02de-41bb-b816-8f6f5f2720c8');\n",
              "          const dataTable =\n",
              "            await google.colab.kernel.invokeFunction('convertToInteractive',\n",
              "                                                     [key], {});\n",
              "          if (!dataTable) return;\n",
              "\n",
              "          const docLinkHtml = 'Like what you see? Visit the ' +\n",
              "            '<a target=\"_blank\" href=https://colab.research.google.com/notebooks/data_table.ipynb>data table notebook</a>'\n",
              "            + ' to learn more about interactive tables.';\n",
              "          element.innerHTML = '';\n",
              "          dataTable['output_type'] = 'display_data';\n",
              "          await google.colab.output.renderOutput(dataTable, element);\n",
              "          const docLink = document.createElement('div');\n",
              "          docLink.innerHTML = docLinkHtml;\n",
              "          element.appendChild(docLink);\n",
              "        }\n",
              "      </script>\n",
              "    </div>\n",
              "  </div>\n",
              "  "
            ]
          },
          "metadata": {},
          "execution_count": 143
        }
      ]
    },
    {
      "cell_type": "code",
      "source": [
        "#Visualising the data\n",
        "\n",
        "dataset.shape"
      ],
      "metadata": {
        "colab": {
          "base_uri": "https://localhost:8080/"
        },
        "id": "8WwrCXhaB9ir",
        "outputId": "8338ae22-d9f8-438a-8daa-49272f552878"
      },
      "execution_count": 144,
      "outputs": [
        {
          "output_type": "execute_result",
          "data": {
            "text/plain": [
              "(10001, 14)"
            ]
          },
          "metadata": {},
          "execution_count": 144
        }
      ]
    },
    {
      "cell_type": "code",
      "source": [
        "dataset.replace([np.inf, -np.inf], np.nan, inplace=True)\n",
        "# Drop rows with NaN\n",
        "dataset.dropna(inplace=True)\n",
        "print(dataset)"
      ],
      "metadata": {
        "colab": {
          "base_uri": "https://localhost:8080/"
        },
        "id": "O61N7ltADNtN",
        "outputId": "4dc65deb-0d73-4775-9f34-56c734fa92b9"
      },
      "execution_count": 145,
      "outputs": [
        {
          "output_type": "stream",
          "name": "stdout",
          "text": [
            "              0             1           2                       3   \\\n",
            "0        revenue  vote_average  vote_count                   title   \n",
            "1        4300000           6.6         714              Four Rooms   \n",
            "2             12           6.4          96          Judgment Night   \n",
            "3      775398007           8.1        8550               Star Wars   \n",
            "4      940335536           7.7        8085            Finding Nemo   \n",
            "...          ...           ...         ...                     ...   \n",
            "9996           0           7.0           4  All the Kind Strangers   \n",
            "9997           0           6.3          20          Nothing Sacred   \n",
            "9998           0           0.0           0   The Old Swimmin' Hole   \n",
            "9999           0           5.0           2   Once Upon a Honeymoon   \n",
            "10000          0           6.2           8         Anthony Adverse   \n",
            "\n",
            "                      4             5   \\\n",
            "0      original_language  release_date   \n",
            "1                     en    1995-12-09   \n",
            "2                     en    1993-10-15   \n",
            "3                     en    1977-05-25   \n",
            "4                     en    2003-05-30   \n",
            "...                  ...           ...   \n",
            "9996                  en    1974-11-12   \n",
            "9997                  en    1937-11-25   \n",
            "9998                  en    1940-10-21   \n",
            "9999                  en    1956-01-01   \n",
            "10000                 en    1936-08-29   \n",
            "\n",
            "                                                      6   \\\n",
            "0                                   production_companies   \n",
            "1                             Miramax Films,A Band Apart   \n",
            "2      Universal Pictures,Largo Entertainment,JVC Ent...   \n",
            "3                             Lucasfilm,20th Century Fox   \n",
            "4                                                  Pixar   \n",
            "...                                                  ...   \n",
            "9996                               Cinemation Industries   \n",
            "9997                     Selznick International Pictures   \n",
            "9998                                   Monogram Pictures   \n",
            "9999                               Bell Telephone System   \n",
            "10000                              Warner Bros. Pictures   \n",
            "\n",
            "                                   7                                 8   \\\n",
            "0                production_countries                            genres   \n",
            "1            United States of America                      Crime,Comedy   \n",
            "2      Japan,United States of America             Action,Thriller,Crime   \n",
            "3            United States of America  Adventure,Action,Science Fiction   \n",
            "4            United States of America                  Animation,Family   \n",
            "...                               ...                               ...   \n",
            "9996         United States of America          Horror,Thriller,TV Movie   \n",
            "9997         United States of America              Comedy,Drama,Romance   \n",
            "9998         United States of America                             Drama   \n",
            "9999         United States of America              Comedy,Fantasy,Music   \n",
            "10000        United States of America              Action,Drama,Romance   \n",
            "\n",
            "                                                      9   \\\n",
            "0                                               director   \n",
            "1      Allison Anders,Alexandre Rockwell,Robert Rodri...   \n",
            "2                                        Stephen Hopkins   \n",
            "3                                           George Lucas   \n",
            "4                             Andrew Stanton,Lee Unkrich   \n",
            "...                                                  ...   \n",
            "9996                                          Joel Zwick   \n",
            "9997                                  William A. Wellman   \n",
            "9998                                   Robert F. McGowan   \n",
            "9999                                   Robert F. McGowan   \n",
            "10000                        Mervyn LeRoy,Michael Curtiz   \n",
            "\n",
            "                                                  10  \\\n",
            "0                                           producer   \n",
            "1      Lawrence Bender,Paul Hellerman,Scott Lambert,   \n",
            "2           Gene Levy,Christopher Mollo,Lloyd Segan,   \n",
            "3              Gary Kurtz,George Lucas,Rick McCallum   \n",
            "4           Jinko Gotoh,John Lasseter,Graham Walters   \n",
            "...                                              ...   \n",
            "9996      Jane Barclay,Sharon Harel,Manfred D. Heid,   \n",
            "9997                               David O. Selznick   \n",
            "9998                                 Scott R. Dunlap   \n",
            "9999                                 Scott R. Dunlap   \n",
            "10000      Henry Blanke,Hal B. Wallis,Jack L. Warner   \n",
            "\n",
            "                                                    11        12  \\\n",
            "0                                                 cast  runtimes   \n",
            "1        Sammi Davis,Amanda De Cadenet,Valeria Golino,        98   \n",
            "2         Emilio Estevez,Cuba Gooding Jr.,Denis Leary,       110   \n",
            "3             Mark Hamill,Harrison Ford,Carrie Fisher,       121   \n",
            "4       Albert Brooks,Ellen DeGeneres,Alexander Gould,       100   \n",
            "...                                                ...       ...   \n",
            "9996            Kim Basinger,John Corbett,Annie Potts,        90   \n",
            "9997   Carole Lombard,Fredric March,Charles Winninger,        77   \n",
            "9998       Marcia Mae Jones,Jackie Moran,Leatrice Joy,        81   \n",
            "9999       Marcia Mae Jones,Jackie Moran,Leatrice Joy,        81   \n",
            "10000  Fredric March,Olivia de Havilland,Donald Woods,       141   \n",
            "\n",
            "                                                      13  \n",
            "0                                                 writer  \n",
            "1      Allison Anders,Alexandre Rockwell,Robert Rodri...  \n",
            "2              Lewis Colick,Jere Cunningham,Lewis Colick  \n",
            "3                                           George Lucas  \n",
            "4            Andrew Stanton,Andrew Stanton,Bob Peterson,  \n",
            "...                                                  ...  \n",
            "9996                  Mitchell Ganem,Adam-Michael Garber  \n",
            "9997           Ben Hecht,James Street,David O. Selznick,  \n",
            "9998                  Dorothy Davenport,Gerald Breitigam  \n",
            "9999                  Dorothy Davenport,Gerald Breitigam  \n",
            "10000         Hervey Allen,Sheridan Gibney,Milton Krims,  \n",
            "\n",
            "[8212 rows x 14 columns]\n"
          ]
        }
      ]
    },
    {
      "cell_type": "code",
      "source": [
        "#Converting the pandas dataframe into a list of lists\n",
        "\n",
        "records = []\n",
        "for i in range(0,8211):\n",
        "  records.append([str(dataset.values[i,j]) for j in range (0,14)])"
      ],
      "metadata": {
        "id": "J0rZu9DCCAs7"
      },
      "execution_count": 146,
      "outputs": []
    },
    {
      "cell_type": "code",
      "source": [
        "#Building a apriori model\n",
        "\n",
        "association_rules = apriori(records, min_support = 0.50, min_confidence= 0.5, min_lift=0.2,min_length=2)\n",
        "association_results = list(association_rules)"
      ],
      "metadata": {
        "id": "KiyRSYP7CTIa"
      },
      "execution_count": 147,
      "outputs": []
    },
    {
      "cell_type": "code",
      "source": [
        "#Getting the number of rules\n",
        "\n",
        "print(len(association_results))"
      ],
      "metadata": {
        "colab": {
          "base_uri": "https://localhost:8080/"
        },
        "id": "SwoFPnroCZVL",
        "outputId": "ab3b760f-5a58-48dd-edb3-2658b5b49440"
      },
      "execution_count": 148,
      "outputs": [
        {
          "output_type": "stream",
          "name": "stdout",
          "text": [
            "5\n"
          ]
        }
      ]
    },
    {
      "cell_type": "code",
      "source": [
        "#Glancing at the first rule\n",
        "\n",
        "print(association_results)"
      ],
      "metadata": {
        "colab": {
          "base_uri": "https://localhost:8080/"
        },
        "id": "d6cTGvJvCbIN",
        "outputId": "6601579a-0046-4cee-c45f-018abef9fafd"
      },
      "execution_count": 149,
      "outputs": [
        {
          "output_type": "stream",
          "name": "stdout",
          "text": [
            "[RelationRecord(items=frozenset({'0'}), support=0.5715503592741444, ordered_statistics=[OrderedStatistic(items_base=frozenset(), items_add=frozenset({'0'}), confidence=0.5715503592741444, lift=1.0)]), RelationRecord(items=frozenset({'United States of America'}), support=0.8118377785896967, ordered_statistics=[OrderedStatistic(items_base=frozenset(), items_add=frozenset({'United States of America'}), confidence=0.8118377785896967, lift=1.0)]), RelationRecord(items=frozenset({'en'}), support=0.9866033369869687, ordered_statistics=[OrderedStatistic(items_base=frozenset(), items_add=frozenset({'en'}), confidence=0.9866033369869687, lift=1.0)]), RelationRecord(items=frozenset({'en', '0'}), support=0.5615637559371575, ordered_statistics=[OrderedStatistic(items_base=frozenset(), items_add=frozenset({'en', '0'}), confidence=0.5615637559371575, lift=1.0), OrderedStatistic(items_base=frozenset({'0'}), items_add=frozenset({'en'}), confidence=0.982527168122736, lift=0.9958684825892835), OrderedStatistic(items_base=frozenset({'en'}), items_add=frozenset({'0'}), confidence=0.569188989013702, lift=0.9958684825892834)]), RelationRecord(items=frozenset({'en', 'United States of America'}), support=0.8083059310680794, ordered_statistics=[OrderedStatistic(items_base=frozenset(), items_add=frozenset({'en', 'United States of America'}), confidence=0.8083059310680794, lift=1.0), OrderedStatistic(items_base=frozenset({'United States of America'}), items_add=frozenset({'en'}), confidence=0.9956495649564956, lift=1.009169062814194), OrderedStatistic(items_base=frozenset({'en'}), items_add=frozenset({'United States of America'}), confidence=0.8192815701765214, lift=1.009169062814194)])]\n"
          ]
        }
      ]
    },
    {
      "cell_type": "code",
      "source": [
        "#Displaying all the association rules built by the model\n",
        "\n",
        "association_results"
      ],
      "metadata": {
        "colab": {
          "base_uri": "https://localhost:8080/"
        },
        "id": "ia3sStBrCck3",
        "outputId": "f6be8765-7b62-4a5c-b801-812d2ea484e3"
      },
      "execution_count": 150,
      "outputs": [
        {
          "output_type": "execute_result",
          "data": {
            "text/plain": [
              "[RelationRecord(items=frozenset({'0'}), support=0.5715503592741444, ordered_statistics=[OrderedStatistic(items_base=frozenset(), items_add=frozenset({'0'}), confidence=0.5715503592741444, lift=1.0)]),\n",
              " RelationRecord(items=frozenset({'United States of America'}), support=0.8118377785896967, ordered_statistics=[OrderedStatistic(items_base=frozenset(), items_add=frozenset({'United States of America'}), confidence=0.8118377785896967, lift=1.0)]),\n",
              " RelationRecord(items=frozenset({'en'}), support=0.9866033369869687, ordered_statistics=[OrderedStatistic(items_base=frozenset(), items_add=frozenset({'en'}), confidence=0.9866033369869687, lift=1.0)]),\n",
              " RelationRecord(items=frozenset({'en', '0'}), support=0.5615637559371575, ordered_statistics=[OrderedStatistic(items_base=frozenset(), items_add=frozenset({'en', '0'}), confidence=0.5615637559371575, lift=1.0), OrderedStatistic(items_base=frozenset({'0'}), items_add=frozenset({'en'}), confidence=0.982527168122736, lift=0.9958684825892835), OrderedStatistic(items_base=frozenset({'en'}), items_add=frozenset({'0'}), confidence=0.569188989013702, lift=0.9958684825892834)]),\n",
              " RelationRecord(items=frozenset({'en', 'United States of America'}), support=0.8083059310680794, ordered_statistics=[OrderedStatistic(items_base=frozenset(), items_add=frozenset({'en', 'United States of America'}), confidence=0.8083059310680794, lift=1.0), OrderedStatistic(items_base=frozenset({'United States of America'}), items_add=frozenset({'en'}), confidence=0.9956495649564956, lift=1.009169062814194), OrderedStatistic(items_base=frozenset({'en'}), items_add=frozenset({'United States of America'}), confidence=0.8192815701765214, lift=1.009169062814194)])]"
            ]
          },
          "metadata": {},
          "execution_count": 150
        }
      ]
    },
    {
      "cell_type": "code",
      "source": [
        "#Building another association rule by updating the min_support value to 0.7\n",
        "\n",
        "association_rules = apriori(records, min_support = 0.70, min_confidence= 0.5, min_lift=0.2,min_length=2)\n",
        "association_results = list(association_rules)"
      ],
      "metadata": {
        "id": "-wDlve07CetW"
      },
      "execution_count": 151,
      "outputs": []
    },
    {
      "cell_type": "code",
      "source": [
        "#Displaying the 3 association rules built by the model\n",
        "\n",
        "association_results"
      ],
      "metadata": {
        "colab": {
          "base_uri": "https://localhost:8080/"
        },
        "id": "mepsDvOBCneo",
        "outputId": "dc2607ce-b070-4466-9f2b-89f6322d3b69"
      },
      "execution_count": 152,
      "outputs": [
        {
          "output_type": "execute_result",
          "data": {
            "text/plain": [
              "[RelationRecord(items=frozenset({'United States of America'}), support=0.8118377785896967, ordered_statistics=[OrderedStatistic(items_base=frozenset(), items_add=frozenset({'United States of America'}), confidence=0.8118377785896967, lift=1.0)]),\n",
              " RelationRecord(items=frozenset({'en'}), support=0.9866033369869687, ordered_statistics=[OrderedStatistic(items_base=frozenset(), items_add=frozenset({'en'}), confidence=0.9866033369869687, lift=1.0)]),\n",
              " RelationRecord(items=frozenset({'en', 'United States of America'}), support=0.8083059310680794, ordered_statistics=[OrderedStatistic(items_base=frozenset(), items_add=frozenset({'en', 'United States of America'}), confidence=0.8083059310680794, lift=1.0), OrderedStatistic(items_base=frozenset({'United States of America'}), items_add=frozenset({'en'}), confidence=0.9956495649564956, lift=1.009169062814194), OrderedStatistic(items_base=frozenset({'en'}), items_add=frozenset({'United States of America'}), confidence=0.8192815701765214, lift=1.009169062814194)])]"
            ]
          },
          "metadata": {},
          "execution_count": 152
        }
      ]
    },
    {
      "cell_type": "code",
      "source": [
        "print(association_rules)"
      ],
      "metadata": {
        "colab": {
          "base_uri": "https://localhost:8080/"
        },
        "id": "4-cZh357KXpZ",
        "outputId": "1f11c922-55ca-4a76-97c5-6a41e9e02021"
      },
      "execution_count": 156,
      "outputs": [
        {
          "output_type": "stream",
          "name": "stdout",
          "text": [
            "<generator object apriori at 0x7f625b9efc50>\n"
          ]
        }
      ]
    },
    {
      "cell_type": "code",
      "source": [
        "print(association_results)"
      ],
      "metadata": {
        "colab": {
          "base_uri": "https://localhost:8080/"
        },
        "id": "byvU51VkLDV_",
        "outputId": "6592fa86-8941-447d-fdfd-1aaa4fef18bb"
      },
      "execution_count": 165,
      "outputs": [
        {
          "output_type": "stream",
          "name": "stdout",
          "text": [
            "[RelationRecord(items=frozenset({'United States of America'}), support=0.8118377785896967, ordered_statistics=[OrderedStatistic(items_base=frozenset(), items_add=frozenset({'United States of America'}), confidence=0.8118377785896967, lift=1.0)]), RelationRecord(items=frozenset({'en'}), support=0.9866033369869687, ordered_statistics=[OrderedStatistic(items_base=frozenset(), items_add=frozenset({'en'}), confidence=0.9866033369869687, lift=1.0)]), RelationRecord(items=frozenset({'en', 'United States of America'}), support=0.8083059310680794, ordered_statistics=[OrderedStatistic(items_base=frozenset(), items_add=frozenset({'en', 'United States of America'}), confidence=0.8083059310680794, lift=1.0), OrderedStatistic(items_base=frozenset({'United States of America'}), items_add=frozenset({'en'}), confidence=0.9956495649564956, lift=1.009169062814194), OrderedStatistic(items_base=frozenset({'en'}), items_add=frozenset({'United States of America'}), confidence=0.8192815701765214, lift=1.009169062814194)])]\n"
          ]
        }
      ]
    },
    {
      "cell_type": "code",
      "source": [
        ""
      ],
      "metadata": {
        "id": "epLzoZnGMZtL"
      },
      "execution_count": null,
      "outputs": []
    }
  ]
}